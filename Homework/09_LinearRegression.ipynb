{
 "cells": [
  {
   "cell_type": "markdown",
   "id": "3023a84e",
   "metadata": {},
   "source": [
    "# Homework 9: Linear Regression"
   ]
  },
  {
   "cell_type": "markdown",
   "id": "8bc9b97e",
   "metadata": {},
   "source": [
    "Following is weather data measured by our weather station here at Snow College. We are going to use this data to perform a linear regression. The goal will be to predict the relative humidity based on the other data.\n",
    "\n",
    "* [Snow College Weather Data](https://raw.githubusercontent.com/drolsonmi/math3280/refs/heads/master/Notes/data/Snow%20Weather_Daily.csv)\n",
    "\n",
    "Documentation for weather data:\n",
    "* 'AirTF_Avg' = Average air temperature in Fahrenheit\n",
    "* 'AirTF_Max' = Maximum air temperature in Fahrenheit\n",
    "* 'AirTF_Min' = Maximum air temperature in Fahrenheit\n",
    "* 'RH_Avg' = Average daily relative humidity\n",
    "* 'WindGust' = Maximum wind gust (maximum singular wind speed)\n",
    "* 'AveWindSp' = Average wind speed\n",
    "* 'WindDir' = Wind direction\n",
    "* 'BP_inHg_Avg' = Barometric Pressure in inches of mercury (inHg)\n",
    "* 'Rain_Tot' = Total daily rainfall in inches\n",
    "* 'TdC_Min' = Minimum dew point temperature in Celsius\n",
    "* 'TdC_Max' = Maximum dew point temperature in Celsius\n",
    "\n",
    "All other columns will not be needed for these assignments. So, load the data and drop all other columns. Also note that the first three rows are header rows. Keep the first as column headers, but remove the next two rows."
   ]
  },
  {
   "cell_type": "markdown",
   "id": "49aa4798",
   "metadata": {},
   "source": [
    "1. Is this dataset overdetermined or underdetermined?\n",
    "2. Based on your answer from question 1, which of the following would you expect?\n",
    "3. Perform a linear regression just between Temperature (`AirTF_Avg`) and Relative Humidity (`RH_Avg`). Use the SVDs method to complete the linear regression. What is the value of the bias?\n",
    "4. What is the value of the parameter?\n",
    "5. Use the bias and parameter to predict the relative humidity if the temperature is $T$.\n",
    "6. The correlation coefficient is found using the equation below. Find this correlation between temperature and humidity.\n",
    "    $$r = \\frac{1}{n-1}\\sum \\frac{x-\\bar{x}}{s_x}\\frac{y-\\bar{y}}{s_y}$$\n",
    "\n",
    "\n",
    "Notice that the regression is not perfect. That is because other variables come into play. We will now create a linear regression to predict the relative humidity based on all other variables.\n",
    "\n",
    "7. Create a linear regression to predict the relative humidity based on all other variables using the SVD method. Copy the code here.\n",
    "8. Running this on the data, identify the bias and the parameters.\n",
    "9. What is the parameter associated with Barometric Pressure?\n",
    "10. Predict the Relative Humidity with the following variables:\n",
    "    * Temperature = $T$\n",
    "    * Maximum Temperature = $X$\n",
    "    * Minimum Temperature = $N$\n",
    "    * Peak Wind Gust = $G$\n",
    "    * Average Wind Speed = $W$\n",
    "    * Wind Dir = 180\n",
    "    * Barometric Pressure = $P$\n",
    "    * Rain Total = 0\n",
    "    * Maximum Dew Point Temperature = $D$\n",
    "    * Minimum Dew Point Temperature = $E$"
   ]
  },
  {
   "cell_type": "code",
   "execution_count": null,
   "id": "64ce6db5",
   "metadata": {},
   "outputs": [],
   "source": []
  },
  {
   "cell_type": "markdown",
   "id": "07d5eb02",
   "metadata": {},
   "source": [
    "-----"
   ]
  },
  {
   "cell_type": "code",
   "execution_count": null,
   "id": "0edef0c1",
   "metadata": {},
   "outputs": [],
   "source": [
    "import numpy as numpy\n",
    "import pandas as pd\n",
    "\n",
    "wx = pd.read_csv(\"./data/Snow Weather_Daily.csv\", header=1)\n",
    "\n",
    "wx.drop(['TIMESTAMP', 'RECORD', 'AirTF_TMx',\n",
    "       'AirTF_TMn', 'RH_Max', 'RH_TMx', 'RH_Min',\n",
    "       'RH_TMn', 'WS_mph_TMx',\n",
    "       'WindDir_SD', 'BP_inHg_Max', 'BP_inHg_TMx',\n",
    "       'BP_inHg_Min', 'BP_inHg_TMn', 'SlrkW_Max', 'HeatedPrecip_Tot',\n",
    "       'WC_C_Min', 'HI_C_Max'], inplace=True, axis=1)\n",
    "\n",
    "wx = wx.tail(len(wx)-2)"
   ]
  },
  {
   "cell_type": "markdown",
   "id": "f1e89cb4",
   "metadata": {},
   "source": [
    "-----"
   ]
  },
  {
   "cell_type": "code",
   "execution_count": 29,
   "id": "53f580c2",
   "metadata": {},
   "outputs": [
    {
     "data": {
      "text/html": [
       "<div>\n",
       "<style scoped>\n",
       "    .dataframe tbody tr th:only-of-type {\n",
       "        vertical-align: middle;\n",
       "    }\n",
       "\n",
       "    .dataframe tbody tr th {\n",
       "        vertical-align: top;\n",
       "    }\n",
       "\n",
       "    .dataframe thead th {\n",
       "        text-align: right;\n",
       "    }\n",
       "</style>\n",
       "<table border=\"1\" class=\"dataframe\">\n",
       "  <thead>\n",
       "    <tr style=\"text-align: right;\">\n",
       "      <th></th>\n",
       "      <th>AirTF_Avg</th>\n",
       "      <th>AirTF_Max</th>\n",
       "      <th>AirTF_Min</th>\n",
       "      <th>RH_Avg</th>\n",
       "      <th>WindGust</th>\n",
       "      <th>AveWindSp</th>\n",
       "      <th>WindDir</th>\n",
       "      <th>BP_inHg_Avg</th>\n",
       "      <th>Rain_Tot</th>\n",
       "      <th>TdC_Min</th>\n",
       "      <th>TdC_Max</th>\n",
       "    </tr>\n",
       "  </thead>\n",
       "  <tbody>\n",
       "    <tr>\n",
       "      <th>2</th>\n",
       "      <td>61.76</td>\n",
       "      <td>72.20</td>\n",
       "      <td>50.01</td>\n",
       "      <td>54.66</td>\n",
       "      <td>29.81</td>\n",
       "      <td>5.476863</td>\n",
       "      <td>54.21596</td>\n",
       "      <td>30.08</td>\n",
       "      <td>0.13</td>\n",
       "      <td>41.22</td>\n",
       "      <td>51.29</td>\n",
       "    </tr>\n",
       "    <tr>\n",
       "      <th>3</th>\n",
       "      <td>57.03</td>\n",
       "      <td>73.42</td>\n",
       "      <td>45.86</td>\n",
       "      <td>65.27</td>\n",
       "      <td>22.14</td>\n",
       "      <td>2.771693</td>\n",
       "      <td>86.26220</td>\n",
       "      <td>30.04</td>\n",
       "      <td>0.01</td>\n",
       "      <td>43.28</td>\n",
       "      <td>54.33</td>\n",
       "    </tr>\n",
       "    <tr>\n",
       "      <th>4</th>\n",
       "      <td>57.60</td>\n",
       "      <td>73.42</td>\n",
       "      <td>41.83</td>\n",
       "      <td>58.28</td>\n",
       "      <td>23.89</td>\n",
       "      <td>2.735624</td>\n",
       "      <td>158.06330</td>\n",
       "      <td>30.01</td>\n",
       "      <td>0.00</td>\n",
       "      <td>38.68</td>\n",
       "      <td>51.87</td>\n",
       "    </tr>\n",
       "    <tr>\n",
       "      <th>5</th>\n",
       "      <td>58.63</td>\n",
       "      <td>75.01</td>\n",
       "      <td>44.28</td>\n",
       "      <td>56.97</td>\n",
       "      <td>18.63</td>\n",
       "      <td>2.876131</td>\n",
       "      <td>133.46290</td>\n",
       "      <td>30.06</td>\n",
       "      <td>0.00</td>\n",
       "      <td>40.65</td>\n",
       "      <td>53.12</td>\n",
       "    </tr>\n",
       "    <tr>\n",
       "      <th>6</th>\n",
       "      <td>61.61</td>\n",
       "      <td>78.68</td>\n",
       "      <td>41.47</td>\n",
       "      <td>51.57</td>\n",
       "      <td>18.19</td>\n",
       "      <td>2.283650</td>\n",
       "      <td>354.96510</td>\n",
       "      <td>30.10</td>\n",
       "      <td>0.00</td>\n",
       "      <td>38.23</td>\n",
       "      <td>52.72</td>\n",
       "    </tr>\n",
       "  </tbody>\n",
       "</table>\n",
       "</div>"
      ],
      "text/plain": [
       "   AirTF_Avg  AirTF_Max  AirTF_Min  RH_Avg  WindGust  AveWindSp    WindDir  \\\n",
       "2      61.76      72.20      50.01   54.66     29.81   5.476863   54.21596   \n",
       "3      57.03      73.42      45.86   65.27     22.14   2.771693   86.26220   \n",
       "4      57.60      73.42      41.83   58.28     23.89   2.735624  158.06330   \n",
       "5      58.63      75.01      44.28   56.97     18.63   2.876131  133.46290   \n",
       "6      61.61      78.68      41.47   51.57     18.19   2.283650  354.96510   \n",
       "\n",
       "   BP_inHg_Avg  Rain_Tot  TdC_Min  TdC_Max  \n",
       "2        30.08      0.13    41.22    51.29  \n",
       "3        30.04      0.01    43.28    54.33  \n",
       "4        30.01      0.00    38.68    51.87  \n",
       "5        30.06      0.00    40.65    53.12  \n",
       "6        30.10      0.00    38.23    52.72  "
      ]
     },
     "execution_count": 29,
     "metadata": {},
     "output_type": "execute_result"
    }
   ],
   "source": [
    "import numpy as np\n",
    "import pandas as pd\n",
    "\n",
    "wx = pd.read_csv(\"https://raw.githubusercontent.com/drolsonmi/math3280/refs/heads/master/Notes/data/Snow%20Weather_Daily.csv\", header=1)\n",
    "wx.drop([0,1], inplace=True, axis=0)\n",
    "wx.drop(['TIMESTAMP', 'RECORD', 'AirTF_TMx',\n",
    "       'AirTF_TMn', 'RH_Max', 'RH_TMx', 'RH_Min',\n",
    "       'RH_TMn', 'WS_mph_TMx',\n",
    "       'WindDir_SD', 'BP_inHg_Max', 'BP_inHg_TMx',\n",
    "       'BP_inHg_Min', 'BP_inHg_TMn', 'SlrkW_Max', 'HeatedPrecip_Tot',\n",
    "       'WC_C_Min', 'HI_C_Max'], inplace=True, axis=1)\n",
    "\n",
    "wx = wx.apply(pd.to_numeric, errors='coerce')\n",
    "wx.head()"
   ]
  },
  {
   "cell_type": "markdown",
   "id": "3c925cf2",
   "metadata": {},
   "source": [
    "-----"
   ]
  },
  {
   "cell_type": "code",
   "execution_count": 1,
   "id": "9f136272",
   "metadata": {},
   "outputs": [],
   "source": [
    "# 1. Overdetermined"
   ]
  },
  {
   "cell_type": "code",
   "execution_count": 2,
   "id": "1d8e10a2",
   "metadata": {},
   "outputs": [],
   "source": [
    "# 2. There are likely no solutions"
   ]
  },
  {
   "cell_type": "code",
   "execution_count": 34,
   "id": "ec28cef6",
   "metadata": {},
   "outputs": [
    {
     "name": "stdout",
     "output_type": "stream",
     "text": [
      "Theta =  [45.09677536  0.14501   ]\n"
     ]
    }
   ],
   "source": [
    "# 3. Lin Reg between T and RH using SVDs\n",
    "# X = wx['AirTF_Avg'].to_numpy().reshape(-1, 1)\n",
    "# X = np.insert(X, 0, 1, axis=1)  # add intercept term\n",
    "X = np.array([[1, t] for t in wx['AirTF_Avg'].to_numpy()])\n",
    "y = wx['RH_Avg'].to_numpy()\n",
    "\n",
    "U, S, VT = np.linalg.svd(X, full_matrices=False)\n",
    "S_inv = np.linalg.inv(np.diag(S))\n",
    "X_pinv = VT.T @ S_inv @ U.T\n",
    "\n",
    "Theta = X_pinv @ y\n",
    "print(\"Theta = \", Theta)"
   ]
  },
  {
   "cell_type": "code",
   "execution_count": 36,
   "id": "e44d936e",
   "metadata": {},
   "outputs": [
    {
     "data": {
      "image/png": "[encoded data removed]",
      "text/plain": [
       "<Figure size 640x480 with 1 Axes>"
      ]
     },
     "metadata": {},
     "output_type": "display_data"
    }
   ],
   "source": [
    "import matplotlib.pyplot as plt\n",
    "\n",
    "plt.scatter(wx['AirTF_Avg'], wx['RH_Avg'])\n",
    "x = np.linspace(wx['AirTF_Avg'].min(), wx['AirTF_Avg'].max(), 100)\n",
    "y_pred = Theta[0] + Theta[1] * x\n",
    "plt.plot(x, y_pred, color='red')\n",
    "plt.xlabel('Air Temperature (°F)')\n",
    "plt.ylabel('Relative Humidity (%)')\n",
    "plt.title('Linear Regression of RH vs Air Temperature')\n",
    "plt.show()"
   ]
  },
  {
   "cell_type": "code",
   "execution_count": null,
   "id": "a8ccbfbf",
   "metadata": {},
   "outputs": [],
   "source": []
  }
 ],
 "metadata": {
  "kernelspec": {
   "display_name": "DataScience",
   "language": "python",
   "name": "python3"
  },
  "language_info": {
   "codemirror_mode": {
    "name": "ipython",
    "version": 3
   },
   "file_extension": ".py",
   "mimetype": "text/x-python",
   "name": "python",
   "nbconvert_exporter": "python",
   "pygments_lexer": "ipython3",
   "version": "3.12.9"
  }
 },
 "nbformat": 4,
 "nbformat_minor": 5
}

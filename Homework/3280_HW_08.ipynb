{
 "cells": [
  {
   "cell_type": "markdown",
   "metadata": {},
   "source": [
    "# Math 3280 - Homework 8: SVD\n",
    "(Not complete yet)\n",
    "\n",
    "1. Explain how the Economy SVD works\n",
    "    * ( )"
   ]
  },
  {
   "cell_type": "markdown",
   "metadata": {},
   "source": [
    "2. Download this image and load it into Python: [SnowCollege_Winter.jpeg on GitHub page](https://raw.githubusercontent.com/drolsonmi/math3280/master/Homework/Data/SnowCollege_Winter.jpeg)\n",
    "<br><img src=\"https://raw.githubusercontent.com/drolsonmi/math3280/master/Homework/Data/SnowCollege_Winter.jpeg\" alt=\"Snow College Campus after a heavy frost\" width=450>\n",
    "    * Convert the image to grayscale and perform an SVD to the image\n",
    "    * Plot the Singular Values and the cumulative percentages of the Singular Values\n",
    "    * How many ranks (columns) do I need to restore an image to 80% quality? Find an exact number, don't just estimate from the graph.\n",
    "    * Restore the image to 80% quality."
   ]
  },
  {
   "cell_type": "code",
   "execution_count": null,
   "metadata": {},
   "outputs": [],
   "source": []
  },
  {
   "cell_type": "code",
   "execution_count": null,
   "metadata": {},
   "outputs": [],
   "source": []
  },
  {
   "cell_type": "code",
   "execution_count": null,
   "metadata": {},
   "outputs": [],
   "source": []
  }
 ],
 "metadata": {
  "kernelspec": {
   "display_name": "DataMining",
   "language": "python",
   "name": "python3"
  },
  "language_info": {
   "codemirror_mode": {
    "name": "ipython",
    "version": 3
   },
   "file_extension": ".py",
   "mimetype": "text/x-python",
   "name": "python",
   "nbconvert_exporter": "python",
   "pygments_lexer": "ipython3",
   "version": "3.9.14"
  }
 },
 "nbformat": 4,
 "nbformat_minor": 2
}

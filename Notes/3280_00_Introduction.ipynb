{
 "cells": [
  {
   "cell_type": "markdown",
   "metadata": {},
   "source": [
    "# Lecture 1 Introduction and Math Review\n",
    "__Math 3280: Data Mining__\n",
    "\n",
    "__Outline__\n",
    "1. Introduction to the course\n",
    "2. What is Data Mining?\n",
    "3. Linear Algebra Review\n",
    "\n",
    "__Reading__ \n",
    "* Leskovec, Sections 1.1 and 1.3"
   ]
  },
  {
   "cell_type": "markdown",
   "metadata": {},
   "source": [
    "## Introduction to the course\n",
    "What was covered last semester in 3080:\n",
    "* Python basics\n",
    "* Loading and cleaning data\n",
    "* Graphing\n",
    "* Statistics Review\n",
    "* Regression (Linear, Logistic)\n",
    "\n",
    "About this course:\n",
    "* The course is set up the same way as MATH 3080 was set up\n",
    "* Show the GitHub page which contains\n",
    "  * Syllabus\n",
    "  * Schedule (Open and quickly outline)\n",
    "  * Textbooks (Open and show where to get the textbooks)\n",
    "  * My notes\n",
    "* Using Python in this class\n",
    "* DataCamp\n",
    "  * May occasionally have some assignments through DataCamp\n",
    "  * Primarily you have access to learn about Python, SQL, R, and Machine Learning principles\n",
    "\n",
    "## What is Data Mining?\n",
    "* Data mining is the process of getting info from data. Really, all three semesters can be summarized as Data Mining\n",
    "  * Originally known as \"Data Dredging\", it was the process of trying to extract information that isn't always supported by the data. Not the most glamorous part of a statistician's job\n",
    "  * Later it focused more as \"Big Data\", which is gleaning information from large amounts of data\n",
    "  * Now known as \"Data Mining\", we now extract this information for the purpose of creating a model (which gets into adaptive modelling, or \"Machine Learning\")\n",
    "* This semester, we focus on Big Data: handling and managing large amounts of data\n",
    "\n",
    "How do we get information from large amounts of data?\n",
    "* Statistical Modeling (Linear regression, Normal distributions) <- 3080\n",
    "* Machine Learning (models such as Support Vector Machines and Neural Networks) <- 3480\n",
    "* Summarization (Google's PageRank) <- 3280\n",
    "* Feature Extraction (Frequent Itemsets, Recommendation Systems) <- 3280"
   ]
  }
 ],
 "metadata": {
  "kernelspec": {
   "display_name": "DataScience",
   "language": "python",
   "name": "python3"
  },
  "language_info": {
   "codemirror_mode": {
    "name": "ipython",
    "version": 3
   },
   "file_extension": ".py",
   "mimetype": "text/x-python",
   "name": "python",
   "nbconvert_exporter": "python",
   "pygments_lexer": "ipython3",
   "version": "3.12.9"
  }
 },
 "nbformat": 4,
 "nbformat_minor": 4
}

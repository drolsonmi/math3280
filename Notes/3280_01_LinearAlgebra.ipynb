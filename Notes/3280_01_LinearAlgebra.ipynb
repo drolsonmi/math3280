{
 "cells": [
  {
   "cell_type": "markdown",
   "metadata": {},
   "source": [
    "# Lecture 1 Introduction and Linear Algebra Review\n",
    "__Math 3280: Data Mining__\n",
    "\n",
    "__Outline__\n",
    "1. Introduction to the course\n",
    "2. What is Data Mining?\n",
    "3. Linear Algebra Review\n",
    "\n",
    "__Reading__ \n",
    "* Leskovec, Sections 1.1 and 1.3"
   ]
  },
  {
   "cell_type": "markdown",
   "metadata": {},
   "source": [
    "## Introduction to the course\n",
    "About the course:\n",
    "* The course is set up the same way as MATH 3080 was set up\n",
    "* Show the GitHub page which contains\n",
    "  * Syllabus\n",
    "  * Schedule (Open and quickly outline)\n",
    "  * Textbooks (Open and show where to get the textbooks)\n",
    "  * My notes\n",
    "\n",
    "## What is Data Mining?\n",
    "* Data mining is the process of getting info from data. Really, all three semesters can be summarized as Data Mining\n",
    "  * Originally known as \"Data Dredging\", it was the process of trying to extract information that isn't always supported by the data. Not the most glamorous part of a statistician's job\n",
    "  * Later it focused more as \"Big Data\", which is gleaning information from large amounts of data\n",
    "  * Now known as \"Data Mining\", we now extract this information for the purpose of creating a model (which gets into adaptive modelling, or \"Machine Learning\")\n",
    "* This semester, we focus on Big Data: handling and managing large amounts of data\n",
    "\n",
    "How do we get information from large amounts of data?\n",
    "* Statistical Modeling\n",
    "* Machine Learning\n",
    "* Summarization\n",
    "* Feature Extraction"
   ]
  },
  {
   "cell_type": "markdown",
   "metadata": {},
   "source": [
    "## Linear Algebra Review"
   ]
  },
  {
   "cell_type": "markdown",
   "metadata": {},
   "source": [
    "#### Vectors\n",
    "A vector is a mathematical tool that expresses both magnitude and direction.\n",
    "$$\\vec{y} = \\begin{bmatrix} 3 \\\\ 2 \\end{bmatrix} \\qquad \\vec{z} = \\begin{bmatrix} 1 \\\\ 4 \\end{bmatrix}$$"
   ]
  },
  {
   "cell_type": "markdown",
   "metadata": {},
   "source": [
    "#### Dot Product\n",
    "We can multiply two vectors together many different ways. The most common method is the dot product. Just multiply the corresponding components for the two vectors together then add the results up.\n",
    "$$\\vec{x}\\cdot\\vec{v} = \\sum_i x_iv_i$$\n",
    "$$\\vec{y}\\cdot\\vec{z} = 3*1 + 2*4 = 3 + 8 = 11$$"
   ]
  },
  {
   "cell_type": "markdown",
   "metadata": {},
   "source": [
    "#### Vector Norms (Measuring Distance)\n",
    "A norm is a way to calculate the length of a vector. Another way to say it is to measure the distance from the tail to the tip. But how do we measure the distance?\n",
    "\n",
    "Most common method is known at the Pythagorean Theorem,\n",
    "$$\\lVert x \\rVert = \\sqrt{x_0^2 + x_1^2 + x_2^2 + \\dots}$$\n",
    "\n",
    "This is actually one type of norm. We can create a simple equation to describe the norm:\n",
    "$$\\lVert x \\rVert_2 = \\sqrt{\\sum_i x_i^2}$$\n",
    "\n",
    "But there are other norms which measure the distance of a vector. We can generalize this equation for any norm:\n",
    "$$\\lVert x \\rVert_n = \\sqrt[n]{\\sum_i x_i^n}\\tag{$L_n$ norm}$$\n",
    "\n",
    "The most common norms are:\n",
    "1. $L_1$ norm (also known as the Manhattan Distance). This essentially finds the distance by following each component separately, as if you are walking from point A to point B on the streets of Manhattan.\n",
    "$$\\lVert x \\rVert_1 = \\sqrt[1]{\\sum_i x_i^1} = \\sum_i x_i = x_0+x_1+x_2+\\dots\\tag{$L_1$ norm}$$\n",
    "$$\\lVert y \\rVert_1 = 3 + 2 = 5$$\n",
    "\n",
    "2. $L_2$ norm (also known as both the Pythagorean Theorem and the Euclidean Distance).\n",
    "$$\\lVert x \\rVert_2 = \\sqrt[2]{\\sum_i x_i^2} = \\sqrt{x_0^2+x_1^2+x_2^2+\\dots}\\tag{$L_2$ norm}$$\n",
    "$$\\lVert y \\rVert_2 = \\sqrt{3^2 + 2^2} = \\sqrt{9+4} = \\sqrt{13} = 3.606$$\n",
    "\n",
    "3. $L_\\infty$ norm. With the infinity-norm, all components are raised to an extremely large power. Small components become insignificant to the largest component, so we end up with just the largest component, or the maximum.\n",
    "$$\\lVert x \\rVert_\\infty = \\sqrt[\\infty]{\\sum_i x_i^\\infty} = \\sqrt[\\infty]{max_i x_i^\\infty} = \\max_i x_i\\tag{$L_\\infty$ norm}$$\n",
    "$$\\lVert y \\rVert_\\infty = \\max\\{3,2\\} = 3$$\n",
    "\n",
    "Other norms are a measure of distance between the $L_2$ and $L_\\infty$ norms. For example, the $L_3$ norm would measure a distance, but the largest components are weighed a little more than the smaller components.\n",
    "$$\\lVert x \\rVert_3 = \\sqrt[3]{\\sum_i x_i^3} = \\sqrt[3]{x_0^3 + x_1^3 + x_2^3 + \\dots}\\tag{$L_3$ norm}$$\n",
    "$$\\lVert y \\rVert_3 = \\sqrt[3]{3^3 + 2^3} = \\sqrt[3]{27+8} = \\sqrt[3]{36} = 3.302$$\n",
    "\n",
    "The $L_{12}$ norm would be similar, but the weight of the largest components are weighed even heavier toward the distance than the $L_3$ norm.\n",
    "$$\\lVert x \\rVert_{12} = \\sqrt[12]{\\sum_i x_i^{12}} = \\sqrt[12]{x_0^{12} + x_1^{12} + x_2^{12} + \\dots}\\tag{$L_{12}$ norm}$$\n",
    "$$\\lVert y \\rVert_{12} = \\sqrt[12]{3^{12} + 2^{12}} = \\sqrt[12]{531441+4096} = \\sqrt[3]{535537} = 3.0019$$"
   ]
  },
  {
   "cell_type": "code",
   "execution_count": 9,
   "metadata": {},
   "outputs": [
    {
     "name": "stdout",
     "output_type": "stream",
     "text": [
      "5.0\n",
      "3.605551275463989\n",
      "3.2710663101885897\n",
      "3.0019200633710414\n"
     ]
    }
   ],
   "source": [
    "def L_norm(x,n):\n",
    "    return pow(sum(x**n),1/n)\n",
    "\n",
    "import numpy as np\n",
    "a = np.array([3,2])\n",
    "\n",
    "print(L_norm(a,1))\n",
    "print(L_norm(a,2))\n",
    "print(L_norm(a,3))\n",
    "print(L_norm(a,12))"
   ]
  },
  {
   "cell_type": "markdown",
   "metadata": {},
   "source": [
    "\n",
    "Conceptually, the $L_1$ and $L_2$ norms are easy. Even the $L_\\infty$ norm is simple enough to understand. But why would we want other norms, like the $L_3$ or $L_{12}$ norms?\n",
    "* Physical definition of Distance: Length of space between two points\n",
    "* Reworded definition of Distance: Measure of how close two points are\n",
    "* Applied to Data Science: Measure of how close two measurements are\n",
    "\n",
    "With data, there are many ways to measure distance. We have only seen how to measure physical distance. But when it comes to data, there are many ways to measure distance, each one valuable in specific scenarios. Although we rarely use the $L_3$ or $L_{12}$ norms, there are occasions when it could be valuable.\n",
    "\n",
    "There are other ways to calculate distance:\n",
    "* Cosine Distance (measures angle between vectors)\n",
    "* Jaccard Distance (measures distance between two text documents)\n",
    "* Others...\n",
    "\n",
    "We will see these other measures of distance throughout the semester."
   ]
  },
  {
   "cell_type": "markdown",
   "metadata": {},
   "source": [
    "#### Vector Transformations (using Matrices)\n",
    "We can write a series of vectors together as a matrix:\n",
    "$$A = \\begin{bmatrix} a_{00} & a_{01} & \\dots & a_{0n} \\\\ a_{10} & a_{11} & \\dots & a_{1n} \\\\ \\vdots & \\vdots & \\ddots & \\vdots \\\\ a_{m0} & a_{m1} & \\dots & a_{mn}\\end{bmatrix}$$\n",
    "$$B = \\begin{bmatrix} 10 & 6 \\\\ 8 & 4\\end{bmatrix}$$\n",
    "\n",
    "Then, we can multiply the matrix by a vector (dot product of each row with the vector):\n",
    "$$B\\vec{y} = \\begin{bmatrix} 10 & 6 \\\\ 8 & 4\\end{bmatrix}\\begin{bmatrix} 3 \\\\ 2\\end{bmatrix} = \\begin{bmatrix} 10*3 + 6*2 \\\\ 8*3 + 4*2\\end{bmatrix} = \\begin{bmatrix} 42 \\\\ 32\\end{bmatrix}$$\n",
    "\n",
    "This can be useful to transform a vector to a new coordinate system. Our most traditional 2D coordinate system (known as the Cartesian Coordinate System) can be written as a matrix of two vectors: one for the x-axis and one for the y-axis.\n",
    "$$\\begin{bmatrix} 1 & 0 \\\\ 0 & 1\\end{bmatrix}$$\n",
    "\n",
    "Each column would be a vector, and the combination of the vectors are known as __basis vectors__ which describe the coordinate system. Using this, we can create new coordinate systems. That is, we can measure a vector against any other set of vectors we want. For example, we can rotate the coordinate system 90 degrees counter-clockwise:\n",
    "$$R = \\begin{bmatrix} 0 & -1 \\\\ 1 & 0\\end{bmatrix}$$\n",
    "\n",
    "Or we can use any other two vectors we want:\n",
    "$$K = \\begin{bmatrix} 3 & -1 \\\\ 4 & -2\\end{bmatrix}$$\n",
    "\n",
    "Then when we multiply a matrix by our vector, it transforms our vector onto the new coordinate system. For example, let's use our rotation matrix to rotate our vector 90 degrees counter-clockwise:\n",
    "$$R\\vec{y} = \\begin{bmatrix} 0 & -1 \\\\ 1 & 0\\end{bmatrix}\\begin{bmatrix} 3 \\\\ 2\\end{bmatrix} = \\begin{bmatrix} 0*3+(-1)*2 \\\\ 1*3+0*2\\end{bmatrix} = \\begin{bmatrix} -2 \\\\ 3\\end{bmatrix}$$\n",
    "$$K\\vec{y} = \\begin{bmatrix} 3 & -1 \\\\ 4 & -2\\end{bmatrix}\\begin{bmatrix} 3 \\\\ 2\\end{bmatrix} = \\begin{bmatrix} 3*3+(-1)*2 \\\\ 4*3+(-2)*2\\end{bmatrix} = \\begin{bmatrix} 7 \\\\ 8\\end{bmatrix}$$\n",
    "\n",
    "(Draw each transformation by drawing the vector on the Cartesian Coordinates, then beside it draw the vector relative to the new basis vectors.)"
   ]
  },
  {
   "cell_type": "markdown",
   "metadata": {},
   "source": [
    "#### Eigenvectors and Eigenvalues\n",
    "With some transformations, the direction of our vector doesn't change, but its length might. Such vectors are known as __eigenvectors__.\n",
    "$$A\\vec{x} = \\lambda\\vec{x}$$\n",
    "\n",
    "$\\lambda$ is a multiplier known as an __eigenvalue__. \n",
    "\n",
    "$$K\\vec{z} = \\begin{bmatrix} 3 & -1 \\\\ 4 & -2\\end{bmatrix}\\begin{bmatrix} 1 \\\\ 4\\end{bmatrix} = \\begin{bmatrix} 3*1+(-1)*4 \\\\ 4*1+(-2)*4\\end{bmatrix} = \\begin{bmatrix} -1 \\\\ -4\\end{bmatrix} = (-1)\\begin{bmatrix} 1 \\\\ 4\\end{bmatrix} = (-1)\\vec{z}$$\n",
    "\n",
    "So, $z = [1,4]$ is an eigenvector of $K$ with an eigenvalue of $-1$. (Draw the transformation.)\n",
    "\n",
    "Does $K$ have other eigenvalue/eigenvector pairs?\n",
    "$$\\begin{align*}K\\vec{x} &= \\lambda\\vec{x} \\\\\n",
    "  \\begin{bmatrix} 3 & -1 \\\\ 4 & -2\\end{bmatrix}\\begin{bmatrix} x_0 \\\\ x_1\\end{bmatrix} &= \\lambda \\begin{bmatrix} x_0 \\\\ x_1\\end{bmatrix}\\\\ \n",
    "  \\begin{bmatrix}3x_0-x_1 \\\\ 4x_0-2x_1\\end{bmatrix} &= \\begin{bmatrix} \\lambda x_0 \\\\ \\lambda x_1\\end{bmatrix} \\\\\n",
    "  3x_0-x_1 = \\lambda x_0 \\qquad&\\qquad 4x_0-2x_1=\\lambda x_1 \\\\\n",
    "  (3-\\lambda)x_0 - x_1 = 0 \\qquad&\\qquad 4x_0-(2+\\lambda)x_1 = 0\\\\\n",
    "  x_1 = (3-\\lambda)x_0 \\qquad & \\qquad 4x_0-(2+\\lambda)(3-\\lambda)x_0 = 0 \\\\\n",
    "  &\\qquad 4 - (6+\\lambda-\\lambda^2) = 0 \\\\\n",
    "  &\\qquad \\lambda^2 - \\lambda - 2 = 0 \\\\\n",
    "  &\\qquad \\lambda = \\frac{1\\pm\\sqrt{1-4(1)(-2)}}{2(1)} \\\\\n",
    "  &\\qquad \\lambda = \\{2,-1\\}\n",
    "\\end{align*}$$\n",
    "\n",
    "So, we have two eigenvalues: $\\lambda = 2$ and $\\lambda = -1$. We already saw the eigenvalue $\\lambda=-1$ has an eigenvector of $\\vec{x}=\\begin{bmatrix}1\\\\4\\end{bmatrix}$. What's the eigenvector for $\\lambda = 2$?\n",
    "$$\\begin{align*}\n",
    "  3x_0-x_1 = 2x_0 \\qquad&\\qquad 4x_0-2x_1=2x_1 \\\\\n",
    "  x_0-x_1 = 0 \\qquad&\\qquad 4x_0-4x_1=0 \\\\\n",
    "  x_0 = x_1 \\qquad&\\qquad x_0=x_1\n",
    "\\end{align*}$$\n",
    "All we know is that $x_0=x_1$, which means,\n",
    "$$\\vec{x} = \\begin{bmatrix}x_0\\\\x_1\\end{bmatrix} = \\begin{bmatrix}x_0\\\\x_0\\end{bmatrix} = x_0\\begin{bmatrix}1\\\\1\\end{bmatrix}$$\n",
    "The eigenvector for $\\lambda=2$ is $\\vec{x}=\\begin{bmatrix}1\\\\1\\end{bmatrix}$."
   ]
  },
  {
   "cell_type": "markdown",
   "metadata": {},
   "source": []
  }
 ],
 "metadata": {
  "kernelspec": {
   "display_name": "DataMining",
   "language": "python",
   "name": "python3"
  },
  "language_info": {
   "codemirror_mode": {
    "name": "ipython",
    "version": 3
   },
   "file_extension": ".py",
   "mimetype": "text/x-python",
   "name": "python",
   "nbconvert_exporter": "python",
   "pygments_lexer": "ipython3",
   "version": "3.9.14"
  }
 },
 "nbformat": 4,
 "nbformat_minor": 2
}

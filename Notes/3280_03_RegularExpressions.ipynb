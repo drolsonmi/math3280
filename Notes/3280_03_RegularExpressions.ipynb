{
  "cells": [
    {
      "cell_type": "markdown",
      "metadata": {
        "id": "K-ShyyChzYmD"
      },
      "source": [
        "# Lecture 3 Regular Expressions\n",
        "__Math 3280: Data Mining__\n",
        "\n",
        "__Outline__\n",
        "1. Searching with RegEx\n",
        "2. Metacharacters\n",
        "3. Repetitions\n",
        "4. Anchors\n",
        "\n",
        "__Reading__ \n",
        "* DataCamp: Regular Expressions in Python"
      ]
    },
    {
      "cell_type": "markdown",
      "metadata": {},
      "source": [
        "\n",
        "REGular EXpression (regex): A set of rules that helps to match patterns in a string.\n",
        "* Contains a combination of normal characters (a-z, A_Z, 0-9, !@#$%^&*()) and special metacharacters\n",
        "\n",
        "`r\"st\\d\\s\\w{3,10}\"`\n",
        "\n",
        "* `r` in the front indicates it is a regex\n",
        "* `st` looks for the patter (st) anywhere in the string\n",
        "* `\\` indicates a metacharacter\n",
        "  * `\\d` any digit (0-9)\n",
        "  * `\\s` any whitespace\n",
        "  * `\\w` any character for a word (a-z, A-Z, 0-9)\n",
        "  * `{3,10}` repetitions\n",
        "\n",
        "Why?\n",
        "* Very powerful and fast\n",
        "* Find and replace text\n",
        "  * Can be used for very complex patterns\n",
        "* Validate strings"
      ]
    },
    {
      "cell_type": "code",
      "execution_count": null,
      "metadata": {
        "colab": {
          "base_uri": "https://localhost:8080/"
        },
        "id": "w3uqB5E-yxGM",
        "outputId": "1a1f447f-1e56-40de-a7db-f0a24ea6dc2e"
      },
      "outputs": [
        {
          "data": {
            "text/plain": [
              "<re.Match object; span=(9, 15), match='yellow'>"
            ]
          },
          "execution_count": 5,
          "metadata": {},
          "output_type": "execute_result"
        }
      ],
      "source": [
        "import re\n",
        "\n",
        "re.findall(r\"#movies\", \"Love #movies! I had fun yesterday going to the #movies!\")\n",
        "re.split(r\"!\", \"Nice place to eat! I'll come back! Excellent meat!\")\n",
        "re.sub(r\"yellow\", \"nice\", \"I have a yellow car and a yellow house in a yellow neighborhood.\")\n",
        "re.search(r\"yellow\", \"I have a yellow car and a yellow house in a yellow neighborhood.\")"
      ]
    },
    {
      "cell_type": "code",
      "execution_count": null,
      "metadata": {
        "colab": {
          "base_uri": "https://localhost:8080/",
          "height": 36
        },
        "id": "dXfGMD-M1XBP",
        "outputId": "2bb34952-67ef-4cc8-8fad-10283e7169e4"
      },
      "outputs": [
        {
          "data": {
            "application/vnd.google.colaboratory.intrinsic+json": {
              "type": "string"
            },
            "text/plain": [
              "'I really like ice cream'"
            ]
          },
          "execution_count": 18,
          "metadata": {},
          "output_type": "execute_result"
        }
      ],
      "source": [
        "# \\d metacharacter\n",
        "winners = \"The winners are: User9, UserN, User8\"\n",
        "\n",
        "re.findall(r\"User\\d\", winners) # A valid digit\n",
        "re.findall(r\"User\\D\", winners) # An invalid digit\n",
        "\n",
        "# \\w metacharacter\n",
        "re.findall(r\"User\\w\", winners) # A valid letter or digit\n",
        "\n",
        "sale = \"This shirt is on sale, only $5 today!\"\n",
        "re.findall(r\"\\W\\d\", sale) # An invalid letter or digit\n",
        "\n",
        "# \\s metacharacter\n",
        "statement = \"I really like ice-cream\"\n",
        "re.findall(r\"really\\slike\", statement)\n",
        "re.sub(r\"ice\\Scream\", \"ice cream\", statement)"
      ]
    },
    {
      "cell_type": "markdown",
      "metadata": {
        "id": "wwzOVgOw5AsQ"
      },
      "source": [
        "A __quantifier__ indicates how many times a pattern is repeated. Indicated by `{}`.\n",
        "\n",
        "Other metacharacters to help with quantifiers:\n",
        "* `{3}` indicates it appears 3 times\n",
        "* `+` indicates it appears once or more times\n",
        "* `*` indicates it appears zero or more times\n",
        "* `?` indicates it appears zero times or only once\n",
        "* `{3,7}` indicates it appears between 3 and 7 times\n",
        "* `{3,}` indicates it appears 3 or more times\n",
        "\n",
        "Note: r\"apple+\" indicates that (e) is repeated one or more times, not that (apple) is repeated."
      ]
    },
    {
      "cell_type": "code",
      "execution_count": null,
      "metadata": {
        "colab": {
          "base_uri": "https://localhost:8080/"
        },
        "id": "HphYtPLh2tIv",
        "outputId": "c0fcb409-e137-4394-8721-6e01aa759cc1"
      },
      "outputs": [
        {
          "data": {
            "text/plain": [
              "['1-966-847-3131', '54-908-42-42424']"
            ]
          },
          "execution_count": 26,
          "metadata": {},
          "output_type": "execute_result"
        }
      ],
      "source": [
        "# Repetitions\n",
        "\n",
        "password = \"password1234\"\n",
        "\n",
        "re.search(r\"\\w\\w\\w\\w\\w\\w\\w\\w\\d\\d\\d\\d\", password)\n",
        "re.search(r\"\\w{8}\\d{4}\", password)\n",
        "re.search(r\"\\w+\\d*\", \"password1234\")\n",
        "re.search(r\"\\w+\\d*\", \"password\")\n",
        "\n",
        "statement = \"The color of this image is amazing. However, the colour blue could be brighter.\"\n",
        "re.findall(r\"colou?r\", statement)\n",
        "\n",
        "phone_numbers = \"John: 1-966-847-3131 Michelle: 54-908-42-42424\"\n",
        "re.findall(r\"\\d{1,2}-\\d{3}-\\d{2,3}-\\d{4,}\", phone_numbers)"
      ]
    },
    {
      "cell_type": "code",
      "execution_count": null,
      "metadata": {
        "colab": {
          "base_uri": "https://localhost:8080/"
        },
        "id": "Q4K9_NFe5KlZ",
        "outputId": "bd89bdfa-c244-42ae-e659-177c6fad3773"
      },
      "outputs": [
        {
          "data": {
            "text/plain": [
              "<re.Match object; span=(0, 15), match='appleappleapple'>"
            ]
          },
          "execution_count": 35,
          "metadata": {},
          "output_type": "execute_result"
        }
      ],
      "source": [
        "re.search(r\"(apple){2,}\", \"appleappleapple\")"
      ]
    },
    {
      "cell_type": "markdown",
      "metadata": {
        "id": "hK7bB9yi8jF4"
      },
      "source": [
        "re.search() vs. re.match()\n",
        "* re.search() looks for patterns anywhere in the string\n",
        "* re.match() looks for patterns at the beginning of the string\n",
        "   * re.match() is anchored to the beginning of the string\n",
        "\n",
        "More metacharacters:\n",
        "* `^` anchors the search to the start of the string\n",
        "* `$` anchors the search to the end of the string\n",
        "* `.` is a wildcard\n",
        "* `\\` is also an escape"
      ]
    },
    {
      "cell_type": "code",
      "execution_count": null,
      "metadata": {
        "colab": {
          "base_uri": "https://localhost:8080/"
        },
        "id": "0Cx2oKMS74cU",
        "outputId": "0d199b3c-dd86-4ad1-d6aa-61d41c86cc57"
      },
      "outputs": [
        {
          "data": {
            "text/plain": [
              "['$5']"
            ]
          },
          "execution_count": 46,
          "metadata": {},
          "output_type": "execute_result"
        }
      ],
      "source": [
        "attendance = \"4506 people attended the show\"\n",
        "# print(re.search(r\"\\d{4}\", attendance))\n",
        "# print(re.match(r\"\\d{4}\", attendance))\n",
        "\n",
        "# print(re.search(r\"attend\", attendance))\n",
        "# print(re.match(r\"attend\", attendance))\n",
        "\n",
        "my_string = \"the 80s music was much better than the 90s\"\n",
        "re.findall(r\"the\\s\\d+s\", my_string)\n",
        "re.findall(r\"^the\\s\\d+s\", my_string)\n",
        "re.findall(r\"the\\s\\d+s$\", my_string)\n",
        "re.findall(r\"the\\s.0s\", my_string)\n",
        "\n",
        "sale\n",
        "re.findall(r\"\\$5\", sale)"
      ]
    },
    {
      "cell_type": "code",
      "execution_count": null,
      "metadata": {
        "colab": {
          "base_uri": "https://localhost:8080/"
        },
        "id": "tfft9H3W8u-p",
        "outputId": "37726d13-f4c0-4233-81ee-9210dd16d99a"
      },
      "outputs": [
        {
          "data": {
            "text/plain": [
              "['MaryJohn2', 'Clary3']"
            ]
          },
          "execution_count": 52,
          "metadata": {},
          "output_type": "execute_result"
        }
      ],
      "source": [
        "# OR operator\n",
        "my_string = \"Elephants are the world's largest land animal! I would love to see an elephant one day.\"\n",
        "re.findall(r\"Elephant|elephant\", my_string)\n",
        "\n",
        "re.findall(r\"[Ee]lephant\", my_string)\n",
        "\n",
        "lotr = \"The oliphant in Lord of the Rings is similar to the elephant in real life\"\n",
        "re.findall(r\"[eo]l[ei]phant\", lotr)\n",
        "\n",
        "my_string = \"Yesterday I spent my afternoon with my friends: MaryJohn2 Clary3 JohnPhilip\"\n",
        "re.findall(r\"[a-zA-Z]+\\d+\", my_string)"
      ]
    },
    {
      "cell_type": "code",
      "execution_count": null,
      "metadata": {
        "id": "IOMmShf0-epG"
      },
      "outputs": [],
      "source": [
        "phrase = \"Students passing this class: Anthony, Ethan, Augustin\"\n",
        "re.search(r\":.*Michael.*\",phrase)"
      ]
    },
    {
      "cell_type": "code",
      "execution_count": null,
      "metadata": {
        "id": "hpkwsqer_8xi"
      },
      "outputs": [],
      "source": []
    }
  ],
  "metadata": {
    "colab": {
      "provenance": []
    },
    "kernelspec": {
      "display_name": "Python 3",
      "name": "python3"
    },
    "language_info": {
      "name": "python"
    }
  },
  "nbformat": 4,
  "nbformat_minor": 0
}

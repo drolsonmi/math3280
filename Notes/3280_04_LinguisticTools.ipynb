{
 "cells": [
  {
   "cell_type": "markdown",
   "metadata": {},
   "source": [
    "# Lecture 2 Math Review and TF.IDF\n",
    "__Math 3280: Data Mining__\n",
    "\n",
    "__Outline__\n",
    "1. Importance of Words\n",
    "2. TF.IDF\n",
    "3. Regular Expressions\n",
    "    * Searching\n",
    "    * Metacharacters\n",
    "    * Repetitions\n",
    "    * Anchors\n",
    "\n",
    "__Reading__ \n",
    "* Leskovec, Section 1.3.1"
   ]
  },
  {
   "cell_type": "markdown",
   "metadata": {},
   "source": [
    "## Importance of Words"
   ]
  },
  {
   "cell_type": "markdown",
   "metadata": {},
   "source": [
    "What makes a word in a document important? \n",
    "* Words appearing most frequently?\n",
    "  * The most frequent words will always be common non-useful terms such as \"the\" or \"and\" (aka \"stop words\")\n",
    "  * ---Draw 1D line for frequency---\n",
    "    * Low: \"Notwithstanding\", \"Albeit\", \"Conclusion\"\n",
    "    * High: \"the\", \"and\"\n",
    "* Rare words\n",
    "  * A lot of rare words are only used to help in sentence flow, such as \"notwithstanding\", \"albeit\", or \"conclusion\"\n",
    "  * ---Draw 1D line for rarity---\n",
    "    * Rare: \"Notwithstanding\", \"Albeit\"\n",
    "    * Common: \"the\", \"and\", \"conclusion\"\n",
    "\n",
    "*The difference between rare words that tell us something and those that do not has to do with the concentration (frequency) of the useful words in just a few documents.*\n",
    "  * ---Draw 2D grid: x-axis rare to common, y-axis Low f to High f---\n",
    "  * High f, common: \"the\", \"and\"\n",
    "  * Low f, common: \"conclusion\"\n",
    "  * Low f, rare: \"notwithstanding\", \"albeit\"\n",
    "  * The important words are those that have high f and are rare (only occur with high frequency in just a few documents)\n",
    "\n",
    "We'll calculate using the $TF.IDF$ (Term Frequency times Inverse Document Frequency)\n",
    "* Term frequency ($TF_{ij}$): number of occurrences of word $i$ normalized in document $j$\n",
    "$$TF_{ij} = \\frac{f_{ij}}{max_k f_{kj}}$$\n",
    "\n",
    "| __*Frequency*__ | Doc 0 | Doc 1 | Doc 2 |\n",
    "| --------------: | :---: | :---: | :---: |\n",
    "|          Word 0 |   7   |   8   |   4   |\n",
    "|          Word 1 |   2   |   4   |   6   |\n",
    "|          Word 2 |   5   |   9   |   0   |\n",
    "\n",
    "$$max_k f_{k0} = 7 \\qquad max_k f_{k1} = 9 \\qquad max_k f_{k2} = 6$$\n",
    "\n",
    "| __*TF*__ | Doc 0 | Doc 1 | Doc 2 |\n",
    "| -------: | :---: | :---: | :---: |\n",
    "|   Word 0 |   1   |  8/9  |  2/3  |\n",
    "|   Word 1 |  2/7  |  4/9  |   1   |\n",
    "|   Word 2 |  5/7  |   1   |   0   |\n",
    "\n",
    "* Inverse Document Frequency ($IDF_i$): Inverse ratio of documents containing word $i$ on a logarithmic scale\n",
    "  * If $n_i$ documents out of $N$ documents contain word $i$, then the ratio is $\\frac{n_i}{N}$\n",
    "  * The inverse ratio is $\\frac{N}{n_i}$\n",
    "  * Put onto a logarithmic scale"
   ]
  },
  {
   "cell_type": "code",
   "execution_count": 1,
   "metadata": {},
   "outputs": [
    {
     "name": "stderr",
     "output_type": "stream",
     "text": [
      "/tmp/ipykernel_18379/3702004862.py:10: RuntimeWarning: divide by zero encountered in divide\n",
      "  ax.plot(x,np.log(N/x))\n"
     ]
    },
    {
     "data": {
      "image/png": "[encoded data removed]",
      "text/plain": [
       "<Figure size 400x300 with 1 Axes>"
      ]
     },
     "metadata": {},
     "output_type": "display_data"
    }
   ],
   "source": [
    "import numpy as np\n",
    "import matplotlib.pyplot as plt\n",
    "\n",
    "N = 3\n",
    "x = np.linspace(0, N, N*100 + 1)\n",
    "\n",
    "#plt.rcParams['figure.figsize'] = 4, 3\n",
    "fig,ax = plt.subplots(figsize=(4,3))\n",
    "\n",
    "ax.plot(x,np.log(N/x))\n",
    "ax.grid(True)\n",
    "plt.show()"
   ]
  },
  {
   "cell_type": "markdown",
   "metadata": {},
   "source": [
    "On an inverse logarithmic scale, words that appear in fewer documents ($n_i$) will give a large $IDF$, which should be the case for words that are unique to specific topics. But if the word appears in more documents, then the $IDF$ will approach 0.\n",
    "$$IDF_i = \\log_2\\left(\\frac{N}{n_i}\\right)$$\n",
    "\n",
    "| __*TF*__ | Doc 0 | Doc 1 | Doc 2 |\n",
    "| -------: | :---: | :---: | :---: |\n",
    "|   Word 0 |   1   |  8/9  |  2/3  |\n",
    "|   Word 1 |  2/7  |  4/9  |   1   |\n",
    "|   Word 2 |  5/7  |   1   |   0   |\n",
    "\n",
    "$$IDF_0 = \\log_2\\left(\\frac{3}{3}\\right) = 0 \\qquad IDF_1 = \\log_2\\left(\\frac{3}{3}\\right) = 0 \\qquad IDF_2 = \\log_2\\left(\\frac{3}{2}\\right) = 0.58$$\n",
    "\n",
    "| __*TF.IDF*__ | Doc 0              | Doc 1           | Doc 2        |\n",
    "| -----------: | :----------------: | :-------------: | :----------: |\n",
    "|       Word 0 | $$1*0=0$$          | $$8/9*0=0$$     | $$2/3*0=0$$  |\n",
    "|       Word 1 | $$2/7*0=0$$        | $$4/9*0=0$$     | $$1*0=0$$    |\n",
    "|       Word 2 | $$5/7*0.58=0.418$$ | $$1*0.58=0.58$$ | $$0*0.58=0$$ |\n",
    "\n",
    "Word 2 is the most significant word in all documents, and is most significant in Doc 1."
   ]
  },
  {
   "cell_type": "markdown",
   "metadata": {},
   "source": [
    "# Regular Expressions"
   ]
  },
  {
   "cell_type": "markdown",
   "metadata": {},
   "source": [
    "REGular EXpression (regex): A set of rules that helps to match patterns in a string.\n",
    "* Contains a combination of normal characters (a-z, A_Z, 0-9, !@#$%^&*()) and special metacharacters\n",
    "\n",
    "`r\"st\\d\\s\\w{3,10}\"`\n",
    "\n",
    "* `r` in the front indicates it is a regex\n",
    "* `st` looks for the patter (st) anywhere in the string\n",
    "* `\\` indicates a metacharacter\n",
    "  * `\\d` any digit (0-9)\n",
    "  * `\\s` any whitespace\n",
    "  * `\\w` any character for a word (a-z, A-Z, 0-9)\n",
    "  * `{3,10}` repetitions\n",
    "\n",
    "Why?\n",
    "* Very powerful and fast\n",
    "* Find and replace text\n",
    "  * Can be used for very complex patterns\n",
    "* Validate strings"
   ]
  },
  {
   "cell_type": "code",
   "execution_count": null,
   "metadata": {},
   "outputs": [],
   "source": [
    "import re\n",
    "\n",
    "re.findall(r\"#movies\", \"Love #movies! I had fun yesterday going to the #movies!\")\n",
    "re.split(r\"!\", \"Nice place to eat! I'll come back! Excellent meat!\")\n",
    "re.sub(r\"yellow\", \"nice\", \"I have a yellow car and a yellow house in a yellow neighborhood.\")\n",
    "re.search(r\"yellow\", \"I have a yellow car and a yellow house in a yellow neighborhood.\")"
   ]
  },
  {
   "cell_type": "code",
   "execution_count": null,
   "metadata": {},
   "outputs": [],
   "source": [
    "# \\d metacharacter\n",
    "winners = \"The winners are: User9, UserN, User8\"\n",
    "\n",
    "re.findall(r\"User\\d\", winners) # A valid digit\n",
    "re.findall(r\"User\\D\", winners) # An invalid digit\n",
    "\n",
    "# \\w metacharacter\n",
    "re.findall(r\"User\\w\", winners) # A valid letter or digit\n",
    "\n",
    "sale = \"This shirt is on sale, only $5 today!\"\n",
    "re.findall(r\"\\W\\d\", sale) # An invalid letter or digit\n",
    "\n",
    "# \\s metacharacter\n",
    "statement = \"I really like ice-cream\"\n",
    "re.findall(r\"really\\slike\", statement)\n",
    "re.sub(r\"ice\\Scream\", \"ice cream\", statement)"
   ]
  },
  {
   "cell_type": "markdown",
   "metadata": {},
   "source": [
    "A __quantifier__ indicates how many times a pattern is repeated. Indicated by `{}`.\n",
    "\n",
    "Other metacharacters to help with quantifiers:\n",
    "* `{3}` indicates it appears 3 times\n",
    "* `+` indicates it appears once or more times\n",
    "* `*` indicates it appears zero or more times\n",
    "* `?` indicates it appears zero times or only once\n",
    "* `{3,7}` indicates it appears between 3 and 7 times\n",
    "* `{3,}` indicates it appears 3 or more times\n",
    "\n",
    "Note: r\"apple+\" indicates that (e) is repeated one or more times, not that (apple) is repeated."
   ]
  },
  {
   "cell_type": "code",
   "execution_count": null,
   "metadata": {},
   "outputs": [],
   "source": [
    "# Repetitions\n",
    "\n",
    "password = \"password1234\"\n",
    "\n",
    "re.search(r\"\\w\\w\\w\\w\\w\\w\\w\\w\\d\\d\\d\\d\", password)\n",
    "re.search(r\"\\w{8}\\d{4}\", password)\n",
    "re.search(r\"\\w+\\d*\", \"password1234\")\n",
    "re.search(r\"\\w+\\d*\", \"password\")\n",
    "\n",
    "statement = \"The color of this image is amazing. However, the colour blue could be brighter.\"\n",
    "re.findall(r\"colou?r\", statement)\n",
    "\n",
    "phone_numbers = \"John: 1-966-847-3131 Michelle: 54-908-42-42424\"\n",
    "re.findall(r\"\\d{1,2}-\\d{3}-\\d{2,3}-\\d{4,}\", phone_numbers)"
   ]
  },
  {
   "cell_type": "code",
   "execution_count": null,
   "metadata": {},
   "outputs": [],
   "source": [
    "re.search(r\"(apple){2,}\", \"appleappleapple\")"
   ]
  },
  {
   "cell_type": "markdown",
   "metadata": {},
   "source": [
    "re.search() vs. re.match()\n",
    "* re.search() looks for patterns anywhere in the string\n",
    "* re.match() looks for patterns at the beginning of the string\n",
    "   * re.match() is anchored to the beginning of the string\n",
    "\n",
    "More metacharacters:\n",
    "* `^` anchors the search to the start of the string\n",
    "* `$` anchors the search to the end of the string\n",
    "* `.` is a wildcard\n",
    "* `\\` is also an escape"
   ]
  },
  {
   "cell_type": "code",
   "execution_count": null,
   "metadata": {},
   "outputs": [],
   "source": [
    "attendance = \"4506 people attended the show\"\n",
    "# print(re.search(r\"\\d{4}\", attendance))\n",
    "# print(re.match(r\"\\d{4}\", attendance))\n",
    "\n",
    "# print(re.search(r\"attend\", attendance))\n",
    "# print(re.match(r\"attend\", attendance))\n",
    "\n",
    "my_string = \"the 80s music was much better than the 90s\"\n",
    "re.findall(r\"the\\s\\d+s\", my_string)\n",
    "re.findall(r\"^the\\s\\d+s\", my_string)\n",
    "re.findall(r\"the\\s\\d+s$\", my_string)\n",
    "re.findall(r\"the\\s.0s\", my_string)\n",
    "\n",
    "sale\n",
    "re.findall(r\"\\$5\", sale)"
   ]
  },
  {
   "cell_type": "code",
   "execution_count": null,
   "metadata": {},
   "outputs": [],
   "source": [
    "# OR operator\n",
    "my_string = \"Elephants are the world's largest land animal! I would love to see an elephant one day.\"\n",
    "re.findall(r\"Elephant|elephant\", my_string)\n",
    "\n",
    "re.findall(r\"[Ee]lephant\", my_string)\n",
    "\n",
    "lotr = \"The oliphant in Lord of the Rings is similar to the elephant in real life\"\n",
    "re.findall(r\"[eo]l[ei]phant\", lotr)\n",
    "\n",
    "my_string = \"Yesterday I spent my afternoon with my friends: MaryJohn2 Clary3 JohnPhilip\"\n",
    "re.findall(r\"[a-zA-Z]+\\d+\", my_string)"
   ]
  },
  {
   "cell_type": "code",
   "execution_count": null,
   "metadata": {},
   "outputs": [],
   "source": [
    "phrase = \"Students passing this class: Anthony, Ethan, Samantha\"\n",
    "re.search(r\":.*Michael.*\",phrase)"
   ]
  }
 ],
 "metadata": {
  "kernelspec": {
   "display_name": "DataScience",
   "language": "python",
   "name": "python3"
  },
  "language_info": {
   "codemirror_mode": {
    "name": "ipython",
    "version": 3
   },
   "file_extension": ".py",
   "mimetype": "text/x-python",
   "name": "python",
   "nbconvert_exporter": "python",
   "pygments_lexer": "ipython3",
   "version": "3.9.20"
  }
 },
 "nbformat": 4,
 "nbformat_minor": 2
}

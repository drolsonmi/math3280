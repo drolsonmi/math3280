{
 "cells": [
  {
   "cell_type": "markdown",
   "metadata": {},
   "source": [
    "# Lecture 6 PySpark\n",
    "__Math 3280: Data Mining__\n",
    "\n",
    "__Outline__\n",
    "1. Relational Algebra\n",
    "2. Spark and PySpark\n",
    "3. Tensorflow\n",
    "\n",
    "__Reading__ \n",
    "* Leskovec, Sections 2.3.3 - 2.3.8, 2.4.2 - 2.4.4\n",
    "* DataCamp, Introduction to PySpark"
   ]
  },
  {
   "cell_type": "markdown",
   "metadata": {},
   "source": [
    "## Relational Algebra"
   ]
  },
  {
   "cell_type": "markdown",
   "metadata": {},
   "source": [
    "A __relation__ is a table with column headers called __attributes__. Rows of the relation are called __tuples__.\n",
    "\n",
    "A set of attributes (a selected number of attributes) is called a __schema__.\n",
    "\n",
    "Relational Algebra takes a relation (table) and applies specific operations on them. These include\n",
    "1. *Selection*: Return the tuples (rows) that satisfy condition *C*\n",
    "2. *Projection*: Return only the selected attributes\n",
    "3. *Union, Intersection, and Difference*: Sets of tuples in two relations that have the same schema\n",
    "4. *Natural Join*: Comparison of two relations. If tuples agree on selected attributes common to the two schemas, then the result is another tuple that combines information from the two schemas\n",
    "5. *Grouping and Aggregation*:  Tuples separated by the results of multiple conditions *C*, then an aggregate function is applied to each group \n",
    "    * Aggregate functions include SUM, COUNT, AVG, MIN, MAX"
   ]
  },
  {
   "cell_type": "markdown",
   "metadata": {},
   "source": [
    "#### MapReduce with Selection operations\n",
    "__Map__: Test the tuple *t* whether it satisfies *C*\n",
    "* If yes, it produces a tuple *(t,t)*\n",
    "* If no, nothing is produced\n",
    "\n",
    "__Reduce__: Identity function\n",
    "* Passes on the tuple *(t,t)* as its output"
   ]
  },
  {
   "cell_type": "markdown",
   "metadata": {},
   "source": [
    "#### MapReduce with Projection operations\n",
    "__Map__: Test the tuple *t* whether it satisfies *C*\n",
    "* If yes, it produces a tuple *(t,t)*\n",
    "* If no, nothing is produced\n",
    "\n",
    "__Reduce__: Identity function\n",
    "* Passes on the tuple *(t,t)* as its output"
   ]
  },
  {
   "cell_type": "markdown",
   "metadata": {},
   "source": [
    "#### MapReduce with Union, Intersection, and Difference operations\n",
    "__Map__: Test the tuple *t* whether it satisfies *C*\n",
    "* If yes, it produces a tuple *(t,t)*\n",
    "* If no, nothing is produced\n",
    "\n",
    "__Reduce__: Identity function\n",
    "* Passes on the tuple *(t,t)* as its output"
   ]
  },
  {
   "cell_type": "markdown",
   "metadata": {},
   "source": [
    "#### MapReduce with Natural Join operations"
   ]
  },
  {
   "cell_type": "markdown",
   "metadata": {},
   "source": [
    "#### MapReduce with Grouping and Aggregation operations"
   ]
  },
  {
   "cell_type": "markdown",
   "metadata": {},
   "source": [
    "## Spark and PySpark"
   ]
  },
  {
   "cell_type": "markdown",
   "metadata": {},
   "source": [
    "Spark is a commonly used implementation of MapReduce.\n",
    "* Resilient Distributed Dataset (RDD)"
   ]
  },
  {
   "cell_type": "markdown",
   "metadata": {},
   "source": [
    "## Tensorflow"
   ]
  },
  {
   "cell_type": "markdown",
   "metadata": {},
   "source": []
  }
 ],
 "metadata": {
  "language_info": {
   "name": "python"
  }
 },
 "nbformat": 4,
 "nbformat_minor": 2
}

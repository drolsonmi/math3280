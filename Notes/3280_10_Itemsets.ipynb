{
 "cells": [
  {
   "cell_type": "markdown",
   "id": "c9467044-2d87-4593-ae76-2bd7d1f68ee6",
   "metadata": {},
   "source": [
    "# Lecture 13 Frequent Itemsets\n",
    "__Math 3280: Data Mining__\n",
    "\n",
    "__Outline__\n",
    "1. Support\n",
    "2. Association Rules\n",
    "    * Confidence\n",
    "    * Interest\n",
    "3. Calculations and Memory\n",
    "\n",
    "__Reading__ \n",
    "* Leskovec, Chapter 6\n",
    "-----"
   ]
  },
  {
   "cell_type": "markdown",
   "id": "7a338a9c-138f-44e8-966f-28579453a9a5",
   "metadata": {},
   "source": [
    "We learned earlier in the semester about how similar two objects may be to each other. We'll turn now to association between two kinds of objects. That is, there may not be any similarity between two objects, but there may be a relationship between them. For example, milk and bread are not very similar at all, but they are frequently bought together.\n",
    "\n",
    "A __market-basket__ model describes relationships between two kinds of objects. \n",
    "* *items*\n",
    "* *baskets* (sometimes called *transactions*) consist of an *itemset*\n",
    "    * We usually assume that the size of the itemset is much smaller than the total number of items"
   ]
  },
  {
   "cell_type": "markdown",
   "id": "40c45140-9bb8-44c3-b043-a71213474be8",
   "metadata": {},
   "source": [
    "## Frequent\n",
    "An itemset is said to be \"frequent\" if a subset of items appears in many baskets. Thinking of this mathematically, take an itemset $I$. \n",
    "* Define the __support__ of $I$ to be the number of baskets for which $I$ is a subset\n",
    "* $I$ is frequent if $Support(I) > s$ where $s$ is the __support threshold__\n",
    "\n",
    "Consider the following sets of letters:\n",
    "* {A, B, C}\n",
    "* {B, C, F}\n",
    "* {B, C, D}\n",
    "* {C, D, E}\n",
    "* {B, C, E}\n",
    "* {A, C, D}\n",
    "* {B, E, F}\n",
    "* {B, C, E}\n",
    "\n",
    "For this example, let's set our support threshold to $s = 4$.\n",
    "\n",
    "A __singleton set__ is a set of just one item. The supports for all the singleton sets are:\n",
    "$$Support(\\{A\\}) = 2 \\qquad Support(\\{B\\}) = 6 \\qquad Support(\\{C\\}) = 7 \\qquad Support(\\{D\\}) = 3 \\qquad Support(\\{E\\}) = 4 \\qquad Support(\\{F\\}) = 2$$\n",
    "\n",
    "From this, only items $B$ and $C$ are frequent, since they are greater than $s$.\n",
    "\n",
    "Take the support for the __doubleton__ subset $I_1 = \\{B, E\\}$. If we have a support threshold of $s=4$, then $I_1$ is not frequent.\n",
    "\n",
    "$$Support(I_1) = Support(\\{B,E\\}) = 3 < s$$\n",
    "\n",
    "The subset $I_2 = \\{B, C\\}$ would be considered a frequent itemset, however.\n",
    "\n",
    "$$Support(I_2) = Support(\\{B,C\\}) = 5 > 4$$\n",
    "\n",
    "How can we use this information? Sometimes, the results of this calculation are useless. For example, the purchase of milk and eggs would be considered similar since they are often purchased together. However, hot dogs and mustard are not considered similar, but they would have a higher support. This opens a market tactic: offer a sale on hot dogs, but increase the price of mustard. When people buy hot dogs because they are on sale, they may say, \"Oh, I need mustard,\" and they'll get it regardless of the price.\n",
    "\n",
    "Common applications of frequent itemsets:\n",
    "1. *Related concepts*: words that often appear in conjunction with a topic. For example, how often does the word \"civil\" come up in an article about \"engineering\"\n",
    "2. *Plagiarism*: sentences that appear in different documents. A document that has a large number of sentences with high support may be indicative of a plagiarized document\n",
    "3. *Biomarkers*: genes or proteins appear when exposed to certain deseases"
   ]
  },
  {
   "cell_type": "markdown",
   "id": "c1ac353d-b876-467f-9c3e-ba7fe8e94323",
   "metadata": {},
   "source": [
    "## Association Rules\n",
    "Now, we want to look at how often different subsets appear together. A common application of this would be recommendation systems (\"customers who bought what is in your cart also bought [item]\"). To indicate the association of basket $I$ with item $j$ as $I\\to j$.\n",
    "\n",
    "So, how likely will basket $I$ be associated with $j$? We'll measure this be defining the __confidence__ of $I\\to j$ as,\n",
    "$$Confidence(I\\to j) = \\frac{Support(I\\cup \\{j\\})}{Support(I)}$$\n",
    "\n",
    "Using our earlier example, how likely is the set $I = \\{B, C\\}$ to be associated with $\\{E\\}$?\n",
    "$$Confidence(\\{B,C\\} \\to \\{E\\}) = \\frac{Support(\\{B, C, E\\})}{Support(\\{B, C\\})} = \\frac{2}{5}$$\n",
    "\n",
    "Another way to think of this: The set $\\{B,C\\}$ appears 5 times. Of those 5 times, $E$ appears twice.\n",
    "\n",
    "The confidence is useful as long as $Support(I)$ is fairly large. However, the confidence means more when the association rule reflects a true relationship. So, we define the __interest__ of an association rule as the difference between the confidence and the fraction of baskets that contain $j$.\n",
    "$$Interest(I\\to j) = Confidence(I\\to j) - \\frac{Support(\\{j\\})}{\\text{\\# of baskets}}$$\n",
    "\n",
    "The advantage to this is that if $I$ and $j$ aren't associated, then $Confidence(I\\to j) \\approx \\frac{Support(\\{j\\})}{\\text{\\# of baskets}}$, so $Interest(\\{B,C\\}\\to\\{E\\}) \\approx 0$\n",
    "\n",
    "Using our earlier example,\n",
    "$$Interest(\\{B,C\\}\\to\\{E\\}) = Confidence(\\{B,C\\} \\to \\{E\\}) - \\frac{Support(\\{E\\})}{8}$$\n",
    "$$Interest(\\{B,C\\}\\to\\{E\\}) = \\frac{Support(\\{B, C, E\\})}{Support(\\{B, C\\})} - \\frac{Support(\\{E\\})}{8} = \\frac{2}{5} - \\frac{4}{8} = -\\frac{1}{10}$$\n",
    "\n",
    "What do the numbers mean?\n",
    "* If the interest is high, then $I$ has a high probability of causing $j$\n",
    "* If the interest is highly negative, then $I$ has a high probability of discouraging $j$\n",
    "* If the interest is near 0, then any association between $I$ and $j$ is likely coincidental"
   ]
  },
  {
   "cell_type": "markdown",
   "id": "7aef61be",
   "metadata": {},
   "source": [
    "How does this compare with others? Find the Confidence and Interest of the following associations:\n",
    "* $\\{A,B\\}\\to\\{C\\}$\n",
    "* $\\{B,F\\}\\to\\{E\\}$\n",
    "* $\\{C,D\\}\\to\\{A\\}$\n",
    "* $\\{B,C\\}\\to\\{F\\}$\n",
    "* $\\{A,D\\}\\to\\{E\\}$\n",
    "  \n",
    "$$Confidence(\\{A,B\\}\\to\\{C\\}) = \\frac{1}{1} \\qquad Interest(\\{A,B\\}\\to\\{C\\}) = 1 - \\frac{7}{8} = \\frac{1}{8} = 0.125$$\n",
    "$$Confidence(\\{B,F\\}\\to\\{E\\}) = \\frac{1}{2} \\qquad Interest(\\{B,F\\}\\to\\{E\\}) = \\frac{1}{2} - \\frac{4}{8} = 0\\qquad\\qquad$$\n",
    "$$Confidence(\\{C,D\\}\\to\\{A\\}) = \\frac{1}{3} \\qquad Interest(\\{C,D\\}\\to\\{A\\}) = \\frac{1}{3} - \\frac{2}{8} = \\frac{1}{12} = 0.0833$$\n",
    "$$Confidence(\\{B,C\\}\\to\\{F\\}) = \\frac{1}{5} \\qquad Interest(\\{B,C\\}\\to\\{F\\}) = \\frac{1}{4} - \\frac{2}{8} = 0\\qquad\\qquad$$\n",
    "$$Confidence(\\{A,D\\}\\to\\{E\\}) = 0 \\qquad Interest(\\{A,D\\}\\to\\{E\\}) = 0 - \\frac{4}{8} = -\\frac{1}{2}\\qquad\\qquad$$\n",
    "\n",
    "With large datasets, a \"reasonably high\" interest would be items in 1\\% of the baskets."
   ]
  },
  {
   "cell_type": "code",
   "execution_count": 1,
   "id": "275823f5",
   "metadata": {},
   "outputs": [
    {
     "name": "stdout",
     "output_type": "stream",
     "text": [
      "Support =  {'hot dogs': 3, 'buns': 3, 'milk': 5, 'legos': 1, 'balloons': 2, 'hot dogs, buns': 3, 'hot dogs, milk': 1, 'legos, balloons': 1}\n",
      "Confidence =  {'hot dogs -> buns': 1.0, 'buns -> hot dogs': 1.0, 'hot dogs -> milk': 0.3333333333333333, 'milk -> hot dogs': 0.2, 'legos -> balloons': 1.0}\n",
      "Interest =  {'hot dogs -> buns': 0.75, 'buns -> hot dogs': 0.75, 'hot dogs -> milk': -0.08333333333333337, 'milk -> hot dogs': -0.04999999999999999, 'legos -> balloons': 0.8333333333333334}\n"
     ]
    }
   ],
   "source": [
    "items = ['hot dogs', 'hamburgers', 'buns', 'milk', 'eggs', 'chips', 'salsa', 'chocolate', \n",
    "         'book', 'tylenol', 'toothpaste', 'toothbrush', 'vitamins', 'legos', 'balloons',\n",
    "         'apples','peppers','bananas','carrots']\n",
    "\n",
    "shopping_lists = []\n",
    "shopping_lists.append(['hot dogs', 'buns', 'chips', 'salsa'])\n",
    "shopping_lists.append(['milk', 'eggs', 'apples', 'bananas', 'peppers'])\n",
    "shopping_lists.append(['milk', 'eggs', 'chips', 'salsa'])\n",
    "shopping_lists.append(['hot dogs', 'buns', 'milk', 'chocolate', 'tylenol', 'vitamins'])\n",
    "shopping_lists.append(['toothbrush', 'toothpaste'])\n",
    "shopping_lists.append(['chocolate', 'tylenol', 'toothbrush', 'toothpaste'])\n",
    "shopping_lists.append(['chocolate', 'apples'])\n",
    "shopping_lists.append(['legos', 'balloons', 'eggs'])\n",
    "shopping_lists.append(['hamburgers', 'hot dogs', 'buns', 'book', 'balloons'])\n",
    "shopping_lists.append(['chips', 'milk', 'toothbrush', 'carrots'])\n",
    "shopping_lists.append(['chips', 'salsa', 'book', 'vitamins', 'apples', 'peppers', 'bananas'])\n",
    "shopping_lists.append(['milk', 'eggs', 'bananas'])\n",
    "\n",
    "support = {}\n",
    "\n",
    "support['hot dogs'] = sum(['hot dogs' in shop for shop in shopping_lists])\n",
    "support['buns'] = sum(['buns' in shop for shop in shopping_lists])\n",
    "support['milk'] = sum(['milk' in shop for shop in shopping_lists])\n",
    "support['legos'] = sum(['legos' in shop for shop in shopping_lists])\n",
    "support['balloons'] = sum(['balloons' in shop for shop in shopping_lists])\n",
    "support['hot dogs, buns'] = sum([(('hot dogs' in shop) & ('buns' in shop)) for shop in shopping_lists])\n",
    "support['hot dogs, milk'] = sum([(('hot dogs' in shop) & ('milk' in shop)) for shop in shopping_lists])\n",
    "support['legos, balloons'] = sum([(('hot dogs' in shop) & ('milk' in shop)) for shop in shopping_lists])\n",
    "print(\"Support = \",support)\n",
    "\n",
    "confidence = {}\n",
    "confidence['hot dogs -> buns'] = support['hot dogs, buns']/support['hot dogs']\n",
    "confidence['buns -> hot dogs'] = support['hot dogs, buns']/support['buns']\n",
    "confidence['hot dogs -> milk'] = support['hot dogs, milk']/support['hot dogs']\n",
    "confidence['milk -> hot dogs'] = support['hot dogs, milk']/support['milk']\n",
    "confidence['legos -> balloons'] = support['legos, balloons']/support['legos']\n",
    "print(\"Confidence = \", confidence)\n",
    "\n",
    "interest = {}\n",
    "interest['hot dogs -> buns'] = confidence['hot dogs -> buns'] - support['buns']/len(shopping_lists)\n",
    "interest['buns -> hot dogs'] = confidence['buns -> hot dogs'] - support['hot dogs']/len(shopping_lists)\n",
    "interest['hot dogs -> milk'] = confidence['hot dogs -> milk'] - support['milk']/len(shopping_lists)\n",
    "interest['milk -> hot dogs'] = confidence['milk -> hot dogs'] - support['hot dogs']/len(shopping_lists)\n",
    "interest['legos -> balloons'] = confidence['legos -> balloons'] - support['balloons']/len(shopping_lists)\n",
    "print(\"Interest = \", interest)"
   ]
  },
  {
   "cell_type": "code",
   "execution_count": 2,
   "id": "91800fb0",
   "metadata": {},
   "outputs": [
    {
     "name": "stdout",
     "output_type": "stream",
     "text": [
      "0.0 -0.3333333333333333\n"
     ]
    }
   ],
   "source": [
    "I = 'vitamins'\n",
    "j = 'eggs'\n",
    "\n",
    "sprt_I = sum([I in shop for shop in shopping_lists])\n",
    "sprt_Ij = sum([((I in shop) & (j in shop)) for shop in shopping_lists])\n",
    "sprt_j = sum([j in shop for shop in shopping_lists])\n",
    "\n",
    "conf_Ij = sprt_Ij/sprt_I\n",
    "\n",
    "int_Ij = conf_Ij - sprt_j/len(shopping_lists)\n",
    "\n",
    "print(conf_Ij, int_Ij)"
   ]
  },
  {
   "cell_type": "code",
   "execution_count": null,
   "id": "d477bfc1",
   "metadata": {},
   "outputs": [],
   "source": []
  }
 ],
 "metadata": {
  "kernelspec": {
   "display_name": "DataScience",
   "language": "python",
   "name": "python3"
  },
  "language_info": {
   "codemirror_mode": {
    "name": "ipython",
    "version": 3
   },
   "file_extension": ".py",
   "mimetype": "text/x-python",
   "name": "python",
   "nbconvert_exporter": "python",
   "pygments_lexer": "ipython3",
   "version": "3.12.9"
  }
 },
 "nbformat": 4,
 "nbformat_minor": 5
}

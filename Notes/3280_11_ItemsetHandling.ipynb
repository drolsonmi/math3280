{
 "cells": [
  {
   "cell_type": "markdown",
   "id": "c9467044-2d87-4593-ae76-2bd7d1f68ee6",
   "metadata": {},
   "source": [
    "# Lecture 14 Frequent Itemsets\n",
    "__Math 3280: Data Mining__\n",
    "\n",
    "__Outline__\n",
    "1. Support\n",
    "2. Association Rules\n",
    "    * Confidence\n",
    "    * Interest\n",
    "3. Calculations and Memory\n",
    "\n",
    "__Reading__ \n",
    "* Leskovec, Chapter 6\n",
    "-----"
   ]
  },
  {
   "cell_type": "markdown",
   "id": "075cb8a8",
   "metadata": {},
   "source": [
    "## Calculations and Memory\n",
    "For a small company, the calculation could easily be done on one computer. For a large company, the number of transactions (baskets) is so large that the file holding it can't fit into the memory of one computer, so it needs to be done with some sort of Distributed File System and use an algorithm such as MapReduce to find frequent itemsets. But this can be really hard. It is addressed in more detail at the end of the chapter.\n",
    "\n",
    "Another possible problem that could take a lot of memory is the size of the baskets. Fortunately, most baskets are not that large. If we assume an average basket size of 20 items, then there are $\\begin{pmatrix} 20 \\\\ 2 \\end{pmatrix} = 190$ pairs of items. This can easily be done on a single computer.\n",
    "\n",
    "But that assumes we are doing pairs - only looking at 2 items at a time. If we want to look at larger subsets, the time for calculation increases. The time it takes is $n^k/k!$.\n",
    "* Usually we only need to deal with a subset of $k=2$ or $3$, so this usually doesn't become an issue\n",
    "* In the rare cases where $k$ is large, there are often items in the basket that can be ignored and dropped, decreasing $n$.\n",
    "\n",
    "Three methods to simplify this process are commonly used:\n",
    "1. Triangular Matrix method\n",
    "2. Triples method\n",
    "3. A-Priori method"
   ]
  },
  {
   "cell_type": "markdown",
   "id": "b8ae3ea9",
   "metadata": {},
   "source": [
    "### Triangular Matrix method\n",
    "Imagine a matrix of all items as rows and all items as columns. The values of the matrix would be the interest. However, note that the association between items A and B is nearly the same as between items B and A. So, let's just take the upper triangle of the matrix so that there are only values if $i<j$.\n",
    "\n",
    "Once we have the triangular matrix, we can sort all values into an array, where the index $k$ is found by,\n",
    "$$k=(i-1)\\left(n-\\frac{i}{2}\\right) + j - i$$\n",
    "\n",
    "where $1 \\le i < j \\le n$.\n",
    "* Note that we do not count when anything is paired with itself. $i$ is strictly less than $j$."
   ]
  },
  {
   "cell_type": "code",
   "execution_count": 1,
   "id": "78a73ac7",
   "metadata": {},
   "outputs": [
    {
     "name": "stdout",
     "output_type": "stream",
     "text": [
      "i = 1, j = 2, k = 1.0\n",
      "i = 1, j = 3, k = 2.0\n",
      "i = 1, j = 4, k = 3.0\n",
      "i = 1, j = 5, k = 4.0\n",
      "\n",
      "i = 2, j = 3, k = 5.0\n",
      "i = 2, j = 4, k = 6.0\n",
      "i = 2, j = 5, k = 7.0\n",
      "\n",
      "i = 3, j = 4, k = 8.0\n",
      "i = 3, j = 5, k = 9.0\n",
      "\n",
      "i = 4, j = 5, k = 10.0\n",
      "\n",
      "\n"
     ]
    }
   ],
   "source": [
    "n = 5\n",
    "\n",
    "for i in range(1,n+1):\n",
    "    for j in range(i+1,n+1):\n",
    "        k = (i-1)*(n-(i/2))+j-i\n",
    "        print(f\"i = {i}, j = {j}, k = {k}\")\n",
    "    print()"
   ]
  },
  {
   "cell_type": "markdown",
   "id": "7fd6ecce",
   "metadata": {},
   "source": [
    "Since we are only considering cases where $i < j$, this changes from a full (sparse) $n\\times n$ matrix to the upper triangle above the diagonal (an $(n-1)\\times(n-1)$ triangle). If we are dealing with 4-byte integers, then this drops us from a matrix taking up $4n^2$ bytes down to $4\\cdot\\frac{1}{2}(n-1)^2 = 2(n-1)^2$ bytes.\n",
    "\n",
    "This is an improvement, but can still be sparse."
   ]
  },
  {
   "cell_type": "markdown",
   "id": "cad6b993",
   "metadata": {},
   "source": [
    "### Triples method\n",
    "The advantage of the triples method is that we are only going to store information for each pair that *actually* occurs.\n",
    "\n",
    "The triples method involves taking a triple $[i,j,c]$ where $c$ is the count for the pair $\\{i,j\\}$.\n",
    "* Use a hash function with $i$ and $j$ to find where to store the data\n",
    "* Store the values of $i$, $j$, and $c$ at that location\n",
    "\n",
    "The advantage is that we are only storing data for each pair.\n",
    "\n",
    "The disadvantage is that for each pair, we have to store 3 values. If we are working with 4-byte integers, then that is 12 bytes per pair.\n",
    "* If more than 1/3 of possible pairs occur, the *triangular-matrix method* is better\n",
    "* If less than 1/3 of possible pairs occur, the *triples method* is better"
   ]
  },
  {
   "cell_type": "markdown",
   "id": "33ae9d81-a6f0-4f31-8bc1-08a35f367ad6",
   "metadata": {},
   "source": [
    "### A-Priori Algorithm\n",
    "This method is not too difficult. However, as is always the problem in the real world, we are dealing with very large amounts of data that can't always be held in main memory, much less do calculations with them. So, to simplify the process, we'll look at the __A-Priori__ algorithm, which only looks at the most frequent items.\n",
    "\n",
    "In order to understand the A-Priori algorithm, there are a few mathematical methods that need to be implemented. We won't go over these in detail here, but just give a quick summary. They are in section 6.2.3 - 6.2.4 of the *Leskovec* textbook."
   ]
  },
  {
   "cell_type": "markdown",
   "id": "7de49db2",
   "metadata": {},
   "source": [
    "#### Monotonicity\n",
    "If a set $I$ of items is frequent, then so is every subset of $I$.\n",
    "\n",
    "A couple of points:\n",
    "* A subset $J\\subseteq I$ has the same frequency if $J=I$\n",
    "* J could be more frequent as $J$ could be a part of multiple subsets of $I$\n",
    "\n",
    "Example:\n",
    "* $I = \\{milk,bread,eggs,chips,salsa\\}$\n",
    "* $J = \\{milk,bread\\}$\n",
    "* If there are 20 people who bought $I$, then by default, the same 20 people also bought $J$\n",
    "* Additionally, there are some people who did not get $I$, but still got $J$:\n",
    "    * $\\{milk, bread, eggs\\}$\n",
    "    * $\\{milk, bread, chips\\}$\n",
    "    * $\\{milk, bread, chips, salsa\\}$\n",
    "    * ..."
   ]
  },
  {
   "cell_type": "markdown",
   "id": "3af7b6c9-0518-44d4-b813-cc985e0bcb22",
   "metadata": {},
   "source": [
    "#### The Algorithm\n",
    "The basic principle of the A-Priori is to decrease the number of calculations. But in order to do this, we make 2 passes through the data instead of just 1.\n",
    "\n",
    "__Pass 1__: Go through the data and count the frequency of each item\n",
    "* Select only the items with a support over the support threshold (again, often around 1\\%)\n",
    "* Begin with a list of $n$ items, narrow that down to $m$ items, where $m$ is a small fraction of $n$.\n",
    "\n",
    "__Pass 2__: For each basket, find only frequent items and count the pairs. Count all pairs for all baskets.\n",
    "\n",
    "If 50\\% of the items are eliminated, then since we are dealing with pairs, there will only be 25\\% of the calculations. This saves a lot on time and memory.\n",
    "\n",
    "In addition to being simple, this method can use monotonicity to find larger frequent $k$-sets.\n",
    "* Let $C_k$ be the set of candidate $k$-sets from the 1st pass\n",
    "* Find $L_k$, the set of truly frequent itemsets of size $k$\n",
    "* Use $L_k$ to find candidates for the $(k+1)$-set ($C_{k+1}$)\n",
    "\n",
    "From monotonicity, we know that there can only be the same (or fewer) number of frequent $(k+1)$-sets as there are frequent $k$-sets.\n",
    "* Each set $L_k$ gets smaller as $k$ increases\n",
    "* When $L_k$ is empty, then the largest frequent set is $L_{k-1}$"
   ]
  },
  {
   "cell_type": "markdown",
   "id": "b1f348a1-a530-4278-b86b-07dabac479f2",
   "metadata": {},
   "source": [
    "--------\n",
    "## Homework\n",
    "* Exercise 6.1.1 a,b,c\n",
    "* Exercise 6.1.2\n",
    "* Exercise 6.1.5 a,b - Find both the confidence and the interest of each association rule\n",
    "* Exercise 6.1.7 a\n",
    "* Exercise 6.2.6 a"
   ]
  },
  {
   "cell_type": "markdown",
   "id": "dbd37974-a50c-459f-a6a9-d1d6a6c524d6",
   "metadata": {},
   "source": []
  }
 ],
 "metadata": {
  "kernelspec": {
   "display_name": "DataScience",
   "language": "python",
   "name": "python3"
  },
  "language_info": {
   "codemirror_mode": {
    "name": "ipython",
    "version": 3
   },
   "file_extension": ".py",
   "mimetype": "text/x-python",
   "name": "python",
   "nbconvert_exporter": "python",
   "pygments_lexer": "ipython3",
   "version": "3.9.16"
  }
 },
 "nbformat": 4,
 "nbformat_minor": 5
}

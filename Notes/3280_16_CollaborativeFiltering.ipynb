{
 "cells": [
  {
   "cell_type": "markdown",
   "id": "3b4ea365-eb8b-4f4a-8ab2-4ada4e655d59",
   "metadata": {},
   "source": [
    "# Lecture 16 Recommendation Systems\n",
    "__Math 3280: Data Mining__\n",
    "\n",
    "__Outline__\n",
    "1. Content-based Recommendation System\n",
    "    * User Profile\n",
    "    * Recommendation\n",
    "2. Collaborative-Filtering based Recommendation System\n",
    "    * Duality of Similarity\n",
    "3. Netflix Challenge\n",
    "\n",
    "__Reading__ \n",
    "* Leskovec, Chapter 9\n",
    "-----"
   ]
  },
  {
   "cell_type": "markdown",
   "id": "97c24cdb-10e8-483f-8174-a0a401d32f6f",
   "metadata": {},
   "source": [
    "### User Profiles\n",
    "Having made an item profile (a matrix to provide features of the items), we can now create a profile associating each user with the same features from each item. For example, the utility matrix matches each user with a movie (the item) with a user rating. The item profile is a matrix that matches each movie (the item) with information such as actors or average ratings. These matrices can be used to create a __user profile__ which matches each user with the information in the item profile."
   ]
  },
  {
   "cell_type": "markdown",
   "id": "461e25a4-10a2-4579-adce-50169905d67c",
   "metadata": {},
   "source": [
    "#### User Profile with like/dislike ratings\n",
    "In this example, we're going to use movie features (actors and average ratings) to create a matrix giving a score based on the average ratings given to movies with each given actor. \n",
    "* Example: If 20\\% of the movies that a user likes have Julia Roberts as one of the actors, then the user profile for that user will be 0.2 in the component for Julia Roberts.\n",
    "\n",
    "How to find this:\n",
    "* Let $\\vec{A}$ be the vector of movies actor $A$ is in\n",
    "* Let $\\vec{u}$ be the vector of movies rating given by user $u$\n",
    "* $\\vec{A}\\cdot\\vec{u}$ will give the number of movies with the given actor that were given a rating by the given user\n",
    "* $\\vec{u}\\cdot\\vec{u}$ will give the norm of the user vector, which gives number of movies liked by that user\n",
    "* The quotient of these values will give a normalized weight to movies rated by that user that have that actor"
   ]
  },
  {
   "cell_type": "code",
   "execution_count": 10,
   "id": "19e11ba1-abe9-448c-92fd-1a0e3daf2ae1",
   "metadata": {},
   "outputs": [
    {
     "name": "stdout",
     "output_type": "stream",
     "text": [
      "Dot Product of User Likes and Julia Roberts' Movies : 2\n",
      "Norm of User Likes (number of movies liked)         : 10\n",
      "User weight to movies with Julia Roberts            : 0.2\n",
      "\n"
     ]
    },
    {
     "data": {
      "text/html": [
       "<div>\n",
       "<style scoped>\n",
       "    .dataframe tbody tr th:only-of-type {\n",
       "        vertical-align: middle;\n",
       "    }\n",
       "\n",
       "    .dataframe tbody tr th {\n",
       "        vertical-align: top;\n",
       "    }\n",
       "\n",
       "    .dataframe thead th {\n",
       "        text-align: right;\n",
       "    }\n",
       "</style>\n",
       "<table border=\"1\" class=\"dataframe\">\n",
       "  <thead>\n",
       "    <tr style=\"text-align: right;\">\n",
       "      <th></th>\n",
       "      <th>Julia Roberts</th>\n",
       "      <th>Robin Williams</th>\n",
       "      <th>Clint Eastwood</th>\n",
       "      <th>Ian McKellen</th>\n",
       "      <th>Movie Rating</th>\n",
       "    </tr>\n",
       "  </thead>\n",
       "  <tbody>\n",
       "    <tr>\n",
       "      <th>User A</th>\n",
       "      <td>0.176471</td>\n",
       "      <td>0.411765</td>\n",
       "      <td>0.5</td>\n",
       "      <td>0.529412</td>\n",
       "      <td>3.176471</td>\n",
       "    </tr>\n",
       "    <tr>\n",
       "      <th>User B</th>\n",
       "      <td>0.48</td>\n",
       "      <td>0.16</td>\n",
       "      <td>0.32</td>\n",
       "      <td>0.68</td>\n",
       "      <td>2.8</td>\n",
       "    </tr>\n",
       "    <tr>\n",
       "      <th>User C</th>\n",
       "      <td>0.307692</td>\n",
       "      <td>0.769231</td>\n",
       "      <td>0.230769</td>\n",
       "      <td>0.230769</td>\n",
       "      <td>3.538462</td>\n",
       "    </tr>\n",
       "  </tbody>\n",
       "</table>\n",
       "</div>"
      ],
      "text/plain": [
       "       Julia Roberts Robin Williams Clint Eastwood Ian McKellen Movie Rating\n",
       "User A      0.176471       0.411765            0.5     0.529412     3.176471\n",
       "User B          0.48           0.16           0.32         0.68          2.8\n",
       "User C      0.307692       0.769231       0.230769     0.230769     3.538462"
      ]
     },
     "execution_count": 10,
     "metadata": {},
     "output_type": "execute_result"
    }
   ],
   "source": [
    "## User Profile - binary ratings\n",
    "## Compare with Example 9.3 : Movies given only likes or dislikes\n",
    "dotproduct = np.dot(movie_casts['Julia Roberts'], user_likes.loc['User A'])\n",
    "norm = np.dot(user_likes.loc['User A'], user_likes.loc['User A'])\n",
    "print(f\"Dot Product of User Likes and Julia Roberts' Movies : {dotproduct}\")\n",
    "print(f\"Norm of User Likes (number of movies liked)         : {norm}\")\n",
    "print(f\"User weight to movies with Julia Roberts            : {dotproduct / norm}\\n\")\n",
    "\n",
    "\n",
    "user_profile_likes = pd.DataFrame(columns=actors_list)\n",
    "\n",
    "for actor_id in actors_list:\n",
    "    for user_id in user_ratings.index:\n",
    "        user_profile_likes.loc[user_id,actor_id] = np.dot(movie_casts[actor_id], user_ratings.loc[user_id]) / user_ratings.loc[user_id].sum()\n",
    "        \n",
    "user_profile_likes\n",
    "#user_profile_likes.drop('Movie Rating', axis=1)"
   ]
  },
  {
   "cell_type": "markdown",
   "id": "3477db8f-1931-4f4b-a99c-52bf247f147b",
   "metadata": {},
   "source": [
    "#### User Profile with scaled ratings\n",
    "Let's look again at our utility matrix:"
   ]
  },
  {
   "cell_type": "code",
   "execution_count": 11,
   "id": "bc46503c-72b5-4acf-b6d1-e0bd859f87a8",
   "metadata": {},
   "outputs": [
    {
     "data": {
      "text/html": [
       "<div>\n",
       "<style scoped>\n",
       "    .dataframe tbody tr th:only-of-type {\n",
       "        vertical-align: middle;\n",
       "    }\n",
       "\n",
       "    .dataframe tbody tr th {\n",
       "        vertical-align: top;\n",
       "    }\n",
       "\n",
       "    .dataframe thead th {\n",
       "        text-align: right;\n",
       "    }\n",
       "</style>\n",
       "<table border=\"1\" class=\"dataframe\">\n",
       "  <thead>\n",
       "    <tr style=\"text-align: right;\">\n",
       "      <th></th>\n",
       "      <th>M01</th>\n",
       "      <th>M02</th>\n",
       "      <th>M03</th>\n",
       "      <th>M04</th>\n",
       "      <th>M05</th>\n",
       "      <th>M06</th>\n",
       "      <th>M07</th>\n",
       "      <th>M08</th>\n",
       "      <th>M09</th>\n",
       "      <th>M10</th>\n",
       "      <th>M11</th>\n",
       "      <th>M12</th>\n",
       "      <th>M13</th>\n",
       "      <th>M14</th>\n",
       "      <th>M15</th>\n",
       "    </tr>\n",
       "  </thead>\n",
       "  <tbody>\n",
       "    <tr>\n",
       "      <th>User A</th>\n",
       "      <td>0</td>\n",
       "      <td>1</td>\n",
       "      <td>2</td>\n",
       "      <td>1</td>\n",
       "      <td>0</td>\n",
       "      <td>4</td>\n",
       "      <td>4</td>\n",
       "      <td>0</td>\n",
       "      <td>3</td>\n",
       "      <td>0</td>\n",
       "      <td>0</td>\n",
       "      <td>5</td>\n",
       "      <td>5</td>\n",
       "      <td>4</td>\n",
       "      <td>5</td>\n",
       "    </tr>\n",
       "    <tr>\n",
       "      <th>User B</th>\n",
       "      <td>3</td>\n",
       "      <td>4</td>\n",
       "      <td>0</td>\n",
       "      <td>0</td>\n",
       "      <td>0</td>\n",
       "      <td>0</td>\n",
       "      <td>1</td>\n",
       "      <td>5</td>\n",
       "      <td>0</td>\n",
       "      <td>3</td>\n",
       "      <td>0</td>\n",
       "      <td>5</td>\n",
       "      <td>0</td>\n",
       "      <td>0</td>\n",
       "      <td>4</td>\n",
       "    </tr>\n",
       "    <tr>\n",
       "      <th>User C</th>\n",
       "      <td>0</td>\n",
       "      <td>0</td>\n",
       "      <td>0</td>\n",
       "      <td>2</td>\n",
       "      <td>4</td>\n",
       "      <td>0</td>\n",
       "      <td>0</td>\n",
       "      <td>0</td>\n",
       "      <td>0</td>\n",
       "      <td>4</td>\n",
       "      <td>0</td>\n",
       "      <td>0</td>\n",
       "      <td>0</td>\n",
       "      <td>0</td>\n",
       "      <td>3</td>\n",
       "    </tr>\n",
       "  </tbody>\n",
       "</table>\n",
       "</div>"
      ],
      "text/plain": [
       "        M01  M02  M03  M04  M05  M06  M07  M08  M09  M10  M11  M12  M13  M14  \\\n",
       "User A    0    1    2    1    0    4    4    0    3    0    0    5    5    4   \n",
       "User B    3    4    0    0    0    0    1    5    0    3    0    5    0    0   \n",
       "User C    0    0    0    2    4    0    0    0    0    4    0    0    0    0   \n",
       "\n",
       "        M15  \n",
       "User A    5  \n",
       "User B    4  \n",
       "User C    3  "
      ]
     },
     "execution_count": 11,
     "metadata": {},
     "output_type": "execute_result"
    }
   ],
   "source": [
    "user_ratings"
   ]
  },
  {
   "cell_type": "markdown",
   "id": "a7376873-0870-48a7-b186-534fb629bdc2",
   "metadata": {},
   "source": [
    "There are a couple of problems we have to deal with:\n",
    "* Users may only rate movies they like (or only movies that they don't like)\n",
    "\n",
    "So, we think of it this way: with a 1-5 star rating, a rating above the user's average rating would be a high recommendation, while a rating below the user's average rating would be a weak recommendation. So, we want to, \n",
    "* normalize the user's ratings based on the average rating, then\n",
    "* find the average of these normalized ratings"
   ]
  },
  {
   "cell_type": "code",
   "execution_count": 12,
   "id": "9e69a91a",
   "metadata": {},
   "outputs": [
    {
     "name": "stdout",
     "output_type": "stream",
     "text": [
      "3.4\n",
      "Average rating by this user = 3.4\n"
     ]
    }
   ],
   "source": [
    "## Average Rating given by user over all videos - Compare with Example 9.4 : Movies given scaled ratings\n",
    "\n",
    "# Replace all 0's with NaN so they don't influence the average\n",
    "print(user_ratings.replace(0,np.nan).loc['User A'].mean())\n",
    "\n",
    "user_avg_rating = user_ratings.replace(0,np.nan).loc['User A'].mean()\n",
    "print(f\"Average rating by this user = {user_avg_rating}\")"
   ]
  },
  {
   "cell_type": "code",
   "execution_count": 13,
   "id": "4b5f6fb0-7456-4053-b030-f6792f831829",
   "metadata": {},
   "outputs": [
    {
     "data": {
      "text/plain": [
       "M01    0\n",
       "M02    0\n",
       "M03    2\n",
       "M04    0\n",
       "M05    0\n",
       "M06    0\n",
       "M07    4\n",
       "M08    0\n",
       "M09    0\n",
       "M10    0\n",
       "M11    0\n",
       "M12    0\n",
       "M13    0\n",
       "M14    0\n",
       "M15    0\n",
       "dtype: int64"
      ]
     },
     "execution_count": 13,
     "metadata": {},
     "output_type": "execute_result"
    }
   ],
   "source": [
    "### Next find the movies with a given actor and the ratings the user has given it\n",
    "actor_ratings_from_user = movie_casts['Julia Roberts'] * user_ratings.loc['User A']\n",
    "actor_ratings_from_user"
   ]
  },
  {
   "cell_type": "code",
   "execution_count": 14,
   "id": "ea2b0d15-41fc-4b3e-aabc-c4cb34977f4c",
   "metadata": {},
   "outputs": [
    {
     "data": {
      "text/plain": [
       "M01    0.0\n",
       "M02    0.0\n",
       "M03   -1.4\n",
       "M04    0.0\n",
       "M05    0.0\n",
       "M06    0.0\n",
       "M07    0.6\n",
       "M08    0.0\n",
       "M09    0.0\n",
       "M10    0.0\n",
       "M11    0.0\n",
       "M12    0.0\n",
       "M13    0.0\n",
       "M14    0.0\n",
       "M15    0.0\n",
       "dtype: float64"
      ]
     },
     "execution_count": 14,
     "metadata": {},
     "output_type": "execute_result"
    }
   ],
   "source": [
    "### Normalize the ratings by subtracting the average rating\n",
    "actor_ratings_from_user = actor_ratings_from_user.apply(lambda x: 0 if x==0 else x-user_avg_rating)\n",
    "actor_ratings_from_user"
   ]
  },
  {
   "cell_type": "code",
   "execution_count": 15,
   "id": "935d80c8-bfbf-4da0-b20c-3ff5baaa6b41",
   "metadata": {},
   "outputs": [
    {
     "data": {
      "text/plain": [
       "-0.3999999999999999"
      ]
     },
     "execution_count": 15,
     "metadata": {},
     "output_type": "execute_result"
    }
   ],
   "source": [
    "### The average is the score\n",
    "actor_ratings_from_user.replace(0,np.nan).mean()"
   ]
  },
  {
   "cell_type": "code",
   "execution_count": 16,
   "id": "31598049-37d4-4afd-9c05-bf1a9bad7f25",
   "metadata": {},
   "outputs": [
    {
     "data": {
      "text/plain": [
       "-0.3999999999999999"
      ]
     },
     "execution_count": 16,
     "metadata": {},
     "output_type": "execute_result"
    }
   ],
   "source": [
    "a = 'Julia Roberts'\n",
    "u = 'User A'\n",
    "\n",
    "avg_rating = user_ratings.replace(0,np.nan).loc[u].mean()\n",
    "(movie_casts[a] * user_ratings.loc[u]).apply(lambda x: 0 if x==0 else x-avg_rating).replace(0,np.nan).mean()"
   ]
  },
  {
   "cell_type": "code",
   "execution_count": 17,
   "id": "536c2f94-b731-4424-ba11-7ba92eafce6c",
   "metadata": {},
   "outputs": [
    {
     "data": {
      "text/html": [
       "<div>\n",
       "<style scoped>\n",
       "    .dataframe tbody tr th:only-of-type {\n",
       "        vertical-align: middle;\n",
       "    }\n",
       "\n",
       "    .dataframe tbody tr th {\n",
       "        vertical-align: top;\n",
       "    }\n",
       "\n",
       "    .dataframe thead th {\n",
       "        text-align: right;\n",
       "    }\n",
       "</style>\n",
       "<table border=\"1\" class=\"dataframe\">\n",
       "  <thead>\n",
       "    <tr style=\"text-align: right;\">\n",
       "      <th></th>\n",
       "      <th>Julia Roberts</th>\n",
       "      <th>Robin Williams</th>\n",
       "      <th>Clint Eastwood</th>\n",
       "      <th>Ian McKellen</th>\n",
       "    </tr>\n",
       "  </thead>\n",
       "  <tbody>\n",
       "    <tr>\n",
       "      <th>User A</th>\n",
       "      <td>-0.4</td>\n",
       "      <td>0.1</td>\n",
       "      <td>0.0</td>\n",
       "      <td>1.1</td>\n",
       "    </tr>\n",
       "    <tr>\n",
       "      <th>User B</th>\n",
       "      <td>-0.571429</td>\n",
       "      <td>-1.571429</td>\n",
       "      <td>0.428571</td>\n",
       "      <td>0.678571</td>\n",
       "    </tr>\n",
       "    <tr>\n",
       "      <th>User C</th>\n",
       "      <td>0.75</td>\n",
       "      <td>0.083333</td>\n",
       "      <td>-0.25</td>\n",
       "      <td>-0.25</td>\n",
       "    </tr>\n",
       "  </tbody>\n",
       "</table>\n",
       "</div>"
      ],
      "text/plain": [
       "       Julia Roberts Robin Williams Clint Eastwood Ian McKellen\n",
       "User A          -0.4            0.1            0.0          1.1\n",
       "User B     -0.571429      -1.571429       0.428571     0.678571\n",
       "User C          0.75       0.083333          -0.25        -0.25"
      ]
     },
     "execution_count": 17,
     "metadata": {},
     "output_type": "execute_result"
    }
   ],
   "source": [
    "## User Profile - Apply for all users and actors\n",
    "user_profile_ratings = pd.DataFrame(columns=actors_list)\n",
    "\n",
    "for actor_id in actors_list:\n",
    "    for user_id in user_ratings.index:\n",
    "        avg_rating = user_ratings.replace(0,np.nan).loc[user_id].mean()  # Average rating given by user\n",
    "        tmp = movie_casts[actor_id] * user_ratings.loc[user_id]          # Array of ratings given by user involving the given actor \n",
    "        user_profile_ratings.loc[user_id, actor_id] = tmp.apply(lambda x: 0 if x==0 else x-avg_rating).replace(0,np.nan).mean() # Subtract avg rating from ratings given, then take the mean\n",
    "        \n",
    "\n",
    "user_profile_ratings.drop('Movie Rating', axis=1, inplace=True)\n",
    "user_profile_ratings"
   ]
  },
  {
   "cell_type": "markdown",
   "id": "9c8afd73-6946-4a58-817a-629b0030d27e",
   "metadata": {},
   "source": [
    "### Recommendations\n",
    "At this point, we have an item profile (relating movies to features) and a user profile (relating users to the same features). Now, we can make a recommendation by calculating the distance (using your distance measure of choice) between a user's profile and the different movies in the item profile. We are going to use a cosine distance in this example."
   ]
  },
  {
   "cell_type": "markdown",
   "id": "512b22fa-0c1a-4848-a106-ac7e591b25c5",
   "metadata": {},
   "source": [
    "#### Recommendations using binary (like/dislike) system"
   ]
  },
  {
   "cell_type": "code",
   "execution_count": 18,
   "id": "8b2e6781-95d3-4fc2-913e-98f2ca36dfb1",
   "metadata": {},
   "outputs": [
    {
     "data": {
      "text/html": [
       "<div>\n",
       "<style scoped>\n",
       "    .dataframe tbody tr th:only-of-type {\n",
       "        vertical-align: middle;\n",
       "    }\n",
       "\n",
       "    .dataframe tbody tr th {\n",
       "        vertical-align: top;\n",
       "    }\n",
       "\n",
       "    .dataframe thead th {\n",
       "        text-align: right;\n",
       "    }\n",
       "</style>\n",
       "<table border=\"1\" class=\"dataframe\">\n",
       "  <thead>\n",
       "    <tr style=\"text-align: right;\">\n",
       "      <th></th>\n",
       "      <th>Julia Roberts</th>\n",
       "      <th>Robin Williams</th>\n",
       "      <th>Clint Eastwood</th>\n",
       "      <th>Ian McKellen</th>\n",
       "      <th>Movie Rating</th>\n",
       "    </tr>\n",
       "  </thead>\n",
       "  <tbody>\n",
       "    <tr>\n",
       "      <th>M01</th>\n",
       "      <td>1</td>\n",
       "      <td>0</td>\n",
       "      <td>0</td>\n",
       "      <td>1</td>\n",
       "      <td>3</td>\n",
       "    </tr>\n",
       "    <tr>\n",
       "      <th>M02</th>\n",
       "      <td>0</td>\n",
       "      <td>0</td>\n",
       "      <td>1</td>\n",
       "      <td>0</td>\n",
       "      <td>5</td>\n",
       "    </tr>\n",
       "    <tr>\n",
       "      <th>M03</th>\n",
       "      <td>1</td>\n",
       "      <td>0</td>\n",
       "      <td>0</td>\n",
       "      <td>0</td>\n",
       "      <td>4</td>\n",
       "    </tr>\n",
       "    <tr>\n",
       "      <th>M04</th>\n",
       "      <td>0</td>\n",
       "      <td>1</td>\n",
       "      <td>0</td>\n",
       "      <td>0</td>\n",
       "      <td>2</td>\n",
       "    </tr>\n",
       "    <tr>\n",
       "      <th>M05</th>\n",
       "      <td>0</td>\n",
       "      <td>1</td>\n",
       "      <td>0</td>\n",
       "      <td>0</td>\n",
       "      <td>4</td>\n",
       "    </tr>\n",
       "    <tr>\n",
       "      <th>M06</th>\n",
       "      <td>0</td>\n",
       "      <td>0</td>\n",
       "      <td>1</td>\n",
       "      <td>0</td>\n",
       "      <td>4</td>\n",
       "    </tr>\n",
       "    <tr>\n",
       "      <th>M07</th>\n",
       "      <td>1</td>\n",
       "      <td>1</td>\n",
       "      <td>0</td>\n",
       "      <td>0</td>\n",
       "      <td>3</td>\n",
       "    </tr>\n",
       "    <tr>\n",
       "      <th>M08</th>\n",
       "      <td>1</td>\n",
       "      <td>0</td>\n",
       "      <td>0</td>\n",
       "      <td>1</td>\n",
       "      <td>1</td>\n",
       "    </tr>\n",
       "    <tr>\n",
       "      <th>M09</th>\n",
       "      <td>0</td>\n",
       "      <td>0</td>\n",
       "      <td>1</td>\n",
       "      <td>1</td>\n",
       "      <td>5</td>\n",
       "    </tr>\n",
       "    <tr>\n",
       "      <th>M10</th>\n",
       "      <td>1</td>\n",
       "      <td>1</td>\n",
       "      <td>0</td>\n",
       "      <td>0</td>\n",
       "      <td>5</td>\n",
       "    </tr>\n",
       "    <tr>\n",
       "      <th>M11</th>\n",
       "      <td>1</td>\n",
       "      <td>0</td>\n",
       "      <td>0</td>\n",
       "      <td>0</td>\n",
       "      <td>1</td>\n",
       "    </tr>\n",
       "    <tr>\n",
       "      <th>M12</th>\n",
       "      <td>0</td>\n",
       "      <td>0</td>\n",
       "      <td>0</td>\n",
       "      <td>1</td>\n",
       "      <td>2</td>\n",
       "    </tr>\n",
       "    <tr>\n",
       "      <th>M13</th>\n",
       "      <td>0</td>\n",
       "      <td>1</td>\n",
       "      <td>0</td>\n",
       "      <td>1</td>\n",
       "      <td>2</td>\n",
       "    </tr>\n",
       "    <tr>\n",
       "      <th>M14</th>\n",
       "      <td>0</td>\n",
       "      <td>1</td>\n",
       "      <td>1</td>\n",
       "      <td>0</td>\n",
       "      <td>5</td>\n",
       "    </tr>\n",
       "    <tr>\n",
       "      <th>M15</th>\n",
       "      <td>0</td>\n",
       "      <td>0</td>\n",
       "      <td>1</td>\n",
       "      <td>1</td>\n",
       "      <td>2</td>\n",
       "    </tr>\n",
       "  </tbody>\n",
       "</table>\n",
       "</div>"
      ],
      "text/plain": [
       "     Julia Roberts  Robin Williams  Clint Eastwood  Ian McKellen  Movie Rating\n",
       "M01              1               0               0             1             3\n",
       "M02              0               0               1             0             5\n",
       "M03              1               0               0             0             4\n",
       "M04              0               1               0             0             2\n",
       "M05              0               1               0             0             4\n",
       "M06              0               0               1             0             4\n",
       "M07              1               1               0             0             3\n",
       "M08              1               0               0             1             1\n",
       "M09              0               0               1             1             5\n",
       "M10              1               1               0             0             5\n",
       "M11              1               0               0             0             1\n",
       "M12              0               0               0             1             2\n",
       "M13              0               1               0             1             2\n",
       "M14              0               1               1             0             5\n",
       "M15              0               0               1             1             2"
      ]
     },
     "execution_count": 18,
     "metadata": {},
     "output_type": "execute_result"
    }
   ],
   "source": [
    "movie_casts"
   ]
  },
  {
   "cell_type": "code",
   "execution_count": 19,
   "id": "426fdcff-e5da-4d27-ba6a-dc4290b77b60",
   "metadata": {},
   "outputs": [
    {
     "data": {
      "text/html": [
       "<div>\n",
       "<style scoped>\n",
       "    .dataframe tbody tr th:only-of-type {\n",
       "        vertical-align: middle;\n",
       "    }\n",
       "\n",
       "    .dataframe tbody tr th {\n",
       "        vertical-align: top;\n",
       "    }\n",
       "\n",
       "    .dataframe thead th {\n",
       "        text-align: right;\n",
       "    }\n",
       "</style>\n",
       "<table border=\"1\" class=\"dataframe\">\n",
       "  <thead>\n",
       "    <tr style=\"text-align: right;\">\n",
       "      <th></th>\n",
       "      <th>Julia Roberts</th>\n",
       "      <th>Robin Williams</th>\n",
       "      <th>Clint Eastwood</th>\n",
       "      <th>Ian McKellen</th>\n",
       "      <th>Movie Rating</th>\n",
       "    </tr>\n",
       "  </thead>\n",
       "  <tbody>\n",
       "    <tr>\n",
       "      <th>User A</th>\n",
       "      <td>0.176471</td>\n",
       "      <td>0.411765</td>\n",
       "      <td>0.5</td>\n",
       "      <td>0.529412</td>\n",
       "      <td>3.176471</td>\n",
       "    </tr>\n",
       "    <tr>\n",
       "      <th>User B</th>\n",
       "      <td>0.48</td>\n",
       "      <td>0.16</td>\n",
       "      <td>0.32</td>\n",
       "      <td>0.68</td>\n",
       "      <td>2.8</td>\n",
       "    </tr>\n",
       "    <tr>\n",
       "      <th>User C</th>\n",
       "      <td>0.307692</td>\n",
       "      <td>0.769231</td>\n",
       "      <td>0.230769</td>\n",
       "      <td>0.230769</td>\n",
       "      <td>3.538462</td>\n",
       "    </tr>\n",
       "  </tbody>\n",
       "</table>\n",
       "</div>"
      ],
      "text/plain": [
       "       Julia Roberts Robin Williams Clint Eastwood Ian McKellen Movie Rating\n",
       "User A      0.176471       0.411765            0.5     0.529412     3.176471\n",
       "User B          0.48           0.16           0.32         0.68          2.8\n",
       "User C      0.307692       0.769231       0.230769     0.230769     3.538462"
      ]
     },
     "execution_count": 19,
     "metadata": {},
     "output_type": "execute_result"
    }
   ],
   "source": [
    "user_profile_likes"
   ]
  },
  {
   "cell_type": "code",
   "execution_count": 20,
   "id": "b654355a-424c-4fb4-97ca-32c2fec35578",
   "metadata": {},
   "outputs": [
    {
     "data": {
      "text/plain": [
       "0.48650425541051995"
      ]
     },
     "execution_count": 20,
     "metadata": {},
     "output_type": "execute_result"
    }
   ],
   "source": [
    "user = \"User A\"\n",
    "movie = \"M10\"\n",
    "\n",
    "cosine_distance(movie_casts.drop('Movie Rating', axis=1).loc[movie],\n",
    "                user_profile_likes.drop('Movie Rating', axis=1).loc[user])"
   ]
  },
  {
   "cell_type": "markdown",
   "id": "a8608270-b756-44cf-8c32-7d4cc39e852c",
   "metadata": {},
   "source": [
    "#### Recommendations using scaled (stars) system"
   ]
  },
  {
   "cell_type": "code",
   "execution_count": 21,
   "id": "c71913cf-61be-4134-88fe-d63db8ce6ace",
   "metadata": {},
   "outputs": [
    {
     "data": {
      "text/html": [
       "<div>\n",
       "<style scoped>\n",
       "    .dataframe tbody tr th:only-of-type {\n",
       "        vertical-align: middle;\n",
       "    }\n",
       "\n",
       "    .dataframe tbody tr th {\n",
       "        vertical-align: top;\n",
       "    }\n",
       "\n",
       "    .dataframe thead th {\n",
       "        text-align: right;\n",
       "    }\n",
       "</style>\n",
       "<table border=\"1\" class=\"dataframe\">\n",
       "  <thead>\n",
       "    <tr style=\"text-align: right;\">\n",
       "      <th></th>\n",
       "      <th>Julia Roberts</th>\n",
       "      <th>Robin Williams</th>\n",
       "      <th>Clint Eastwood</th>\n",
       "      <th>Ian McKellen</th>\n",
       "    </tr>\n",
       "  </thead>\n",
       "  <tbody>\n",
       "    <tr>\n",
       "      <th>User A</th>\n",
       "      <td>-0.4</td>\n",
       "      <td>0.1</td>\n",
       "      <td>0.0</td>\n",
       "      <td>1.1</td>\n",
       "    </tr>\n",
       "    <tr>\n",
       "      <th>User B</th>\n",
       "      <td>-0.571429</td>\n",
       "      <td>-1.571429</td>\n",
       "      <td>0.428571</td>\n",
       "      <td>0.678571</td>\n",
       "    </tr>\n",
       "    <tr>\n",
       "      <th>User C</th>\n",
       "      <td>0.75</td>\n",
       "      <td>0.083333</td>\n",
       "      <td>-0.25</td>\n",
       "      <td>-0.25</td>\n",
       "    </tr>\n",
       "  </tbody>\n",
       "</table>\n",
       "</div>"
      ],
      "text/plain": [
       "       Julia Roberts Robin Williams Clint Eastwood Ian McKellen\n",
       "User A          -0.4            0.1            0.0          1.1\n",
       "User B     -0.571429      -1.571429       0.428571     0.678571\n",
       "User C          0.75       0.083333          -0.25        -0.25"
      ]
     },
     "execution_count": 21,
     "metadata": {},
     "output_type": "execute_result"
    }
   ],
   "source": [
    "user_profile_ratings.head()"
   ]
  },
  {
   "cell_type": "code",
   "execution_count": 22,
   "id": "8f664e09-1f69-4e2d-84ce-cef04ed772d0",
   "metadata": {},
   "outputs": [
    {
     "data": {
      "text/plain": [
       "7.560676802487164e-17"
      ]
     },
     "execution_count": 22,
     "metadata": {},
     "output_type": "execute_result"
    }
   ],
   "source": [
    "cosine_distance(movie_casts.drop('Movie Rating', axis=1).loc['M06'],\n",
    "                user_profile_ratings.loc['User A'])"
   ]
  },
  {
   "cell_type": "markdown",
   "id": "5f74192d-b9be-448d-a78c-1d0da2da8145",
   "metadata": {},
   "source": [
    "Advantages to Content-based approach\n",
    "* No need for data from other users\n",
    "* Able to cater to unique tastes\n",
    "* Can include new and unpopular items in recommendations\n",
    "* Can include explanations for recommendations (Because you liked 'A', you might like 'B')\n",
    "\n",
    "Disadvantages to Content-based approach\n",
    "* Difficult to find the appropriate features\n",
    "  * Images, music, etc.\n",
    "* Overspecialization (sticks to user's profile - doesn't go outside of that\n",
    "* Can't take advantage of experience (quality judgments) from other users\n",
    "* How do you make recommendations to a new user who doesn't have a profile?\n",
    "\n",
    "-----"
   ]
  },
  {
   "cell_type": "markdown",
   "id": "1760ad57",
   "metadata": {},
   "source": [
    "## Collaborative-filtering approach\n",
    "The basic idea here is to find other users in the Utility Matrix with similar ratings using a distance measure. For example, there is a section on each Amazon page labelled, \"Customers who bought this item also bought.\" Instead of creating an Item Profile, we just use that item's column in the utility matrix, and instead of using a User Profile, we just use that user's row in the utility matrix. We then look for other columns/rows similar to the first. \n",
    "\n",
    "Common distance measures with advantages and disadvantages\n",
    "* Jaccard Distance\n",
    "    + Advantages: \n",
    "        * Ignores values\n",
    "        * works with sparse matrices\n",
    "    - Disadvantages: \n",
    "        * Loses details from the utility matrix (such as ratings)\n",
    "        * Two users with opposite ratings may be labelled similar just because they have ratings\n",
    "* Cosine Distance\n",
    "    + Advantages:\n",
    "        * Easy to calculate\n",
    "        * They don't have to be exactly the same to have a low distance - just similar enough to have a small angle\n",
    "    - Disadvantages: \n",
    "        * Have to fill blank values with a 0 which acts more like a negative rating\n",
    "* Rounding the Data\n",
    "    * Replace high values with a 1 and low values with a 0 or a blank\n",
    "    + Advantages: \n",
    "        * Simplifies a scaled rating down to a binary rating\n",
    "        * Easier calculation\n",
    "        * Allows Jaccard Distance calculation while maintaining some of the details of the Utility Matrix\n",
    "* Normalizing Ratings\n",
    "    * Subtract average rating given by user from all ratings so low ranks are negative and high ranks are positive\n",
    "    + Advantages:\n",
    "        * Works very well with the Cosine Distance"
   ]
  },
  {
   "cell_type": "markdown",
   "id": "3276f208",
   "metadata": {},
   "source": [
    "### Duality of Similarity\n",
    "A utility matrix can both relate items to users and relate users to items. However, they are not always symmetric relationships. Two examples of how symmetry is broken:\n",
    "1. Even though we can find the similarity between different items, we need to take an additional step in order to make recommendations to users.\n",
    "    * One method may require more calculations than the other\n",
    "    * For example, we need to normalize each user's ratings to estimate true ratings in cases where users tend to always give either high or low ratings\n",
    "2. A user's behavior and an item's features may not always be compatible. \n",
    "    * For example, a piece of music must be only one genre, whereas users can like multiple genres\n",
    "    * If you have two people who both like 80's music, that doesn't necessarily mean they have the same tastes. One might like 80's music and classical music, while another might like 80's music and jazz. So, using one user's preferences to make recommendations to another may not always work.\n",
    "\n",
    "The duality of the utility matrix can be seen in the following scenarios:\n",
    "1. We can compare one user A's row to find $n$ other users most similar to A, then take average ratings of each item I to predict whether user A will like I or not\n",
    "2. We can compare one item I's column to find $m$ other items most similar to I, then take the average rating of all these similar items given by user A to predict whether user A will like I or not\n",
    "\n",
    "For either method, we need to fill in (predict) values for most items in a user's row in order to make predictions. Which method we use (using similar users or similar items to predict the value) doesn't matter so much. However, there are tradeoffs:\n",
    "* Using similar users, we only have to do the process once to get enough information to fill in the row for user A\n",
    "* Using similar items, we can get more reliable information, but at the expense of doing more calculations\n",
    "\n",
    "-----"
   ]
  },
  {
   "cell_type": "markdown",
   "id": "38c3b677",
   "metadata": {},
   "source": [
    "## The Netflix Challenge\n",
    "Netflix wanted a better algorithm to recommend movies to their users. The offered a \\$1,000,000 prize to the first person who could beat their algorithm (CineMatch) by 10\\%. It was discovered early that the algorithm Netflix followed was not very good. There were many great entries over the next three years:\n",
    "\n",
    "#### Basic Algorithm\n",
    "The original algorithm for Netflix took the average rating given by a user $u$ on all rated movies and the average of the ratings for movie $m$ by all users who rated that movie (in other words, they took the average of a user's row and the average of a movie's column, then averaged those two values together).\n",
    "\n",
    "The basic algorithm was only 3\\% worse than CineMatch.\n",
    "\n",
    "#### Singular Value Decomposition\n",
    "A team of three students used a technique called __UV-decomposition__ (also known as Singular Value Decomposition) to give a 7\\% improvement.\n",
    "\n",
    "SVD will be the next topic we address in this class.\n",
    "\n",
    "#### The winner\n",
    "The winner actually used a combination of several different algorithms that had been developed independently.\n",
    "\n",
    "A second team also used a combination of several different algorithms, but lost the competition by mere minutes.\n",
    "\n",
    "The time at which the rating was given turned out to be an important factor."
   ]
  },
  {
   "cell_type": "markdown",
   "id": "30d347e2-5fd3-41a8-86e1-cca8b7ff2325",
   "metadata": {},
   "source": [
    "-----\n",
    "* Exercise 9.2.1 a-d\n",
    "* Exercise 9.2.2 a\n",
    "  * Calculate and interpret the cosine distances between each computer\n",
    "* Exercise 9.2.3 a-b\n",
    "* Exercise 9.3.1 a-f"
   ]
  }
 ],
 "metadata": {
  "kernelspec": {
   "display_name": "DataScience",
   "language": "python",
   "name": "python3"
  },
  "language_info": {
   "codemirror_mode": {
    "name": "ipython",
    "version": 3
   },
   "file_extension": ".py",
   "mimetype": "text/x-python",
   "name": "python",
   "nbconvert_exporter": "python",
   "pygments_lexer": "ipython3",
   "version": "3.9.16"
  }
 },
 "nbformat": 4,
 "nbformat_minor": 5
}

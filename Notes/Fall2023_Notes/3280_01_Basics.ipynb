{
 "cells": [
  {
   "cell_type": "markdown",
   "id": "1d4b1835-81d7-4116-9925-a1815c4438c8",
   "metadata": {
    "tags": []
   },
   "source": [
    "# 01 Data Mining Basics\n",
    "__Math 3280 - Data Mining__ : Snow College : Dr. Michael E. Olson\n",
    "\n",
    "-----"
   ]
  },
  {
   "cell_type": "markdown",
   "id": "39819197-d907-4803-99bf-ae42c624b303",
   "metadata": {},
   "source": [
    "## What is Data Mining?\n",
    "* Data mining is the process of getting info from data. Really, all three semesters can be summarized as Data Mining\n",
    "  * Originally known as \"Data Dredging\", it was the process of trying to extract information that isn't always supported by the data. Not the most glamorous part of a statistician's job\n",
    "  * Later it focused more as \"Big Data\", which is gleaning information from large amounts of data\n",
    "  * Now known as \"Data Mining\", we now extract this information for the purpose of creating a model (which gets into adaptive modelling, or \"Machine Learning\")\n",
    "* This semester, we focus on Big Data: handling and managing large amounts of data"
   ]
  },
  {
   "cell_type": "markdown",
   "id": "df313553-5abd-4d87-945a-12373ec99b91",
   "metadata": {},
   "source": [
    "## Things Useful to Know"
   ]
  },
  {
   "cell_type": "markdown",
   "id": "42d5410d-c454-4e7f-a9a2-d8f04867258d",
   "metadata": {},
   "source": [
    "### Importance of Words\n",
    "What makes a word in a document important? \n",
    "* Words appearing most frequently?\n",
    "  * The most frequent words will always be common non-useful terms such as \"the\" or \"and\" (aka \"stop words\")\n",
    "  * ---Draw 1D line for frequency---\n",
    "    * Low: \"Notwithstanding\", \"Albeit\", \"Conclusion\"\n",
    "    * High: \"the\", \"and\"\n",
    "* Rare words\n",
    "  * A lot of rare words are only used to help in sentence flow, such as \"notwithstanding\", \"albeit\", or \"conclusion\"\n",
    "  * ---Draw 1D line for rarity---\n",
    "    * Rare: \"Notwithstanding\", \"Albeit\"\n",
    "    * Common: \"the\", \"and\", \"conclusion\"\n",
    "\n",
    "*The difference between rare words that tell us something and those that do not has to do with the concentration (frequency) of the useful words in just a few documents.*\n",
    "  * ---Draw 2D grid: x-axis rare to common, y-axis Low f to High f---\n",
    "  * High f, common: \"the\", \"and\"\n",
    "  * Low f, common: \"conclusion\"\n",
    "  * Low f, rare: \"notwithstanding\", \"albeit\"\n",
    "  * The important words are those that have high f and are rare (only occur with high frequency in just a few documents)\n",
    "\n",
    "We'll calculate using the $TF.IDF$ (Term Frequency times Inverse Document Frequency)\n",
    "* Term frequency ($TF_{ij}$): number of occurrences of word $i$ normalized in document $j$\n",
    "$$TF_{ij} = \\frac{f_{ij}}{max_k f_{kj}}$$\n",
    "\n",
    "| __*Frequency*__ | Doc 0 | Doc 1 | Doc 2 |\n",
    "| --------------: | :---: | :---: | :---: |\n",
    "|          Word 0 |   7   |   8   |   4   |\n",
    "|          Word 1 |   2   |   4   |   6   |\n",
    "|          Word 2 |   5   |   9   |   0   |\n",
    "\n",
    "$$max_k f_{k0} = 7 \\qquad max_k f_{k1} = 9 \\qquad max_k f_{k2} = 6$$\n",
    "\n",
    "| __*TF*__ | Doc 0 | Doc 1 | Doc 2 |\n",
    "| -------: | :---: | :---: | :---: |\n",
    "|   Word 0 |   1   |  8/9  |  2/3  |\n",
    "|   Word 1 |  2/7  |  4/9  |   1   |\n",
    "|   Word 2 |  5/7  |   1   |   0   |\n",
    "\n",
    "* Inverse Document Frequency ($IDF_i$): Inverse ratio of documents containing word $i$ on a logarithmic scale\n",
    "  * If $n_i$ documents out of $N$ documents contain word $i$, then the ratio is $\\frac{n_i}{N}$\n",
    "  * The inverse ratio is $\\frac{N}{n_i}$\n",
    "  * Put onto a logarithmic scale"
   ]
  },
  {
   "cell_type": "code",
   "execution_count": 26,
   "id": "04a11ea0-6c50-44ff-bb78-8d99c359a398",
   "metadata": {},
   "outputs": [
    {
     "name": "stderr",
     "output_type": "stream",
     "text": [
      "/tmp/ipykernel_754/2409693475.py:10: RuntimeWarning: divide by zero encountered in divide\n",
      "  ax.plot(x,np.log(N/x))\n"
     ]
    },
    {
     "data": {
      "image/png": "[encoded data removed]",
      "text/plain": [
       "<Figure size 400x300 with 1 Axes>"
      ]
     },
     "metadata": {},
     "output_type": "display_data"
    }
   ],
   "source": [
    "import numpy as np\n",
    "import matplotlib.pyplot as plt\n",
    "\n",
    "N = 3\n",
    "x = np.linspace(0, N, N*100 + 1)\n",
    "\n",
    "#plt.rcParams['figure.figsize'] = 4, 3\n",
    "fig,ax = plt.subplots(figsize=(4,3))\n",
    "\n",
    "ax.plot(x,np.log(N/x))\n",
    "ax.grid(True)\n",
    "plt.show()"
   ]
  },
  {
   "cell_type": "markdown",
   "id": "47182d7b-ef7e-4f27-b05a-a0ed07eb7185",
   "metadata": {},
   "source": [
    "On an inverse logarithmic scale, words that appear in fewer documents ($n_i$) will give a large $IDF$, which should be the case for words that are unique to specific topics. But if the word appears in more documents, then the $IDF$ will approach 0.\n",
    "$$IDF_i = \\log_2\\left(\\frac{N}{n_i}\\right)$$\n",
    "\n",
    "| __*TF*__ | Doc 0 | Doc 1 | Doc 2 |\n",
    "| -------: | :---: | :---: | :---: |\n",
    "|   Word 0 |   1   |  8/9  |  2/3  |\n",
    "|   Word 1 |  2/7  |  4/9  |   1   |\n",
    "|   Word 2 |  5/7  |   1   |   0   |\n",
    "\n",
    "$$IDF_0 = \\log_2\\left(\\frac{3}{3}\\right) = 0 \\qquad IDF_1 = \\log_2\\left(\\frac{3}{3}\\right) = 0 \\qquad IDF_2 = \\log_2\\left(\\frac{3}{2}\\right) = 0.58$$\n",
    "\n",
    "| __*TF.IDF*__ | Doc 0              | Doc 1           | Doc 2        |\n",
    "| -----------: | :----------------: | :-------------: | :----------: |\n",
    "|       Word 0 | $$1*0=0$$          | $$8/9*0=0$$     | $$2/3*0=0$$  |\n",
    "|       Word 1 | $$2/7*0=0$$        | $$4/9*0=0$$     | $$1*0=0$$    |\n",
    "|       Word 2 | $$5/7*0.58=0.418$$ | $$1*0.58=0.58$$ | $$0*0.58=0$$ |\n",
    "\n",
    "Word 2 is the most significant word in all documents, and is most significant in Doc 1."
   ]
  },
  {
   "cell_type": "markdown",
   "id": "dccd1fb6-1179-4318-ab3b-b03365bb90d9",
   "metadata": {},
   "source": [
    "##### __HW 1 Q 1__\n",
    "* Give 6 documents and 20 words\n",
    "* Do a word search for the 20 words in each document\n",
    "* Calculate $TF_{ij}$ for each word ($i$) and document ($j$)\n",
    "* Calculate $IDF_i$ for each word ($i$)\n",
    "* Calculate $TF.IDF$"
   ]
  },
  {
   "cell_type": "markdown",
   "id": "fa9de695-bade-480f-ad54-5e4f8feb2008",
   "metadata": {},
   "source": [
    "### Hash Functions\n",
    "When we need to search for a particular value, we could simply go through all the values until we find the one we want. This is called a __linear search__. For small datasets, this works just fine. But for large datasets, this is inefficient.\n",
    "\n",
    "A __hash function__ takes some key value related to the data and produces a __bucket number__. That is, we take something intuitive about the data (ID, name, timestamp,...) and do some calculation on it to determine what bucket, or place in our array, the data should be stored. Then when we want to recall that data, we do the same calculation, and we know exactly where that data is stored.\n",
    "\n",
    "The following three examples demonstrate how one common hash function works, and presents a potential issue.\n",
    "\n",
    "*Example 1*:\n",
    "> You have data for 10 patients that you want to store in the database.\n",
    "> * Their IDs are:\n",
    ">   * [100, 186, 152, 199, 103, 127, 175, 131, 114, 148]\n",
    "> * To determine the bucket to store the data in, take the modulus of each ID with the number of elements (10)\n",
    ">   * [0, 6, 2, 9, 3, 7, 5, 1, 4, 8]\n",
    "> * Store the data:\n",
    ">   * `ID = [[0], [1], [2], [3], [4], [5], [6], [7], [8], [9]]`\n",
    ">   * `ID = [100, ___, ___, ___, ___, ___, ___, ___, ___, ___]`\n",
    ">   * `ID = [100, ___, ___, ___, ___, ___, 186, ___, ___, ___]`\n",
    ">   * `ID = [100, ___, 152, ___, ___, ___, 186, ___, ___, ___]`\n",
    ">   * `ID = [100, ___, 152, ___, ___, ___, 186, ___, ___, 199]`\n",
    ">   * `ID = [100, ___, 152, 103, ___, ___, 186, ___, ___, 199]`\n",
    ">   * `ID = [100, ___, 152, 103, ___, ___, 186, 127, ___, 199]`\n",
    ">   * `ID = [100, ___, 152, 103, ___, 175, 186, 127, ___, 199]`\n",
    ">   * `ID = [100, 131, 152, 103, ___, 175, 186, 127, ___, 199]`\n",
    ">   * `ID = [100, 131, 152, 103, 114, 175, 186, 127, ___, 199]`\n",
    ">   * `ID = [100, 131, 152, 103, 114, 175, 186, 127, 148, 199]`\n",
    "> * If you want patient 186, take the modulus $186 mod 10 = 6$. The data is in bucket 6 for all lists.\n",
    ">   * `ID[6] = 186`, `name[6]`, `weight[6]`, ...\n",
    "\n",
    "*Example 2*:\n",
    "\n",
    "This example is the same as example 1, but notice that some of the calculations repeat bucket numbers:\n",
    "> You have data for 10 patients that you want to store in the database.\n",
    "> * Their IDs are:\n",
    ">   * [245, 287, 261, 295, 233, 209, 276, 284, 260, 221]\n",
    "> * To determine the bucket to store the data in, take the modulus of each ID with the number of elements (10)\n",
    ">   * [5, 7, 1, 5, 6, 3, 6, 1, 4, 8]\n",
    "> * Store the data:\n",
    ">   * `ID = [___, ___, ___, ___, ___, 245, ___, ___, ___, ___]`\n",
    ">   * `ID = [___, ___, ___, ___, ___, 245, ___, 287, ___, ___]`\n",
    ">   * `ID = [___, 261, ___, ___, ___, 245, ___, 287, ___, ___]`\n",
    "> * The next is 295 going into bucket 5. But bucket 5 is already filled. So, fill the next bucket.\n",
    ">   * `ID = [___, 261, ___, ___, ___, 245, 295, 287, ___, ___]`\n",
    ">   * `ID = [___, 261, ___, 233, ___, 245, 295, 287, ___, ___]`\n",
    ">   * `ID = [___, 261, ___, 233, ___, 245, 295, 287, ___, 209]`\n",
    "> * The next is 276 going into bucket 6. But bucket 6 is already filled. So, go to the next bucket, but that is also filled. Just keep going and fill the next available bucket.\n",
    ">   * `ID = [___, 261, ___, 233, ___, 245, 295, 287, 276, 209]`\n",
    ">   * `ID = [___, 261, ___, 233, 284, 245, 295, 287, 276, 209]`\n",
    ">   * `ID = [260, 261, ___, 233, 284, 245, 295, 287, 276, 209]`\n",
    "> * The next is 221 going into bucket 1. But bucket 1 is already filled. So, fill the next bucket.\n",
    ">   * `ID = [260, 261, 221, 233, 284, 245, 295, 287, 276, 209]`\n",
    "> * If you want patient 233, take the modulus $233 mod 10 = 3$. The data is in bucket 3 for all lists.\n",
    ">   * `ID[3] = 233`, `name[3]`, `weight[3]`, ...\n",
    "> * If you want patient 276, take the modulus $276 mod 10 = 6$. But this time, the data isn't in bucket 6. Go to bucket 6 and start a linear search from there.\n",
    ">   * `ID[6] = 295`\n",
    ">   * `ID[7] = 287`\n",
    ">   * `ID[8] = 276` is a match!\n",
    ">   * The data is in bucket 8 for all lists.\n",
    ">   * `ID[8] = 276`, `name[8]`, `weight[8]`, ...\n",
    "\n",
    "*Example 3*:\n",
    "\n",
    "In this example, we use names instead of IDs.\n",
    "> You have data for 5 patients that you want to store in the database.\n",
    "> * Their names are:\n",
    ">   * [Jon, Sue, Sam, Dan, Ted]\n",
    "> * Create a numberical value by adding the ASCII codes for each character in the name. Then take the modulus of that result with the number of patients (5).\n",
    ">   * 'Jon' = 74 + 111 + 110 = 295 --> 295 mod 5 = 0\n",
    ">   * 'Sue' = 83 + 117 + 101 = 301 --> 301 mod 5 = 1\n",
    ">   * 'Sam' = 83 +  97 + 109 = 289 --> 289 mod 5 = 4\n",
    ">   * 'Dan' = 68 +  97 + 110 = 275 --> 275 mod 5 = 0\n",
    ">   * 'Ted' = 84 + 101 + 100 = 285 --> 285 mod 5 = 0\n",
    "> * Store the data:\n",
    ">   * `ID = [Jon, ___, ___, ___, ___]`\n",
    ">   * `ID = [Jon, Sue, ___, ___, ___]`\n",
    ">   * `ID = [Jon, Sue, ___, ___, Sam]`\n",
    ">   * `ID = [Jon, Sue, Dan, ___, Sam]`\n",
    ">   * `ID = [Jon, Sue, Dan, Ted, Sam]`\n",
    "\n",
    "Notice how in this last example, finding the record for Ted is almost as many tests as just doing a linear search. Certain datapoints could have that issue. But for the most part, this is a very straightforward hash function that simplifies the search process. On the whole, the number of calculations needed to find a name has dropped drastically.\n",
    "\n",
    "Some ways to further decrease these calculations:\n",
    "* Make the number of buckets larger than the actual datapoints. That way there is more space, and less chance for overlap.\n",
    "* Make the number of buckets prime."
   ]
  },
  {
   "cell_type": "markdown",
   "id": "526828b0-8493-4bbe-a473-5fb564a6c219",
   "metadata": {},
   "source": [
    "### Base of Natural Logarithms\n",
    "1. Limit of natural number\n",
    "2. Taylor Expansion\n",
    "\n",
    "#### Limit of natural number\n",
    "$$\\lim_{x\\to\\infty} \\left(1+\\frac{1}{x}\\right)^x = 2.718281828... = e$$\n",
    "\n",
    "This can be used to better approximate certain calculations:\n",
    "$$\\left(1+a\\right)^b \\qquad \\text{let }a = \\frac{1}{x}\\text{ or }\\frac{1}{a}=x$$\n",
    "$$\\left(1+\\frac{1}{x}\\right)^{xab} = \\left(\\left(1+\\frac{1}{x}\\right)^x\\right)^{ab}$$\n",
    "\n",
    "When $a$ is small, then $\\frac{1}{x}$ gets very large. Then,\n",
    "$$\\left(\\left(1+\\frac{1}{x}\\right)^x\\right)^{ab} \\to e^{ab}$$\n",
    "\n",
    "So,\n",
    "$$\\left(1+a\\right)^b = e^{ab}$$\n",
    "\n",
    "*Example*:\n",
    "$$1.001^2 = 1.002001$$\n",
    "\n",
    "Using the limit to $e$,\n",
    "$$1.001^2 = (1 + 0.001)^2 \\qquad a=0.001 \\qquad x = \\frac{1}{a}=1000$$\n",
    "$$1.001^2 = \\left(\\left(1+\\frac{1}{1000}\\right)^{1000}\\right)^{0.001*2} \\approx e^{0.002} = 1.002002001$$\n",
    "\n",
    "As $a$ gets smaller, then $x$ gets bigger and this approximation becomes more accurate."
   ]
  },
  {
   "cell_type": "code",
   "execution_count": 2,
   "id": "fc257d36-c352-4f36-99fe-df9048af6eef",
   "metadata": {},
   "outputs": [
    {
     "name": "stdout",
     "output_type": "stream",
     "text": [
      "Run 0: 2.0^2 = (1+1.0)^2 = 7.38905609893065\n",
      "Run 1: 1.1^2 = (1+0.1)^2 = 1.2214027581601699\n",
      "Run 2: 1.01^2 = (1+0.01)^2 = 1.0202013400267558\n",
      "Run 3: 1.001^2 = (1+0.001)^2 = 1.0020020013340003\n",
      "Run 4: 1.0001^2 = (1+0.0001)^2 = 1.0002000200013335\n",
      "Run 5: 1.00001^2 = (1+1e-05)^2 = 1.0000200002000013\n",
      "Run 6: 1.000001^2 = (1+1e-06)^2 = 1.000002000002\n",
      "Run 7: 1.0000001^2 = (1+1e-07)^2 = 1.00000020000002\n",
      "Run 8: 1.00000001^2 = (1+1e-08)^2 = 1.00000002\n",
      "Run 9: 1.000000001^2 = (1+1e-09)^2 = 1.000000002\n"
     ]
    }
   ],
   "source": [
    "import numpy as np\n",
    "for i in range(10):\n",
    "    x = 10**i\n",
    "    a = 1/x\n",
    "    n = 1+a\n",
    "    print(f\"Run {i}: {n}^2 = (1+{a})^2 = {np.exp(2*a)}\")"
   ]
  },
  {
   "cell_type": "markdown",
   "id": "d84d022b-61d0-4095-88bf-610dbef4079c",
   "metadata": {},
   "source": [
    "#### Taylor Expansion\n",
    "Another useful application:\n",
    "$$e^x = \\sum_{i=0}^\\infty \\frac{x^i}{i!} = 1+x+\\frac{x^2}{2} + \\frac{x^3}{6} + \\frac{x^4}{24} + ...$$\n",
    "\n",
    "This gives a very simple way for a machine to calculate powers.\n",
    "\n",
    "*Example*:\n",
    "$$e^{10} = 22,026.46579$$\n",
    "\n",
    "Using the Taylor Expansion:\n",
    "$$e^{10} = \\sum_{i=0}^\\infty \\frac{10^i}{i!} = 1 + 10 + \\frac{100}{2} + \\frac{1000}{6} + \\frac{10000}{24} + ...$$"
   ]
  },
  {
   "cell_type": "code",
   "execution_count": 3,
   "id": "021c24a6-e2b6-4fac-a216-da9f5960148e",
   "metadata": {},
   "outputs": [
    {
     "name": "stdout",
     "output_type": "stream",
     "text": [
      "i =  0: e^10 = 1.0\n",
      "i =  1: e^10 = 11.0\n",
      "i =  2: e^10 = 61.0\n",
      "i =  3: e^10 = 227.66666666666666\n",
      "i =  4: e^10 = 644.3333333333334\n",
      "i =  5: e^10 = 1477.6666666666667\n",
      "i =  6: e^10 = 2866.5555555555557\n",
      "i =  7: e^10 = 4850.68253968254\n",
      "i =  8: e^10 = 7330.84126984127\n",
      "i =  9: e^10 = 10086.573192239859\n",
      "i = 10: e^10 = 12842.305114638448\n",
      "i = 11: e^10 = 15347.51595318262\n",
      "i = 12: e^10 = 17435.191651969428\n",
      "i = 13: e^10 = 19041.09603565159\n",
      "i = 14: e^10 = 20188.170595424563\n",
      "i = 15: e^10 = 20952.886968606545\n",
      "i = 16: e^10 = 21430.834701845284\n",
      "i = 17: e^10 = 21711.980427279836\n",
      "i = 18: e^10 = 21868.172496965697\n",
      "i = 19: e^10 = 21950.37884943194\n",
      "i = 20: e^10 = 21991.482025665064\n",
      "i = 21: e^10 = 22011.054966728454\n",
      "i = 22: e^10 = 22019.951758120904\n",
      "i = 23: e^10 = 22023.819928291534\n",
      "i = 24: e^10 = 22025.43166586263\n",
      "i = 25: e^10 = 22026.076360891067\n",
      "i = 26: e^10 = 22026.32432051739\n",
      "i = 27: e^10 = 22026.416157416028\n",
      "i = 28: e^10 = 22026.4489563084\n",
      "i = 29: e^10 = 22026.460266271286\n",
      "i = 30: e^10 = 22026.464036258916\n",
      "i = 31: e^10 = 22026.465252383958\n",
      "i = 32: e^10 = 22026.465632423035\n",
      "i = 33: e^10 = 22026.46574758639\n",
      "i = 34: e^10 = 22026.465781457966\n",
      "i = 35: e^10 = 22026.465791135557\n",
      "i = 36: e^10 = 22026.465793823776\n",
      "i = 37: e^10 = 22026.46579455032\n",
      "i = 38: e^10 = 22026.465794741518\n",
      "i = 39: e^10 = 22026.465794790543\n"
     ]
    }
   ],
   "source": [
    "approx = 0\n",
    "factorial = 1\n",
    "\n",
    "for i in range(40):\n",
    "    if i>0: factorial *= i\n",
    "    approx += 10**i / factorial\n",
    "    print(f\"i = {i:2d}: e^10 = {approx}\")"
   ]
  },
  {
   "cell_type": "markdown",
   "id": "493e695a-ef73-4e16-80c8-e3460a5b04a8",
   "metadata": {},
   "source": [
    "### Power Laws\n",
    "When two variables $x$ and $y$ are related by a power law ($y=cx^a$), then they have a linear relationship between the logarithms of those variables ($\\log y = b + a\\log x$)\n",
    "\n",
    "$$\\begin{align*}\n",
    "  z &= 100 x^3 \\\\\n",
    "  z &= 10^2 10^{\\log_{10}x^3} \\\\\n",
    "  z &= 10^{2+3\\log_{10}x} \\\\\n",
    "  y = log_{10}z &= 2+3\\log_{10}x\n",
    "    \\end{align*}$$"
   ]
  },
  {
   "cell_type": "code",
   "execution_count": 9,
   "id": "56c3f19f-bc21-47b8-8658-10b6d3945063",
   "metadata": {},
   "outputs": [
    {
     "data": {
      "image/png": "[encoded data removed]",
      "text/plain": [
       "<Figure size 640x480 with 1 Axes>"
      ]
     },
     "metadata": {},
     "output_type": "display_data"
    }
   ],
   "source": [
    "x = np.linspace(-1,1,201)\n",
    "y = 10**2 * x**3\n",
    "\n",
    "import matplotlib.pyplot as plt\n",
    "plt.plot(x,y)\n",
    "plt.xlabel(\"$x$\")\n",
    "plt.ylabel(\"$z$\")\n",
    "plt.show()"
   ]
  },
  {
   "cell_type": "code",
   "execution_count": 10,
   "id": "a0b3ab37-6abb-402f-aa47-d0367df88dbc",
   "metadata": {},
   "outputs": [
    {
     "name": "stderr",
     "output_type": "stream",
     "text": [
      "/tmp/ipykernel_619/1134522552.py:1: RuntimeWarning: divide by zero encountered in log10\n",
      "  log_x = np.log10(x)\n",
      "/tmp/ipykernel_619/1134522552.py:1: RuntimeWarning: invalid value encountered in log10\n",
      "  log_x = np.log10(x)\n"
     ]
    },
    {
     "data": {
      "image/png": "[encoded data removed]",
      "text/plain": [
       "<Figure size 640x480 with 1 Axes>"
      ]
     },
     "metadata": {},
     "output_type": "display_data"
    }
   ],
   "source": [
    "log_x = np.log10(x)\n",
    "log_y = 2 + 3*log_x\n",
    "\n",
    "plt.plot(log_x,log_y)\n",
    "plt.xlabel(\"$log_{10}x$\")\n",
    "plt.ylabel(\"$y=log_{10}z$\")\n",
    "plt.show()"
   ]
  },
  {
   "cell_type": "code",
   "execution_count": null,
   "id": "5f22a8c6-46c8-45d4-82e5-faf4e52db144",
   "metadata": {},
   "outputs": [],
   "source": []
  },
  {
   "cell_type": "markdown",
   "id": "6f6ac05c",
   "metadata": {},
   "source": [
    "-----\n",
    "### Homework\n",
    "Exercises are found in section 1.3.7, page 16, of the Leskovec textbook.\n",
    "1. Exercise 1.3.1: Suppose there is a repository of ten million documents. What (to the nearest integer) is the IDF for a word that appears in\n",
    "   * 40 documents?\n",
    "   * 10,000 documents?\n",
    "2. TF.IDF Exercise:\n",
    "   * Give 6 documents and 20 words to search for\n",
    "   * Do a word search for the 20 words in each document (make a table)\n",
    "   * Calculate TF_ij for each word i and document j\n",
    "   * Calculate IDF_i for each word i\n",
    "   * Calculate TF.IDF\n",
    "3. Exercise 1.3.2: Suppose there is a repository of ten million documents, and word w appears in 320 of them. In a particular document d, the maximum number of occurrences of a word is 15. Approximately what is the TF.IDF score for w if that word appears,\n",
    "   * once?\n",
    "   * five times?\n",
    "4. Exercise 1.3.4: In terms of e give approximations to the following:\n",
    "   * $(1.01)^{500}$\n",
    "   * $(1.05)^{1000}$\n",
    "   * $(0.90)^{40}$\n",
    "5. Exercise 1.3.5: Use the Taylor expansion of e^x to compute the following to three decimal places:\n",
    "   * $e^{1/10}$\n",
    "   * $e^{-1/10}$\n",
    "   * $e^{2}$"
   ]
  },
  {
   "cell_type": "markdown",
   "id": "b04a62bd",
   "metadata": {},
   "source": []
  }
 ],
 "metadata": {
  "kernelspec": {
   "display_name": "Python 3 (ipykernel)",
   "language": "python",
   "name": "python3"
  },
  "language_info": {
   "codemirror_mode": {
    "name": "ipython",
    "version": 3
   },
   "file_extension": ".py",
   "mimetype": "text/x-python",
   "name": "python",
   "nbconvert_exporter": "python",
   "pygments_lexer": "ipython3",
   "version": "3.9.14"
  }
 },
 "nbformat": 4,
 "nbformat_minor": 5
}

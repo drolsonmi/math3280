{
 "cells": [
  {
   "cell_type": "markdown",
   "metadata": {},
   "source": [
    "# 11 Neural Networks\n",
    "__Math 3280 - Data Mining__ : Snow College : Dr. Michael E. Olson\n",
    "\n",
    "* Leskovec, Chapter 13\n",
    "* Brunton, Chapter 6\n",
    "\n",
    "### Additional Resources\n",
    "* [YouTube: Neuroscientifically Challenged - 2-Minute Neuroscience: The Neuron](https://www.youtube.com/watch?v=6qS83wD29PY)\n",
    "* [YouTube: Mark Rober - Stealing Baseball Signs with a Phone](https://www.youtube.com/watch?v=PmlRbfSavbI)\n",
    "* [Types of Neural Networks](https://towardsdatascience.com/the-mostly-complete-chart-of-neural-networks-explained-3fb6f2367464)\n",
    "-----"
   ]
  },
  {
   "cell_type": "markdown",
   "metadata": {},
   "source": [
    "# Basics of Neural Networks\n",
    "Neural Networks are based on the functioning of a neuron. A neuron has:\n",
    "* Dendrites which take in chemicals that explain what is happening\n",
    "* Nucleus which absorbs and interprets the messages in those chemicals\n",
    "* Axon which sends chemicals to the next neuron if the signal is strong enough\n",
    "\n",
    "Similarly, a basic neural network has:\n",
    "* Input which brings information to a neuron\n",
    "* Neuron which gives a value based on the information it receives\n",
    "* Output which sends that information on to the next neuron\n",
    "\n",
    "One neuron is connected to another through *connections*, similar to the axons of a neuron. This feeds the information from one neuron's calculation to be a part of the next neuron's calculation.\n",
    "\n",
    "Each neuron's calculation will produce a value between 0 and 1.\n",
    "\n",
    "## History\n",
    "* The concept of a neural network was first theorized in 1943\n",
    "* Technique of the Perceptron was introduced in 1958 by Frank Rosenblatt\n",
    "  * Belief that ANNs (Artificial Neural Networks) would soon be able to translate languages on the fly\n",
    "* Due to lack in technology and in data, funding failed and focuses shifted to other methods\n",
    "  * \"AI Winter\"\n",
    "* ImageNet 2012 - Large Scale Visual Recognition Challenge\n",
    "  * Reintroduced Neural Networks\n",
    " \n",
    "Today, systems are using ANNs everywhere (e.g. Apple and Google for speech and image recognition).\n",
    "\n",
    "\n",
    "## ANNs Today\n",
    "The result of these neural networks are quite good.\n",
    "* [Mona Lisa can talk!](https://www.youtube.com/watch?v=P2uZF-5F1wI)\n",
    "* [Mark Rober - Stealing Baseball Signs with a Phone](https://www.youtube.com/watch?v=PmlRbfSavbI)\n",
    "\n",
    "Are Neural Networks perfect yet? No...\n",
    "* [Neurabites.com](https://neurabites.com/muffin-or-chihuahua/)\n",
    "\n",
    "## Cautions\n",
    "* ANNs are relatively easy to train. However, because it's so easy, many people are just using ANNs without understanding what is happening under the hood.\n",
    "\n",
    "Some of the issues:\n",
    "* Easy to overfit\n",
    "  * There are some cases where we want very specific results, but it's very easy to overfit\n",
    "* Not very good when we want to generalize things\n",
    "  * Not very good with learning physics (model it to predict where a cannonball lands, but it can't use that to launch a rocket)\n",
    "* Interpretable/Explainable\n",
    "  * The number of neurons adds a large number of degrees of freedom which makes it very expressive\n",
    "  * More degrees of freedom makes it more complicated and harder to interpret\n",
    "* Incorporating Physics\n",
    "  * It is a difficult process to incorporate our knowledge of the real world\n",
    "  * True for all ML Algorithms, but especially for ANNs."
   ]
  },
  {
   "cell_type": "markdown",
   "metadata": {},
   "source": [
    "-----\n",
    "## Perceptrons\n",
    "In a one-layer neural network, also known as a __perceptron__, only does one calculation. There are two parts:\n",
    "* An input layer\n",
    "* An output layer (where the calculation happens)\n",
    "\n",
    "The value of the perceptron is some function of the input layer. For example,\n",
    "$$y=x_1 + x_2 + \\dots + x_n$$"
   ]
  },
  {
   "cell_type": "code",
   "execution_count": 2,
   "metadata": {},
   "outputs": [
    {
     "data": {
      "text/plain": [
       "(array([ 5, 13]), array([4, 1]))"
      ]
     },
     "execution_count": 2,
     "metadata": {},
     "output_type": "execute_result"
    }
   ],
   "source": [
    "import numpy as np\n",
    "\n",
    "x1 = np.array([5,13])\n",
    "x2 = np.array([4,1])\n",
    "x1,x2"
   ]
  },
  {
   "cell_type": "markdown",
   "metadata": {},
   "source": [
    "Sometimes, the value is not a direct sum. It is often a weighted sum, and the goal of the perceptron is to find the right weights.\n",
    "$$y = w_1x_1 + w_2x_2 + \\dots + w_nx_n$$\n",
    "\n",
    "Notice how this is a lot like a linear regression. It is just a version of,\n",
    "$$AX=Y \\qquad \\left[a_1,a_2,\\dots,a_n\\right]\\begin{bmatrix}\n",
    "\\vdots & \\vdots & & \\vdots \\\\\n",
    "x_1 & x_2 & \\dots & x_n \\\\\n",
    "\\vdots & \\vdots & & \\vdots\n",
    "\\end{bmatrix}=\\left[y_1,y_2,\\dots,y_n\\right]$$\n",
    "\n",
    "So, at this point, this really is just a simple linear algebra problem, which we could solve using the Pseudoinverse:\n",
    "$$A=YX^\\dagger$$"
   ]
  },
  {
   "cell_type": "code",
   "execution_count": 3,
   "metadata": {},
   "outputs": [
    {
     "data": {
      "text/plain": [
       "(13.700000000000001, 2.5)"
      ]
     },
     "execution_count": 3,
     "metadata": {},
     "output_type": "execute_result"
    }
   ],
   "source": [
    "w = ([0.4, 0.9])\n",
    "sum(w*x1),sum(w*x2)"
   ]
  },
  {
   "cell_type": "markdown",
   "metadata": {},
   "source": [
    "But what if all $x_i=0$? Then the weights won't do anything and the perceptron becomes dead or useless. So, to prevent a zero value, we have to add in a bias term. This bias term can be positive or negative, and it can be large or small.\n",
    "$$y = w_1x_1 + w_2x_2 + \\dots + w_nx_n + b$$\n",
    "$$y = \\sum_i w_i x_i + b$$"
   ]
  },
  {
   "cell_type": "code",
   "execution_count": 4,
   "metadata": {},
   "outputs": [
    {
     "data": {
      "text/plain": [
       "(3.700000000000001, -7.5)"
      ]
     },
     "execution_count": 4,
     "metadata": {},
     "output_type": "execute_result"
    }
   ],
   "source": [
    "b = -10\n",
    "sum(w*x1)+b, sum(w*x2)+b"
   ]
  },
  {
   "cell_type": "markdown",
   "metadata": {},
   "source": [
    "This is the basic idea of the function of a perceptron. The result would be the value, or __activation__, of the output neuron(s).\n",
    "\n",
    "## Activation Functions\n",
    "The activation is the value of a particular neuron. The connection that activates a neuron produces a number. Before, we have just dealt with a linear function. Most activation functions are nonlinear.\n",
    "* *Linear function*\n",
    "$$y=\\sum_i w_ix_i + b$$\n",
    "\n",
    "However, activation functions are not always linear. Often, we want it to be a number between 0 and 1. There are a few ways to do this:\n",
    "* *Step function*, also known as the *Threshold Logic Unit (TLU)* or *Linear Threshold Unity (LTU)*\n",
    "![Step Curve](https://upload.wikimedia.org/wikipedia/commons/thumb/4/4b/Activation_binary_step.svg/120px-Activation_binary_step.svg.png)"
   ]
  },
  {
   "cell_type": "code",
   "execution_count": 5,
   "metadata": {},
   "outputs": [
    {
     "data": {
      "text/plain": [
       "(1.0, 0)"
      ]
     },
     "execution_count": 5,
     "metadata": {},
     "output_type": "execute_result"
    }
   ],
   "source": [
    "z1 = sum(w*x1)+b\n",
    "z2 = sum(w*x2)+b\n",
    "max(0, abs(z1)/z1), max(0,abs(z2)/z2)"
   ]
  },
  {
   "cell_type": "markdown",
   "metadata": {},
   "source": [
    "* *Sigmoid function* (or Logical function)\n",
    "  * More sensitive to small changes\n",
    "$$\\sigma(z) = \\frac{1}{1+e^{-z}} \\qquad \\sigma(\\mathbf{w}\\cdot\\mathbf{x}+b) = \\frac{1}{1+e^{-(\\mathbf{w}\\cdot\\mathbf{x}+b)}}$$\n",
    "![Sigmoid Curve](https://upload.wikimedia.org/wikipedia/commons/thumb/5/5b/Activation_logistic.svg/120px-Activation_logistic.svg.png)"
   ]
  },
  {
   "cell_type": "code",
   "execution_count": 6,
   "metadata": {},
   "outputs": [
    {
     "data": {
      "text/plain": [
       "(0.9758729785823308, 0.0005527786369235996)"
      ]
     },
     "execution_count": 6,
     "metadata": {},
     "output_type": "execute_result"
    }
   ],
   "source": [
    "1/(1+np.exp(-z1)), 1/(1+np.exp(-z2))"
   ]
  },
  {
   "cell_type": "markdown",
   "metadata": {},
   "source": [
    "* *Hyperbolic Tangent*\n",
    "  * This one acts like the Sigmoid function, but goes from -1 to 1\n",
    "$$\\tanh(z)=\\frac{e^z - e^{-z}}{e^z + e^{-z}} \\qquad \\tanh(\\mathbf{w}\\cdot\\mathbf{x}+b)$$\n",
    "![Hyperbolic Tangent Curve](https://upload.wikimedia.org/wikipedia/commons/thumb/c/cb/Activation_tanh.svg/120px-Activation_tanh.svg.png)"
   ]
  },
  {
   "cell_type": "code",
   "execution_count": 7,
   "metadata": {},
   "outputs": [
    {
     "data": {
      "text/plain": [
       "(0.9987782412811312, -0.9999993881955461)"
      ]
     },
     "execution_count": 7,
     "metadata": {},
     "output_type": "execute_result"
    }
   ],
   "source": [
    "np.tanh(z1), np.tanh(z2)"
   ]
  },
  {
   "cell_type": "markdown",
   "metadata": {},
   "source": [
    "* *Rectified Linear Unit (ReLU)*\n",
    "  * $y=\\max\\{0,\\mathbf{w}\\cdot\\mathbf{x}+b\\}$\n",
    "![ReLU Curve](https://upload.wikimedia.org/wikipedia/commons/thumb/f/fe/Activation_rectified_linear.svg/120px-Activation_rectified_linear.svg.png)"
   ]
  },
  {
   "cell_type": "code",
   "execution_count": 8,
   "metadata": {},
   "outputs": [
    {
     "data": {
      "text/plain": [
       "(3.700000000000001, 0)"
      ]
     },
     "execution_count": 8,
     "metadata": {},
     "output_type": "execute_result"
    }
   ],
   "source": [
    "max(0,z1), max(0,z2)"
   ]
  },
  {
   "cell_type": "markdown",
   "metadata": {},
   "source": [
    "There are many other activation functions. However, in order to train our network, our activation function needs to be differentiable.\n",
    "\n",
    "## Hidden Layers\n",
    "Knowing the basic perceptron, we can Sometimes, we have a second or third step. These extra layers between the input layer and output layer are called __hidden layers__, and a basic neural network with 1 or more hidden layers is a __multi-layer perceptron__, a basic __artificial neural network__.\n",
    "\n",
    "### Some basic terminology\n",
    "* The __width of a layer__ is the number of neurons within that layer\n",
    "* The __depth of a network__ is the number of (*Hidden?*) layers in a network\n",
    "* An ANN becomes a __Deep Neural Network__ when there are 2 or more hidden layers"
   ]
  },
  {
   "cell_type": "markdown",
   "metadata": {},
   "source": [
    "## Training an ANN\n",
    "An ANN most often doesn't get it right the first time. The program has to iterate through the network multiple times to get it right. Each iteration updates the activators (neurons) to improve the result. The activators are updated with new weights in a variety of ways.\n",
    "\n",
    "The most common way to update weights in an activator is via gradient descent:\n",
    "$$w_{ij}'=w_{ij} + \\eta\\left(y_i - \\hat{y}_i\\right)x_i$$\n",
    "where\n",
    "* $w_{ij}$ is the current weight, and $w_{ij}'$ is the updated weight\n",
    "* $\\eta$ is the learning rate\n",
    "* $x_i$ is the input\n",
    "* $y_i$ is the target output\n",
    "* $\\hat{y}_i$ is the actual output using the weight of $w_{ij}$\n",
    "\n",
    "This is the algorithm developed by Rosenblatt, inspired by *Hebb's Rule*, which was published in 1949. "
   ]
  },
  {
   "cell_type": "code",
   "execution_count": 1,
   "metadata": {},
   "outputs": [
    {
     "data": {
      "text/plain": [
       "2"
      ]
     },
     "execution_count": 1,
     "metadata": {},
     "output_type": "execute_result"
    }
   ],
   "source": [
    "import numpy as np\n",
    "from sklearn.datasets import load_iris\n",
    "from sklearn.linear_model import Perceptron\n",
    "\n",
    "iris = load_iris()\n",
    "X = iris.data[:, (2,3)] # petal length, petal width\n",
    "#y = (iris.target == 0).astype(np.int) # Iris setosa\n",
    "y = iris.target\n",
    "\n",
    "per_clf = Perceptron()\n",
    "per_clf.fit(X,y)\n",
    "\n",
    "y_predict = per_clf.predict([[5,1.5]])\n",
    "\n",
    "y_predict[0]"
   ]
  },
  {
   "cell_type": "code",
   "execution_count": 10,
   "metadata": {},
   "outputs": [
    {
     "data": {
      "text/plain": [
       "<AxesSubplot:xlabel='Length', ylabel='Width'>"
      ]
     },
     "execution_count": 10,
     "metadata": {},
     "output_type": "execute_result"
    },
    {
     "data": {
      "image/png": "[encoded data removed]",
      "text/plain": [
       "<Figure size 432x288 with 1 Axes>"
      ]
     },
     "metadata": {
      "needs_background": "light"
     },
     "output_type": "display_data"
    }
   ],
   "source": [
    "import pandas as pd\n",
    "import seaborn as sns\n",
    "import maplotlib.pyplot as plt\n",
    "\n",
    "X_df = pd.DataFrame(X, columns=['Length','Width'])\n",
    "X_df['Species'] = pd.DataFrame(y)\n",
    "\n",
    "f,ax = plt.subplots(1,2)\n",
    "sns.scatterplot(data=X_df, x='Length', y='Width', hue='Species', ax=ax[0])\n",
    "sns.scatterplot(data=iris, x='Length', y='Width', hue=y_predict, ax=ax[1])"
   ]
  },
  {
   "cell_type": "markdown",
   "metadata": {},
   "source": [
    "## Training and Backpropagation\n",
    "-----\n",
    "## A simple network (each layer has width=1)\n",
    "Take a very simple network: 1 neuron ($a^{(L-1)}$) mapped to 1 output ($a^{(L)}=y$).\n",
    "\n",
    "The output is calculated using the activation function as follows:\n",
    "$$a^{(L)}=\\sigma(z^{(L)}) \\qquad z^{(L)} = w^{(L)}a^{(L-1)} + b^{(L)}$$\n",
    "\n",
    "The __Objective Function__ (aka the __cost function__) measures the error of our output.\n",
    "$$C=\\frac{1}{2}(a^{(L)} - y_0)^2$$\n",
    "where $y_0$ is the desired output.\n",
    "\n",
    "Note that the cost function depends on $a^{(L)}$, which depends on $z^{(L)}$, which depends on the weight $w^{(L)}$ and the bias $b^{(L)}$. So, the cost function will change if the weights and biases change. So, we're going to find which weights and biases will minimize the cost function.\n",
    "\n",
    "When we optimize functions, we generally take the derivative and set it equal to zero. This works well for 1-D or 2-D problems. Once we get into higher dimensions, it becomes far more complicated. In this case, we're going to need to find the derivative of $C$ with respect to each weight and bias, of which we can have 10's of 1000's.\n",
    "\n",
    "Go back to the simple network. We take the derivative of the cost function with respect to the weight, using the chain rule:\n",
    "$$\\frac{\\partial C}{\\partial w^{(L)}} = \\frac{\\partial C_0}{\\partial a^{(L)}}\\frac{\\partial a^{(L)}}{\\partial z^{(L)}}\\frac{\\partial z^{(L)}}{\\partial w^{(L)}}$$\n",
    "$$\\begin{align*}\n",
    "\\frac{\\partial C}{\\partial a^{(L)}} &= a^{(L)}-y_0\\\\\n",
    "\\frac{\\partial a^{(L)}}{\\partial z^{(L)}} &= \\sigma'(z^{(L)}) \\\\\n",
    "\\frac{\\partial z^{(L)}}{\\partial w^{(L)}} &= a^{(L-1)}\n",
    "\\end{align*}$$\n",
    "$$\\frac{\\partial C}{\\partial w^{(L)}} = a^{(L-1)}(a^{(L)}-y_0)\\sigma'(z^{(L)})$$\n",
    "\n",
    "Note that since we need $\\sigma'(z^{(L)})$, then we have to choose an activation function $\\sigma(z)$ that is differentiable.\n",
    "\n",
    "We can do the same for biases:\n",
    "$$\\frac{\\partial C}{\\partial b^{(L)}} = \\frac{\\partial C_0}{\\partial a^{(L)}}\\frac{\\partial a^{(L)}}{\\partial z^{(L)}}\\frac{\\partial z^{(L)}}{\\partial b^{(L)}} \\qquad \\frac{\\partial z^{(L)}}{\\partial b^{(L)}}=1$$\n",
    "$$\\frac{\\partial C}{\\partial b^{(L)}} = (a^{(L)}-y_0)\\sigma'(z^{(L)})$$\n",
    "\n",
    "#### Updating the weights\n",
    "Now that we know how much the cost function is affected by the weight and bias. We can add in this error to correct it.\n",
    "$$w_{k+1}^{(L)} = w_{k}^{(L)} + \\frac{\\partial C}{\\partial w_k^{(L)}} \\qquad b_{k+1}^{(L)} = b_{k}^{(L)} + \\frac{\\partial C}{\\partial b_k^{(L)}}$$\n",
    "\n",
    "However, if we just correct the error right away, then there is a chance that we overfit the data, creating a model that is no good at all. Instead, we going to add in part of the error. We insert our __learning rate__ ($\\delta$):\n",
    "$$w_{k+1}^{(L)} = w_{k}^{(L)} + \\delta\\frac{\\partial C}{\\partial w_k^{(L)}} \\qquad b_{k+1}^{(L)} = b_{k}^{(L)} + \\delta\\frac{\\partial C}{\\partial b_k^{(L)}}$$\n",
    "This is the process of __Gradient Descent__.\n",
    "\n",
    "## A more complex network\n",
    "Now take a network with $i$ neurons in the input layer and $j$ neurons in the output layer. Then,\n",
    "$$C=\\frac{1}{2}\\sum_{j=0}^{n_L-1}(a_j^{(L)}-y_j)^2 \\qquad a_j^{(L)}=\\sigma(z_j^{(L)}) \\qquad z_j^{(L)} = \\sum_{i=1}^{n_{L-1}-1}w_{ji}^{(L)}a_i^{(L-1)} + b_j^{(L)}$$\n",
    "\n",
    "Taking the partial derivatives,\n",
    "$$\\frac{\\partial C}{\\partial w_{ji}^{(L)}} = a_i^{(L-1)}(a_j^{(L)}-y_j)\\sigma'(z_j^{(L)}) \\qquad \\frac{\\partial C}{\\partial b_{ji}^{(L)}} = (a_j^{(L)}-y_j)\\sigma'(z_j^{(L)})$$\n",
    "\n",
    "\n",
    "We have to do this for every single weight and bias. If we arrange these derivatives into a vector, we get a gradient\n",
    "$$\\nabla C = \\begin{bmatrix}\n",
    "\\frac{\\partial C}{\\partial w_{00}^{(L)}} \\\\\n",
    "\\frac{\\partial C}{\\partial w_{01}^{(L)}} \\\\\n",
    "\\vdots \\\\\n",
    "\\frac{\\partial C}{\\partial b_0^{(L)}} \\\\\n",
    "\\frac{\\partial C}{\\partial w_{10}^{(L)}} \\\\\n",
    "\\frac{\\partial C}{\\partial w_{11}^{(L)}} \\\\\n",
    "\\frac{\\partial C}{\\partial b_1^{(L)}} \\\\\n",
    "\\vdots \\\\\n",
    "\\frac{\\partial C}{\\partial w_{ij}^{(L)}} \\\\\n",
    "\\frac{\\partial C}{\\partial b_{j}^{(L)}} \\\\\n",
    "\\vdots\n",
    "\\end{bmatrix}$$\n",
    "\n",
    "Finally, arrange all our weights and biases into a single vector, then we can update as we did before:\n",
    "$$W^{(L)}=\\begin{bmatrix}\n",
    "w_{00} \\\\ w_{01} \\\\ \\dots \\\\ b_0 \\\\ w_{10} \\\\ w_{11} \\\\ \\dots \\\\ b_1 \\\\ \\dots \\\\ w_{ij} \\\\ \\dots \\\\ b_j\n",
    "\\end{bmatrix} \\qquad W_{k+1}^{(L)} = W_k^{(L)} + \\delta\\nabla C$$\n",
    "\n",
    "## Backpropagation\n",
    "With the weights and biases updated, we can work backwards and find out what the neuron's values $a_j^{(L-1)}$ should have been to get the right result. Once that is known, we can then use the weights, biases, and value should be for the $a_i^{(L-2)}$ layer.\n",
    "\n",
    "## Stochastic Gradient Descent\n",
    "Doing backpropagation has two disadvantages:\n",
    "1. The amount of data and calculations in the process is very costly on the computer\n",
    "2. There is a possibility of approaching a local minimum instead of a global minimum\n",
    "\n",
    "To solve this, we use __stochastic gradient descent__. Instead of using all the data for each backpropogation run, we take just a sample of the data. Then we take another sample of the data for the next backpropagation run, and so on. For instance, if you are working with 1,000 photos of cats or dogs,\n",
    "* select 40 photos\n",
    "* run the backpropagation with those 40 photos and update the weights\n",
    "* select 40 more photos\n",
    "* run the backpropagation again with those 40 photos\n",
    "* ...\n",
    "* stop when the change in weights and biases is small\n",
    "\n",
    "Using stochastic gradient descent, we do two things:\n",
    "1. Decrease the computation requirement for this process\n",
    "2. Each step will \"wander\" more, which gives us a greater chance of getting to a global minimum\n",
    "\n",
    "-----\n",
    "Multi class \n",
    "\n",
    "A= [[a11, a12, a13, ...],[a21, a22, a23,...],[a31, a32, a33,...]] \n",
    "\n",
    "Mutually exclusive classes: only one solution possible \n",
    "\n",
    "Softmax function \n",
    "$$\\sigma(z)_i = \\frac{e^{z_i}}{\\sum_{j=1}^k e^{z_j}} for I=1,…,k$$\n",
    "\n",
    "Non-exclusive classes: can be classified under multiple groups \n",
    "\n",
    "Sigmoid function: indicates level reporting each class \n",
    "\n",
    "Assign a threshold \n",
    "\n",
    "Data assigned a label for any class getting a result above that threshold \n",
    "\n",
    "Back Propagation \n",
    "\n",
    "Cost function: \n",
    "$$C_0(y) = (a^{(L)}− y)2$$\n",
    "$$a^{(L)} = \\sigma(z^{(L)})$$\n",
    "$$z^{(L)} = w^{(L)}a^{(L−1)} + b^{(L)}$$\n",
    "\n",
    "a(L)\n",
    " is the activation (neuron) for the last layer (output), \n",
    "a(L−1)\n",
    "is the layer before it \n",
    "\n",
    "How is the cost affected by the weights? \n",
    "$$\\frac{\\partial C_0}{\\partial w^{(L)}} = \\frac{\\partial C_0}{\\partial a^{(L)}}\\frac{\\partial a^{(L)}}{\\partial z^{(L)}}\\frac{\\partial z^{(L)}}{\\partial w^{(L)}}$$"
   ]
  },
  {
   "cell_type": "markdown",
   "metadata": {},
   "source": [
    "-----\n",
    "## Artificial Neural Network\n",
    "#### Problem for this Lecture\n",
    "We're going to categorize pictures of clothing."
   ]
  },
  {
   "cell_type": "code",
   "execution_count": 1,
   "metadata": {},
   "outputs": [
    {
     "name": "stderr",
     "output_type": "stream",
     "text": [
      "2023-12-04 23:22:20.817028: I external/local_tsl/tsl/cuda/cudart_stub.cc:31] Could not find cuda drivers on your machine, GPU will not be used.\n",
      "2023-12-04 23:22:20.937337: E external/local_xla/xla/stream_executor/cuda/cuda_dnn.cc:9261] Unable to register cuDNN factory: Attempting to register factory for plugin cuDNN when one has already been registered\n",
      "2023-12-04 23:22:20.937400: E external/local_xla/xla/stream_executor/cuda/cuda_fft.cc:607] Unable to register cuFFT factory: Attempting to register factory for plugin cuFFT when one has already been registered\n",
      "2023-12-04 23:22:20.941466: E external/local_xla/xla/stream_executor/cuda/cuda_blas.cc:1515] Unable to register cuBLAS factory: Attempting to register factory for plugin cuBLAS when one has already been registered\n",
      "2023-12-04 23:22:20.964904: I external/local_tsl/tsl/cuda/cudart_stub.cc:31] Could not find cuda drivers on your machine, GPU will not be used.\n",
      "2023-12-04 23:22:20.969485: I tensorflow/core/platform/cpu_feature_guard.cc:182] This TensorFlow binary is optimized to use available CPU instructions in performance-critical operations.\n",
      "To enable the following instructions: AVX2 FMA, in other operations, rebuild TensorFlow with the appropriate compiler flags.\n",
      "2023-12-04 23:22:24.094442: W tensorflow/compiler/tf2tensorrt/utils/py_utils.cc:38] TF-TRT Warning: Could not find TensorRT\n"
     ]
    },
    {
     "ename": "AttributeError",
     "evalue": "module 'keras.api._v2.keras' has no attribute '__version__'",
     "output_type": "error",
     "traceback": [
      "\u001b[0;31m---------------------------------------------------------------------------\u001b[0m",
      "\u001b[0;31mAttributeError\u001b[0m                            Traceback (most recent call last)",
      "\u001b[1;32m/home/meo/OneDrive/Classes/MATH 3280 - Data Mining/Lecture Notes/3280_11_NeuralNetworks.ipynb Cell 23\u001b[0m line \u001b[0;36m3\n\u001b[1;32m      <a href='vscode-notebook-cell://wsl%2Bdebian/home/meo/OneDrive/Classes/MATH%203280%20-%20Data%20Mining/Lecture%20Notes/3280_11_NeuralNetworks.ipynb#X31sdnNjb2RlLXJlbW90ZQ%3D%3D?line=0'>1</a>\u001b[0m \u001b[39mimport\u001b[39;00m \u001b[39mtensorflow\u001b[39;00m \u001b[39mas\u001b[39;00m \u001b[39mtf\u001b[39;00m\n\u001b[1;32m      <a href='vscode-notebook-cell://wsl%2Bdebian/home/meo/OneDrive/Classes/MATH%203280%20-%20Data%20Mining/Lecture%20Notes/3280_11_NeuralNetworks.ipynb#X31sdnNjb2RlLXJlbW90ZQ%3D%3D?line=1'>2</a>\u001b[0m \u001b[39mfrom\u001b[39;00m \u001b[39mtensorflow\u001b[39;00m \u001b[39mimport\u001b[39;00m keras\n\u001b[0;32m----> <a href='vscode-notebook-cell://wsl%2Bdebian/home/meo/OneDrive/Classes/MATH%203280%20-%20Data%20Mining/Lecture%20Notes/3280_11_NeuralNetworks.ipynb#X31sdnNjb2RlLXJlbW90ZQ%3D%3D?line=2'>3</a>\u001b[0m \u001b[39mprint\u001b[39m(\u001b[39m\"\u001b[39m\u001b[39mTF: \u001b[39m\u001b[39m\"\u001b[39m,tf\u001b[39m.\u001b[39m__version__,\u001b[39m\"\u001b[39m\u001b[39m   Keras: \u001b[39m\u001b[39m\"\u001b[39m,keras\u001b[39m.\u001b[39;49m__version__)\n",
      "File \u001b[0;32m~/.virtualenvs/NeuralNets/lib/python3.9/site-packages/tensorflow/python/util/lazy_loader.py:171\u001b[0m, in \u001b[0;36mKerasLazyLoader.__getattr__\u001b[0;34m(self, item)\u001b[0m\n\u001b[1;32m    167\u001b[0m     \u001b[39mraise\u001b[39;00m \u001b[39mAttributeError\u001b[39;00m(\n\u001b[1;32m    168\u001b[0m         \u001b[39mf\u001b[39m\u001b[39m\"\u001b[39m\u001b[39m`\u001b[39m\u001b[39m{\u001b[39;00mitem\u001b[39m}\u001b[39;00m\u001b[39m` is not available with Keras 3.\u001b[39m\u001b[39m\"\u001b[39m\n\u001b[1;32m    169\u001b[0m     )\n\u001b[1;32m    170\u001b[0m module \u001b[39m=\u001b[39m \u001b[39mself\u001b[39m\u001b[39m.\u001b[39m_load()\n\u001b[0;32m--> 171\u001b[0m \u001b[39mreturn\u001b[39;00m \u001b[39mgetattr\u001b[39;49m(module, item)\n",
      "\u001b[0;31mAttributeError\u001b[0m: module 'keras.api._v2.keras' has no attribute '__version__'"
     ]
    }
   ],
   "source": [
    "import tensorflow as tf\n",
    "from tensorflow import keras\n",
    "print(\"TF: \",tf.__version__,\"   Keras: \",keras.__version__)"
   ]
  },
  {
   "cell_type": "code",
   "execution_count": 2,
   "metadata": {},
   "outputs": [
    {
     "name": "stdout",
     "output_type": "stream",
     "text": [
      "Downloading data from https://storage.googleapis.com/tensorflow/tf-keras-datasets/train-labels-idx1-ubyte.gz\n",
      "29515/29515 [==============================] - 0s 1us/step\n",
      "Downloading data from https://storage.googleapis.com/tensorflow/tf-keras-datasets/train-images-idx3-ubyte.gz\n",
      "26421880/26421880 [==============================] - 2s 0us/step\n",
      "Downloading data from https://storage.googleapis.com/tensorflow/tf-keras-datasets/t10k-labels-idx1-ubyte.gz\n",
      "5148/5148 [==============================] - 0s 0us/step\n",
      "Downloading data from https://storage.googleapis.com/tensorflow/tf-keras-datasets/t10k-images-idx3-ubyte.gz\n",
      "4422102/4422102 [==============================] - 1s 0us/step\n"
     ]
    },
    {
     "data": {
      "text/plain": [
       "(60000, 28, 28)"
      ]
     },
     "execution_count": 2,
     "metadata": {},
     "output_type": "execute_result"
    }
   ],
   "source": [
    "# Load the dataset\n",
    "fashion_mnist = keras.datasets.fashion_mnist\n",
    "(X, y), (X_test, y_test) = fashion_mnist.load_data()\n",
    "\n",
    "# There are 60,000 images of size 28x28\n",
    "X.shape"
   ]
  },
  {
   "cell_type": "code",
   "execution_count": 3,
   "metadata": {},
   "outputs": [],
   "source": [
    "# NOTE! Each pixel of the image is represended as a value from 0 to 255. Two problems\n",
    "  # We want a value from 0 to 1\n",
    "  # It is an integer, not a float value\n",
    "# To fix both, divide by 255.0\n",
    "\n",
    "\n",
    "# We have a test set, but we need a validation set:\n",
    "X_valid, X_train = X[:5000] / 255.0 , X[5000:] / 255.0\n",
    "y_valid, y_train = y[:5000], y[5000:]\n",
    "X_test = X_test / 255.0"
   ]
  },
  {
   "cell_type": "code",
   "execution_count": 4,
   "metadata": {},
   "outputs": [
    {
     "data": {
      "text/plain": [
       "['Coat',\n",
       " 'T-shirt/top',\n",
       " 'Sneaker',\n",
       " 'Ankle boot',\n",
       " 'Ankle boot',\n",
       " 'Ankle boot',\n",
       " 'Coat',\n",
       " 'Coat',\n",
       " 'Dress',\n",
       " 'Coat',\n",
       " 'T-shirt/top',\n",
       " 'Trouser',\n",
       " 'Bag',\n",
       " 'Shirt',\n",
       " 'Dress',\n",
       " 'Shirt',\n",
       " 'Coat',\n",
       " 'Dress',\n",
       " 'Pullover',\n",
       " 'Bag']"
      ]
     },
     "execution_count": 4,
     "metadata": {},
     "output_type": "execute_result"
    }
   ],
   "source": [
    "class_names = [\"T-shirt/top\", \"Trouser\", \"Pullover\", \"Dress\", \"Coat\", \"Sandal\", \"Shirt\", \"Sneaker\", \"Bag\", \"Ankle boot\"]\n",
    "[class_names[y_train[i]] for i in range(20) ]"
   ]
  },
  {
   "cell_type": "code",
   "execution_count": 5,
   "metadata": {},
   "outputs": [
    {
     "name": "stderr",
     "output_type": "stream",
     "text": [
      "/tmp/ipykernel_14165/845451874.py:8: MatplotlibDeprecationWarning: The get_cmap function was deprecated in Matplotlib 3.7 and will be removed two minor releases later. Use ``matplotlib.colormaps[name]`` or ``matplotlib.colormaps.get_cmap(obj)`` instead.\n",
      "  cmap = plt.cm.get_cmap('gray_r')\n"
     ]
    },
    {
     "data": {
      "image/png": "[encoded data removed]",
      "text/plain": [
       "<Figure size 2500x600 with 20 Axes>"
      ]
     },
     "metadata": {},
     "output_type": "display_data"
    }
   ],
   "source": [
    "from matplotlib.image import imread\n",
    "import matplotlib.pyplot as plt\n",
    "\n",
    "ax = ['ax1','ax2','ax3','ax4','ax5','ax6','ax7','ax8','ax9','ax10','ax11','ax12','ax13','ax14','ax15','ax16','ax17','ax18','ax19','ax20']\n",
    "f, ax = plt.subplots(1, 20, sharey=True, figsize=(25,6))\n",
    "for i in range(20):\n",
    "    img = ax[i].imshow(X_train[i])\n",
    "    cmap = plt.cm.get_cmap('gray_r')\n",
    "    img.set_cmap(cmap)\n",
    "    ax[i].axis('off')\n",
    "\n",
    "#ax.show()"
   ]
  },
  {
   "cell_type": "code",
   "execution_count": 6,
   "metadata": {},
   "outputs": [],
   "source": [
    "# model = keras.models.Sequential()                        # Input layer - Single stack of layers\n",
    "# model.add(keras.layers.Flatten(input_shape=[28,28]))     # Some Preprocessing - converts each input image into a 1D array\n",
    "# model.add(keras.layers.Dense(300, activation=\"relu\"))    # Hidden layer\n",
    "# model.add(keras.layers.Dense(100, activation=\"relu\"))    # Hidden layer\n",
    "# model.add(keras.layers.Dense(10, activation=\"softmax\"))  # Output layer\n",
    "\n",
    "# Could also write as,\n",
    "from keras.layers import Dense\n",
    "model = keras.models.Sequential([                        # Input layer - Single stack of layers\n",
    "    keras.layers.Flatten(input_shape=[28,28]),           # Some Preprocessing - converts each input image into a 1D array\n",
    "    Dense(300, activation=\"relu\"),                       # Hidden layer\n",
    "    Dense(100, activation=\"relu\"),                       # Hidden layer\n",
    "    Dense(10, activation=\"softmax\")])                    # Output layer"
   ]
  },
  {
   "cell_type": "code",
   "execution_count": 7,
   "metadata": {},
   "outputs": [
    {
     "name": "stdout",
     "output_type": "stream",
     "text": [
      "Model: \"sequential\"\n",
      "_________________________________________________________________\n",
      " Layer (type)                Output Shape              Param #   \n",
      "=================================================================\n",
      " flatten (Flatten)           (None, 784)               0         \n",
      "                                                                 \n",
      " dense (Dense)               (None, 300)               235500    \n",
      "                                                                 \n",
      " dense_1 (Dense)             (None, 100)               30100     \n",
      "                                                                 \n",
      " dense_2 (Dense)             (None, 10)                1010      \n",
      "                                                                 \n",
      "=================================================================\n",
      "Total params: 266610 (1.02 MB)\n",
      "Trainable params: 266610 (1.02 MB)\n",
      "Non-trainable params: 0 (0.00 Byte)\n",
      "_________________________________________________________________\n"
     ]
    }
   ],
   "source": [
    "model.summary()\n",
    "# \"Param #\" is the number of weights and biases leading into that layer\n",
    "# The first layer has 784 neurons\n",
    "# That is 784*300 connections, so 784*300 weights and 300 biases\n",
    "# total of 235200 + 300 = 235500"
   ]
  },
  {
   "cell_type": "code",
   "execution_count": 8,
   "metadata": {},
   "outputs": [
    {
     "data": {
      "text/plain": [
       "[<keras.src.layers.reshaping.flatten.Flatten at 0x7f3cfacacf10>,\n",
       " <keras.src.layers.core.dense.Dense at 0x7f3cf844d100>,\n",
       " <keras.src.layers.core.dense.Dense at 0x7f3cf844d520>,\n",
       " <keras.src.layers.core.dense.Dense at 0x7f3cf844d910>]"
      ]
     },
     "execution_count": 8,
     "metadata": {},
     "output_type": "execute_result"
    }
   ],
   "source": [
    "# Get a list of the layers\n",
    "model.layers"
   ]
  },
  {
   "cell_type": "code",
   "execution_count": 9,
   "metadata": {},
   "outputs": [
    {
     "data": {
      "text/plain": [
       "array([[-0.00555782, -0.06274071, -0.0006916 , ..., -0.01639829,\n",
       "        -0.03046934, -0.01224453],\n",
       "       [ 0.05431718,  0.0680069 ,  0.04484333, ..., -0.01589354,\n",
       "        -0.07141361, -0.0326048 ],\n",
       "       [-0.00016221,  0.03682492, -0.0016818 , ...,  0.05384238,\n",
       "         0.03716685,  0.04016462],\n",
       "       ...,\n",
       "       [ 0.00509766, -0.00884216, -0.03995124, ...,  0.05178173,\n",
       "         0.04838454, -0.04241992],\n",
       "       [-0.01834751, -0.03527385,  0.03121734, ..., -0.04951143,\n",
       "         0.0316957 ,  0.05234788],\n",
       "       [-0.00614906,  0.00390951,  0.05571733, ..., -0.03062911,\n",
       "        -0.02791502, -0.03169932]], dtype=float32)"
      ]
     },
     "execution_count": 9,
     "metadata": {},
     "output_type": "execute_result"
    }
   ],
   "source": [
    "# Get values for all weights leading to a layer\n",
    "weights, biases = model.layers[1].get_weights()\n",
    "weights"
   ]
  },
  {
   "cell_type": "code",
   "execution_count": 10,
   "metadata": {},
   "outputs": [
    {
     "data": {
      "text/plain": [
       "array([0., 0., 0., 0., 0., 0., 0., 0., 0., 0., 0., 0., 0., 0., 0., 0., 0.,\n",
       "       0., 0., 0., 0., 0., 0., 0., 0., 0., 0., 0., 0., 0., 0., 0., 0., 0.,\n",
       "       0., 0., 0., 0., 0., 0., 0., 0., 0., 0., 0., 0., 0., 0., 0., 0., 0.,\n",
       "       0., 0., 0., 0., 0., 0., 0., 0., 0., 0., 0., 0., 0., 0., 0., 0., 0.,\n",
       "       0., 0., 0., 0., 0., 0., 0., 0., 0., 0., 0., 0., 0., 0., 0., 0., 0.,\n",
       "       0., 0., 0., 0., 0., 0., 0., 0., 0., 0., 0., 0., 0., 0., 0., 0., 0.,\n",
       "       0., 0., 0., 0., 0., 0., 0., 0., 0., 0., 0., 0., 0., 0., 0., 0., 0.,\n",
       "       0., 0., 0., 0., 0., 0., 0., 0., 0., 0., 0., 0., 0., 0., 0., 0., 0.,\n",
       "       0., 0., 0., 0., 0., 0., 0., 0., 0., 0., 0., 0., 0., 0., 0., 0., 0.,\n",
       "       0., 0., 0., 0., 0., 0., 0., 0., 0., 0., 0., 0., 0., 0., 0., 0., 0.,\n",
       "       0., 0., 0., 0., 0., 0., 0., 0., 0., 0., 0., 0., 0., 0., 0., 0., 0.,\n",
       "       0., 0., 0., 0., 0., 0., 0., 0., 0., 0., 0., 0., 0., 0., 0., 0., 0.,\n",
       "       0., 0., 0., 0., 0., 0., 0., 0., 0., 0., 0., 0., 0., 0., 0., 0., 0.,\n",
       "       0., 0., 0., 0., 0., 0., 0., 0., 0., 0., 0., 0., 0., 0., 0., 0., 0.,\n",
       "       0., 0., 0., 0., 0., 0., 0., 0., 0., 0., 0., 0., 0., 0., 0., 0., 0.,\n",
       "       0., 0., 0., 0., 0., 0., 0., 0., 0., 0., 0., 0., 0., 0., 0., 0., 0.,\n",
       "       0., 0., 0., 0., 0., 0., 0., 0., 0., 0., 0., 0., 0., 0., 0., 0., 0.,\n",
       "       0., 0., 0., 0., 0., 0., 0., 0., 0., 0., 0.], dtype=float32)"
      ]
     },
     "execution_count": 10,
     "metadata": {},
     "output_type": "execute_result"
    }
   ],
   "source": [
    "biases"
   ]
  },
  {
   "cell_type": "code",
   "execution_count": 11,
   "metadata": {},
   "outputs": [],
   "source": [
    "# Compile the model\n",
    "model.compile(loss=\"sparse_categorical_crossentropy\",\n",
    "              optimizer=\"sgd\",                           # sgd = Stochastic Gradient Descent\n",
    "              metrics=[\"accuracy\"])"
   ]
  },
  {
   "cell_type": "code",
   "execution_count": 12,
   "metadata": {},
   "outputs": [
    {
     "name": "stdout",
     "output_type": "stream",
     "text": [
      "Epoch 1/10\n"
     ]
    },
    {
     "name": "stderr",
     "output_type": "stream",
     "text": [
      "2023-12-04 23:30:46.886695: W external/local_tsl/tsl/framework/cpu_allocator_impl.cc:83] Allocation of 172480000 exceeds 10% of free system memory.\n"
     ]
    },
    {
     "name": "stdout",
     "output_type": "stream",
     "text": [
      "1719/1719 [==============================] - 16s 9ms/step - loss: 0.7083 - accuracy: 0.7705 - val_loss: 0.4954 - val_accuracy: 0.8350\n",
      "Epoch 2/10\n",
      "1719/1719 [==============================] - 20s 11ms/step - loss: 0.4845 - accuracy: 0.8325 - val_loss: 0.4607 - val_accuracy: 0.8352\n",
      "Epoch 3/10\n",
      "1719/1719 [==============================] - 17s 10ms/step - loss: 0.4405 - accuracy: 0.8463 - val_loss: 0.4093 - val_accuracy: 0.8610\n",
      "Epoch 4/10\n",
      "1719/1719 [==============================] - 16s 9ms/step - loss: 0.4143 - accuracy: 0.8555 - val_loss: 0.4043 - val_accuracy: 0.8550\n",
      "Epoch 5/10\n",
      "1719/1719 [==============================] - 15s 9ms/step - loss: 0.3936 - accuracy: 0.8623 - val_loss: 0.3904 - val_accuracy: 0.8672\n",
      "Epoch 6/10\n",
      "1719/1719 [==============================] - 15s 9ms/step - loss: 0.3792 - accuracy: 0.8671 - val_loss: 0.3728 - val_accuracy: 0.8722\n",
      "Epoch 7/10\n",
      "1719/1719 [==============================] - 13s 8ms/step - loss: 0.3664 - accuracy: 0.8714 - val_loss: 0.3707 - val_accuracy: 0.8688\n",
      "Epoch 8/10\n",
      "1719/1719 [==============================] - 13s 7ms/step - loss: 0.3542 - accuracy: 0.8758 - val_loss: 0.3798 - val_accuracy: 0.8704\n",
      "Epoch 9/10\n",
      "1719/1719 [==============================] - 13s 8ms/step - loss: 0.3442 - accuracy: 0.8772 - val_loss: 0.3423 - val_accuracy: 0.8788\n",
      "Epoch 10/10\n",
      "1719/1719 [==============================] - 13s 8ms/step - loss: 0.3342 - accuracy: 0.8806 - val_loss: 0.3338 - val_accuracy: 0.8824\n"
     ]
    }
   ],
   "source": [
    "history = model.fit(X_train, y_train, epochs = 10, validation_data=(X_valid, y_valid))"
   ]
  },
  {
   "cell_type": "code",
   "execution_count": 13,
   "metadata": {},
   "outputs": [
    {
     "data": {
      "image/png": "[encoded data removed]",
      "text/plain": [
       "<Figure size 800x500 with 1 Axes>"
      ]
     },
     "metadata": {},
     "output_type": "display_data"
    }
   ],
   "source": [
    "import pandas as pd\n",
    "import matplotlib.pyplot as plt\n",
    "\n",
    "pd.DataFrame(history.history).plot(figsize=(8,5))\n",
    "plt.grid(True)\n",
    "plt.gca().set_ylim(0,1)\n",
    "plt.show()"
   ]
  },
  {
   "cell_type": "code",
   "execution_count": 14,
   "metadata": {},
   "outputs": [
    {
     "name": "stdout",
     "output_type": "stream",
     "text": [
      "313/313 [==============================] - 2s 7ms/step - loss: 0.3699 - accuracy: 0.8666\n"
     ]
    },
    {
     "data": {
      "text/plain": [
       "[0.3699394762516022, 0.866599977016449]"
      ]
     },
     "execution_count": 14,
     "metadata": {},
     "output_type": "execute_result"
    }
   ],
   "source": [
    "model.evaluate(X_test, y_test)"
   ]
  },
  {
   "cell_type": "code",
   "execution_count": 15,
   "metadata": {},
   "outputs": [
    {
     "name": "stdout",
     "output_type": "stream",
     "text": [
      "1/1 [==============================] - 0s 258ms/step\n"
     ]
    },
    {
     "data": {
      "text/plain": [
       "array([[0.  , 0.  , 0.  , 0.  , 0.  , 0.05, 0.  , 0.07, 0.01, 0.87],\n",
       "       [0.  , 0.  , 0.98, 0.  , 0.01, 0.  , 0.01, 0.  , 0.  , 0.  ],\n",
       "       [0.  , 1.  , 0.  , 0.  , 0.  , 0.  , 0.  , 0.  , 0.  , 0.  ]],\n",
       "      dtype=float32)"
      ]
     },
     "execution_count": 15,
     "metadata": {},
     "output_type": "execute_result"
    }
   ],
   "source": [
    "### Classes:  [\"T-shirt/top\", \"Trouser\", \"Pullover\", \"Dress\", \"Coat\", \"Sandal\", \"Shirt\", \"Sneaker\", \"Bag\", \"Ankle boot\"]\n",
    "X_new = X_test[:3]\n",
    "y_prob = model.predict(X_new)\n",
    "y_prob.round(2)"
   ]
  },
  {
   "cell_type": "code",
   "execution_count": 16,
   "metadata": {},
   "outputs": [
    {
     "name": "stderr",
     "output_type": "stream",
     "text": [
      "/tmp/ipykernel_14165/70036968.py:5: MatplotlibDeprecationWarning: The get_cmap function was deprecated in Matplotlib 3.7 and will be removed two minor releases later. Use ``matplotlib.colormaps[name]`` or ``matplotlib.colormaps.get_cmap(obj)`` instead.\n",
      "  cmap = plt.cm.get_cmap('gray_r')\n"
     ]
    },
    {
     "data": {
      "image/png": "[encoded data removed]",
      "text/plain": [
       "<Figure size 600x600 with 3 Axes>"
      ]
     },
     "metadata": {},
     "output_type": "display_data"
    }
   ],
   "source": [
    "ax = ['ax1','ax2','ax3']\n",
    "f, ax = plt.subplots(1, 3, sharey=True, figsize=(6,6))\n",
    "for i in range(3):\n",
    "    img = ax[i].imshow(X_new[i])\n",
    "    cmap = plt.cm.get_cmap('gray_r')\n",
    "    img.set_cmap(cmap)\n",
    "    ax[i].axis('off')"
   ]
  },
  {
   "cell_type": "code",
   "execution_count": 17,
   "metadata": {},
   "outputs": [
    {
     "name": "stdout",
     "output_type": "stream",
     "text": [
      "1/1 [==============================] - 0s 48ms/step\n"
     ]
    },
    {
     "data": {
      "text/plain": [
       "array([[0., 0., 0., 0., 0., 0., 0., 0., 0., 1.],\n",
       "       [0., 0., 1., 0., 0., 0., 0., 0., 0., 0.],\n",
       "       [0., 1., 0., 0., 0., 0., 0., 0., 0., 0.]], dtype=float32)"
      ]
     },
     "execution_count": 17,
     "metadata": {},
     "output_type": "execute_result"
    }
   ],
   "source": [
    "#y_predict = model.predict_classes(X_new)  # This is the command in the book - not working on Mac\n",
    "y_predict = model.predict(X_new)\n",
    "y_predict = y_predict.round(0)\n",
    "y_predict"
   ]
  },
  {
   "cell_type": "code",
   "execution_count": 18,
   "metadata": {},
   "outputs": [
    {
     "data": {
      "text/plain": [
       "array([[-5.5627930e-03, -6.2740706e-02, -7.0075685e-04, ...,\n",
       "        -1.6398359e-02, -3.0471072e-02, -1.2218156e-02],\n",
       "       [ 5.4324213e-02,  6.8006061e-02,  4.4833310e-02, ...,\n",
       "        -1.5888983e-02, -7.1413524e-02, -3.2581959e-02],\n",
       "       [-8.9366418e-05,  3.6816325e-02, -1.7310176e-03, ...,\n",
       "         5.3847685e-02,  3.7159208e-02,  4.0206771e-02],\n",
       "       ...,\n",
       "       [ 6.8897749e-03, -8.9304661e-03, -3.5291158e-02, ...,\n",
       "         5.3304162e-02,  4.7748208e-02, -5.0711405e-02],\n",
       "       [-1.8522983e-02, -3.5109285e-02,  3.2128438e-02, ...,\n",
       "        -4.9036391e-02,  3.1723324e-02,  4.9801379e-02],\n",
       "       [-6.2161977e-03,  3.9089071e-03,  5.6275900e-02, ...,\n",
       "        -3.0732051e-02, -2.7944820e-02, -3.1848084e-02]], dtype=float32)"
      ]
     },
     "execution_count": 18,
     "metadata": {},
     "output_type": "execute_result"
    }
   ],
   "source": [
    "# Get values for all weights leading to a layer\n",
    "weights, biases = model.layers[1].get_weights()\n",
    "weights"
   ]
  },
  {
   "cell_type": "code",
   "execution_count": 19,
   "metadata": {},
   "outputs": [
    {
     "data": {
      "text/plain": [
       "array([ 7.89496526e-02,  5.31189726e-04,  8.42384622e-02, -5.62207447e-03,\n",
       "       -2.81392969e-03,  3.31104472e-02, -2.56857537e-02,  1.23126875e-03,\n",
       "        1.13984384e-02,  1.17329322e-01,  7.26559162e-02, -4.25417162e-02,\n",
       "       -4.82092239e-02,  3.20090093e-02,  5.58029208e-03,  1.19240955e-01,\n",
       "        2.18529012e-02,  5.37247807e-02,  7.61850737e-03,  6.12416938e-02,\n",
       "        4.03984934e-02,  7.30335899e-03,  6.12969361e-02, -4.54668775e-02,\n",
       "       -5.65634249e-03,  6.25531822e-02,  1.32381916e-02,  7.53872003e-03,\n",
       "       -1.38205680e-04,  4.12985357e-03, -6.69400916e-02, -4.72684540e-02,\n",
       "        6.06886223e-02, -3.44423167e-02,  3.92417759e-02,  2.48630662e-02,\n",
       "        5.46789654e-02, -6.48020208e-03,  8.73772055e-02,  4.09235321e-02,\n",
       "       -5.25628310e-03,  3.04538844e-04,  2.44038198e-02, -3.01556051e-04,\n",
       "        2.70610936e-02,  1.24043915e-02,  1.10939249e-01,  1.33933261e-01,\n",
       "        2.56751888e-02, -2.08688481e-03,  7.29098096e-02, -1.71435159e-02,\n",
       "        8.06278139e-02,  3.42046991e-02, -1.59883536e-02,  7.43943616e-04,\n",
       "        2.64894646e-02, -1.68320574e-02,  1.01157594e-02,  1.87304374e-02,\n",
       "        1.39625836e-02,  4.42406088e-02,  3.43012623e-02,  2.99862493e-02,\n",
       "       -5.31348735e-02,  2.70830765e-02, -9.69606731e-03,  1.76095758e-02,\n",
       "        1.06372777e-03,  4.13379073e-02, -5.46498559e-02, -7.68619496e-03,\n",
       "       -4.16125497e-03, -4.09200825e-02,  1.27629340e-01,  5.58599457e-02,\n",
       "        6.82159364e-02,  1.16616702e-02,  2.66003963e-02, -2.12361030e-02,\n",
       "        2.79092882e-02, -7.08785420e-03,  1.54505502e-02,  7.13732317e-02,\n",
       "        1.10173281e-02,  1.93935540e-02,  2.06748731e-02,  7.95550421e-02,\n",
       "        4.69891913e-02,  1.48979882e-02,  9.70527753e-02, -1.42462533e-02,\n",
       "        8.44359100e-02,  2.62155775e-02, -9.91927236e-02,  1.66947916e-02,\n",
       "        5.29655591e-02,  6.47885874e-02,  8.67769308e-03,  7.84731470e-03,\n",
       "        4.28515524e-02,  2.27242317e-02,  2.94993650e-02,  1.39255924e-02,\n",
       "       -1.87958293e-02,  1.19996909e-02,  4.42692228e-02, -4.62064566e-03,\n",
       "        3.00179096e-03,  6.80544227e-02,  2.41987668e-02,  1.55643523e-02,\n",
       "        1.01220958e-01, -1.71498805e-02,  1.62422657e-01,  3.67314368e-02,\n",
       "        3.25694606e-02,  5.30918092e-02,  4.41599526e-02,  2.90416684e-02,\n",
       "        5.67746758e-02, -3.81182763e-03,  2.19279472e-02,  1.04800276e-02,\n",
       "        5.37308082e-02, -2.13246816e-03,  3.97207215e-02,  5.55630475e-02,\n",
       "        4.95392270e-02, -4.06826809e-02,  6.26979470e-02,  1.38701813e-03,\n",
       "        8.28465223e-02, -2.82632336e-02,  3.30667645e-02, -1.67441089e-02,\n",
       "       -8.07754043e-03,  1.70389116e-02,  1.11270964e-01,  4.37679775e-02,\n",
       "       -5.59741184e-02,  5.58464155e-02,  4.51130383e-02,  1.34565294e-01,\n",
       "        7.01022223e-02,  6.18765038e-03,  4.26285900e-02,  6.26575574e-02,\n",
       "       -1.54234329e-02,  8.31395164e-02,  8.09057895e-03,  1.77105237e-02,\n",
       "       -1.68333296e-02,  5.64950816e-02, -2.13609892e-05, -1.45571008e-02,\n",
       "       -1.09545961e-02, -1.47208674e-02,  7.02898428e-02, -1.07416157e-02,\n",
       "        3.21250819e-02,  9.11907181e-02,  8.34248289e-02,  7.04251416e-03,\n",
       "        4.25638258e-02, -4.32025343e-02,  3.85098234e-02,  2.99478378e-02,\n",
       "        1.19466074e-02,  1.54312784e-02, -5.32797817e-03,  1.24984942e-02,\n",
       "        7.57993385e-02,  3.30938622e-02,  6.30444437e-02, -2.75599528e-02,\n",
       "       -9.99432756e-04,  2.41673877e-03,  4.22094613e-02,  1.23096537e-02,\n",
       "        2.31991126e-03,  5.83958849e-02,  7.39769265e-02,  9.01268125e-02,\n",
       "       -2.51047462e-02,  1.71302054e-02, -5.75964339e-03,  6.24247342e-02,\n",
       "        1.05670849e-02,  2.04713773e-02,  4.38151471e-02, -3.46241146e-02,\n",
       "        9.30081494e-03,  7.80593678e-02,  4.13867226e-03,  5.21986838e-03,\n",
       "       -4.12732130e-03,  3.80493477e-02,  1.19169354e-01, -1.33984732e-02,\n",
       "       -1.90609414e-02,  3.72842178e-02,  5.72972349e-04, -1.05631359e-01,\n",
       "       -5.11420481e-02,  3.68305817e-02,  3.25716697e-02,  6.46966547e-02,\n",
       "       -5.50008975e-02, -2.51089875e-03,  2.26406977e-02, -9.63520352e-03,\n",
       "        4.02534716e-02,  1.06111318e-02,  1.84693020e-02,  3.66308875e-02,\n",
       "       -1.87509172e-02,  8.35957751e-03,  3.18446197e-02,  4.04715352e-02,\n",
       "       -4.31611910e-02,  2.51864027e-02,  3.03960480e-02, -1.21089835e-02,\n",
       "        1.10181663e-02, -1.18310852e-02,  4.79281247e-02, -3.10473517e-02,\n",
       "        1.22474441e-02,  2.08781734e-02,  2.98096482e-02, -3.88297066e-03,\n",
       "       -5.41029871e-02,  8.94440562e-02,  6.51748180e-02, -4.27638777e-02,\n",
       "        4.79081944e-02,  8.19401294e-02, -1.83072290e-03,  1.17850713e-02,\n",
       "       -9.84329730e-03,  1.09402180e-01,  8.56602564e-03,  4.43165489e-02,\n",
       "       -1.37169948e-02,  6.99367374e-02,  2.82143168e-02,  6.93692937e-02,\n",
       "       -2.14016996e-02,  2.80548888e-03,  2.91454792e-02,  1.03960074e-01,\n",
       "        2.05310397e-02,  7.35116750e-02, -2.52715629e-02,  6.50476143e-02,\n",
       "       -3.01042129e-03,  4.29837294e-02,  1.61936671e-01, -5.00498973e-02,\n",
       "        7.93129802e-02,  4.03662585e-02,  2.41687596e-02,  4.80366452e-03,\n",
       "        3.47335152e-02, -2.36431565e-02,  1.90963391e-02,  3.74828815e-04,\n",
       "       -1.23273460e-02,  3.20404605e-03,  3.35299820e-02, -9.45894327e-03,\n",
       "        7.16913585e-03,  4.63444665e-02,  3.81598505e-03,  5.24177812e-02,\n",
       "       -1.84861645e-02,  3.89682092e-02,  6.51665032e-02,  5.23110144e-02,\n",
       "       -4.37088721e-02,  3.46014649e-02,  6.60850331e-02,  5.38166426e-02,\n",
       "        1.19141214e-01, -8.82991329e-02,  3.78969274e-02,  1.21901147e-02,\n",
       "       -7.15786451e-03, -5.25217690e-03, -7.63882324e-02, -2.51746401e-02,\n",
       "        3.14922258e-02,  2.75115017e-02,  1.45316217e-02,  1.17890015e-01,\n",
       "        2.66242046e-02,  1.16169445e-01,  2.81026643e-02, -2.86470749e-03],\n",
       "      dtype=float32)"
      ]
     },
     "execution_count": 19,
     "metadata": {},
     "output_type": "execute_result"
    }
   ],
   "source": [
    "biases"
   ]
  },
  {
   "cell_type": "markdown",
   "metadata": {},
   "source": [
    "## Functional APIs\n",
    "We saw earlier that a __deep layer__ is one with two or more hidden layers. A __wide and deep network__  is one that has hidden layers, but some of the data bypasses the hidden layers.\n",
    "\n",
    "For example, we could have two datasets. The first is held until later, but the second runs through the deep network. Then later, they are concatenated for the rest of the calculations.\n",
    "\n",
    "<img src=\"https://learning.oreilly.com/api/v2/epubs/urn:orm:book:9781492032632/files/assets/mls2_1015.png\" width=250>"
   ]
  },
  {
   "cell_type": "code",
   "execution_count": 30,
   "metadata": {},
   "outputs": [],
   "source": [
    "# Create two inputs\n",
    "input_A = keras.layers.Input(shape=[5], name=\"wide_input\")\n",
    "input_B = keras.layers.Input(shape=[6], name=\"deep_input\")\n",
    "\n",
    "# Create hidden layers, using input_B as input\n",
    "hidden1 = keras.layers.Dense(30, activation=\"relu\")(input_B)\n",
    "hidden2 = keras.layers.Dense(30, activation=\"relu\")(hidden1)\n",
    "\n",
    "# Merge input_A with the deep network from input_B\n",
    "concat = keras.layers.concatenate([input_A, hidden2])\n",
    "\n",
    "# Output\n",
    "output = keras.layers.Dense(1, name=\"output\")(concat)\n",
    "\n",
    "model = keras.Model(inputs=[input_A, input_B], outputs=[output])"
   ]
  },
  {
   "cell_type": "markdown",
   "metadata": {},
   "source": [
    "Notice that each layer acts as a function with a parameter fed into it. This is why this is commonly called the __Functional API__.\n",
    "\n",
    "We could also merge an input layer with itself after it's passed through the deep network.\n",
    "\n",
    "<img src=\"https://learning.oreilly.com/api/v2/epubs/urn:orm:book:9781492032632/files/assets/mls2_1014.png\" width=250>"
   ]
  },
  {
   "cell_type": "code",
   "execution_count": 31,
   "metadata": {},
   "outputs": [],
   "source": [
    "# Create two inputs\n",
    "input_A = keras.layers.Input(shape=X_train.shape[1:])\n",
    "\n",
    "# Create hidden layers\n",
    "hidden1 = keras.layers.Dense(30, activation=\"relu\")(input_A)\n",
    "hidden2 = keras.layers.Dense(30, activation=\"relu\")(hidden1)\n",
    "\n",
    "# Merge input_A with the deep network\n",
    "concat = keras.layers.concatenate([input_A, hidden2])\n",
    "\n",
    "# Output\n",
    "output = keras.layers.Dense(1)(concat)\n",
    "\n",
    "model = keras.Model(inputs=[input_A, input_B], outputs=[output])\n",
    "model.compile(loss='mse', optimizer='sgd')"
   ]
  },
  {
   "cell_type": "markdown",
   "metadata": {},
   "source": [
    "In some cases, you may also want multiple outputs:\n",
    "\n",
    "<img src=\"https://learning.oreilly.com/api/v2/epubs/urn:orm:book:9781492032632/files/assets/mls2_1016.png\" width=250>"
   ]
  },
  {
   "cell_type": "code",
   "execution_count": 32,
   "metadata": {},
   "outputs": [],
   "source": [
    "# Create two inputs\n",
    "input_A = keras.layers.Input(shape=[5], name=\"wide_input\")\n",
    "input_B = keras.layers.Input(shape=[6], name=\"deep_input\")\n",
    "\n",
    "# Create hidden layers, using input_B as input\n",
    "hidden1 = keras.layers.Dense(30, activation=\"relu\")(input_B)\n",
    "hidden2 = keras.layers.Dense(30, activation=\"relu\")(hidden1)\n",
    "\n",
    "# Merge input_A with the deep network from input_B\n",
    "concat = keras.layers.concatenate([input_A, hidden2])\n",
    "\n",
    "# Output\n",
    "output = keras.layers.Dense(1, name=\"main_output\")(concat)\n",
    "output_aux = keras.layers.Dense(1, name=\"aux_output\")(hidden2)\n",
    "\n",
    "model = keras.Model(inputs=[input_A, input_B], outputs=[output, output_aux])\n",
    "model.compile(loss=['mse', 'mse'], loss_weights=[0.9, 0.1], optimizer='sgd')"
   ]
  },
  {
   "cell_type": "markdown",
   "metadata": {},
   "source": [
    "-----\n",
    "## Choosing the right Hyperparameters\n",
    "How many layers should I use? How big should each layer be? What arrangement of activation functions and optimizers should I use?\n",
    "\n",
    "There are an infinite number of answers to these questions. So, fine-tuning can be difficult. We can use a `RandomizedSearchCV` or `GridSearchCV` to quickly set up multiple networks and find the best one. Here's what it would look like using `RandomizedSearchCV`:"
   ]
  },
  {
   "cell_type": "code",
   "execution_count": 33,
   "metadata": {},
   "outputs": [
    {
     "name": "stderr",
     "output_type": "stream",
     "text": [
      "/var/folders/qk/b_fqr8c925l80p4m9dkk0wth0000gn/T/ipykernel_28442/1391298444.py:13: DeprecationWarning: KerasRegressor is deprecated, use Sci-Keras (https://github.com/adriangb/scikeras) instead. See https://www.adriangb.com/scikeras/stable/migration.html for help migrating.\n",
      "  keras_reg = keras.wrappers.scikit_learn.KerasRegressor(build_model)\n",
      "/Users/michaelolson/.virtualenvs/NeuralNets/lib/python3.9/site-packages/keras/optimizer_v2/gradient_descent.py:102: UserWarning: The `lr` argument is deprecated, use `learning_rate` instead.\n",
      "  super(SGD, self).__init__(name, **kwargs)\n"
     ]
    },
    {
     "name": "stdout",
     "output_type": "stream",
     "text": [
      "Epoch 1/100\n"
     ]
    },
    {
     "ename": "ValueError",
     "evalue": "in user code:\n\n    File \"/Users/michaelolson/.virtualenvs/NeuralNets/lib/python3.9/site-packages/keras/engine/training.py\", line 1021, in train_function  *\n        return step_function(self, iterator)\n    File \"/Users/michaelolson/.virtualenvs/NeuralNets/lib/python3.9/site-packages/keras/engine/training.py\", line 1010, in step_function  **\n        outputs = model.distribute_strategy.run(run_step, args=(data,))\n    File \"/Users/michaelolson/.virtualenvs/NeuralNets/lib/python3.9/site-packages/keras/engine/training.py\", line 1000, in run_step  **\n        outputs = model.train_step(data)\n    File \"/Users/michaelolson/.virtualenvs/NeuralNets/lib/python3.9/site-packages/keras/engine/training.py\", line 859, in train_step\n        y_pred = self(x, training=True)\n    File \"/Users/michaelolson/.virtualenvs/NeuralNets/lib/python3.9/site-packages/keras/utils/traceback_utils.py\", line 67, in error_handler\n        raise e.with_traceback(filtered_tb) from None\n    File \"/Users/michaelolson/.virtualenvs/NeuralNets/lib/python3.9/site-packages/keras/engine/input_spec.py\", line 264, in assert_input_compatibility\n        raise ValueError(f'Input {input_index} of layer \"{layer_name}\" is '\n\n    ValueError: Input 0 of layer \"sequential_1\" is incompatible with the layer: expected shape=(None, 8), found shape=(None, 28, 28)\n",
     "output_type": "error",
     "traceback": [
      "\u001b[0;31m---------------------------------------------------------------------------\u001b[0m",
      "\u001b[0;31mValueError\u001b[0m                                Traceback (most recent call last)",
      "\u001b[1;32m/Users/michaelolson/OneDrive - snow.edu/Classes/MATH 3280 - Data Mining/Lecture Notes/3280_11_NeuralNetworks.ipynb Cell 49\u001b[0m line \u001b[0;36m<cell line: 18>\u001b[0;34m()\u001b[0m\n\u001b[1;32m     <a href='vscode-notebook-cell:/Users/michaelolson/OneDrive%20-%20snow.edu/Classes/MATH%203280%20-%20Data%20Mining/Lecture%20Notes/3280_11_NeuralNetworks.ipynb#X60sZmlsZQ%3D%3D?line=12'>13</a>\u001b[0m keras_reg \u001b[39m=\u001b[39m keras\u001b[39m.\u001b[39mwrappers\u001b[39m.\u001b[39mscikit_learn\u001b[39m.\u001b[39mKerasRegressor(build_model)\n\u001b[1;32m     <a href='vscode-notebook-cell:/Users/michaelolson/OneDrive%20-%20snow.edu/Classes/MATH%203280%20-%20Data%20Mining/Lecture%20Notes/3280_11_NeuralNetworks.ipynb#X60sZmlsZQ%3D%3D?line=14'>15</a>\u001b[0m \u001b[39m# Use this wrapper like a regular Scikit-Learn Regressor\u001b[39;00m\n\u001b[1;32m     <a href='vscode-notebook-cell:/Users/michaelolson/OneDrive%20-%20snow.edu/Classes/MATH%203280%20-%20Data%20Mining/Lecture%20Notes/3280_11_NeuralNetworks.ipynb#X60sZmlsZQ%3D%3D?line=15'>16</a>\u001b[0m \u001b[39m#   Train using `fit()`\u001b[39;00m\n\u001b[1;32m     <a href='vscode-notebook-cell:/Users/michaelolson/OneDrive%20-%20snow.edu/Classes/MATH%203280%20-%20Data%20Mining/Lecture%20Notes/3280_11_NeuralNetworks.ipynb#X60sZmlsZQ%3D%3D?line=16'>17</a>\u001b[0m \u001b[39m#   Make predictions using `predict()`\u001b[39;00m\n\u001b[0;32m---> <a href='vscode-notebook-cell:/Users/michaelolson/OneDrive%20-%20snow.edu/Classes/MATH%203280%20-%20Data%20Mining/Lecture%20Notes/3280_11_NeuralNetworks.ipynb#X60sZmlsZQ%3D%3D?line=17'>18</a>\u001b[0m keras_reg\u001b[39m.\u001b[39;49mfit(X_train, y_train, epochs\u001b[39m=\u001b[39;49m\u001b[39m100\u001b[39;49m,\n\u001b[1;32m     <a href='vscode-notebook-cell:/Users/michaelolson/OneDrive%20-%20snow.edu/Classes/MATH%203280%20-%20Data%20Mining/Lecture%20Notes/3280_11_NeuralNetworks.ipynb#X60sZmlsZQ%3D%3D?line=18'>19</a>\u001b[0m               validation_data\u001b[39m=\u001b[39;49m(X_valid, y_valid),\n\u001b[1;32m     <a href='vscode-notebook-cell:/Users/michaelolson/OneDrive%20-%20snow.edu/Classes/MATH%203280%20-%20Data%20Mining/Lecture%20Notes/3280_11_NeuralNetworks.ipynb#X60sZmlsZQ%3D%3D?line=19'>20</a>\u001b[0m               callbacks\u001b[39m=\u001b[39;49m[keras\u001b[39m.\u001b[39;49mcallbacks\u001b[39m.\u001b[39;49mEarlyStopping(patience\u001b[39m=\u001b[39;49m\u001b[39m10\u001b[39;49m)])\n\u001b[1;32m     <a href='vscode-notebook-cell:/Users/michaelolson/OneDrive%20-%20snow.edu/Classes/MATH%203280%20-%20Data%20Mining/Lecture%20Notes/3280_11_NeuralNetworks.ipynb#X60sZmlsZQ%3D%3D?line=20'>21</a>\u001b[0m mse_test \u001b[39m=\u001b[39m keras_reg\u001b[39m.\u001b[39mscore(X_test, y_test)\n\u001b[1;32m     <a href='vscode-notebook-cell:/Users/michaelolson/OneDrive%20-%20snow.edu/Classes/MATH%203280%20-%20Data%20Mining/Lecture%20Notes/3280_11_NeuralNetworks.ipynb#X60sZmlsZQ%3D%3D?line=21'>22</a>\u001b[0m y_pred \u001b[39m=\u001b[39m keras_reg\u001b[39m.\u001b[39mpredict(X_new)\n",
      "File \u001b[0;32m~/.virtualenvs/NeuralNets/lib/python3.9/site-packages/keras/wrappers/scikit_learn.py:164\u001b[0m, in \u001b[0;36mBaseWrapper.fit\u001b[0;34m(self, x, y, **kwargs)\u001b[0m\n\u001b[1;32m    161\u001b[0m fit_args \u001b[39m=\u001b[39m copy\u001b[39m.\u001b[39mdeepcopy(\u001b[39mself\u001b[39m\u001b[39m.\u001b[39mfilter_sk_params(Sequential\u001b[39m.\u001b[39mfit))\n\u001b[1;32m    162\u001b[0m fit_args\u001b[39m.\u001b[39mupdate(kwargs)\n\u001b[0;32m--> 164\u001b[0m history \u001b[39m=\u001b[39m \u001b[39mself\u001b[39;49m\u001b[39m.\u001b[39;49mmodel\u001b[39m.\u001b[39;49mfit(x, y, \u001b[39m*\u001b[39;49m\u001b[39m*\u001b[39;49mfit_args)\n\u001b[1;32m    166\u001b[0m \u001b[39mreturn\u001b[39;00m history\n",
      "File \u001b[0;32m~/.virtualenvs/NeuralNets/lib/python3.9/site-packages/keras/utils/traceback_utils.py:67\u001b[0m, in \u001b[0;36mfilter_traceback.<locals>.error_handler\u001b[0;34m(*args, **kwargs)\u001b[0m\n\u001b[1;32m     65\u001b[0m \u001b[39mexcept\u001b[39;00m \u001b[39mException\u001b[39;00m \u001b[39mas\u001b[39;00m e:  \u001b[39m# pylint: disable=broad-except\u001b[39;00m\n\u001b[1;32m     66\u001b[0m   filtered_tb \u001b[39m=\u001b[39m _process_traceback_frames(e\u001b[39m.\u001b[39m__traceback__)\n\u001b[0;32m---> 67\u001b[0m   \u001b[39mraise\u001b[39;00m e\u001b[39m.\u001b[39mwith_traceback(filtered_tb) \u001b[39mfrom\u001b[39;00m \u001b[39mNone\u001b[39m\n\u001b[1;32m     68\u001b[0m \u001b[39mfinally\u001b[39;00m:\n\u001b[1;32m     69\u001b[0m   \u001b[39mdel\u001b[39;00m filtered_tb\n",
      "File \u001b[0;32m~/.virtualenvs/NeuralNets/lib/python3.9/site-packages/tensorflow/python/framework/func_graph.py:1147\u001b[0m, in \u001b[0;36mfunc_graph_from_py_func.<locals>.autograph_handler\u001b[0;34m(*args, **kwargs)\u001b[0m\n\u001b[1;32m   1145\u001b[0m \u001b[39mexcept\u001b[39;00m \u001b[39mException\u001b[39;00m \u001b[39mas\u001b[39;00m e:  \u001b[39m# pylint:disable=broad-except\u001b[39;00m\n\u001b[1;32m   1146\u001b[0m   \u001b[39mif\u001b[39;00m \u001b[39mhasattr\u001b[39m(e, \u001b[39m\"\u001b[39m\u001b[39mag_error_metadata\u001b[39m\u001b[39m\"\u001b[39m):\n\u001b[0;32m-> 1147\u001b[0m     \u001b[39mraise\u001b[39;00m e\u001b[39m.\u001b[39mag_error_metadata\u001b[39m.\u001b[39mto_exception(e)\n\u001b[1;32m   1148\u001b[0m   \u001b[39melse\u001b[39;00m:\n\u001b[1;32m   1149\u001b[0m     \u001b[39mraise\u001b[39;00m\n",
      "\u001b[0;31mValueError\u001b[0m: in user code:\n\n    File \"/Users/michaelolson/.virtualenvs/NeuralNets/lib/python3.9/site-packages/keras/engine/training.py\", line 1021, in train_function  *\n        return step_function(self, iterator)\n    File \"/Users/michaelolson/.virtualenvs/NeuralNets/lib/python3.9/site-packages/keras/engine/training.py\", line 1010, in step_function  **\n        outputs = model.distribute_strategy.run(run_step, args=(data,))\n    File \"/Users/michaelolson/.virtualenvs/NeuralNets/lib/python3.9/site-packages/keras/engine/training.py\", line 1000, in run_step  **\n        outputs = model.train_step(data)\n    File \"/Users/michaelolson/.virtualenvs/NeuralNets/lib/python3.9/site-packages/keras/engine/training.py\", line 859, in train_step\n        y_pred = self(x, training=True)\n    File \"/Users/michaelolson/.virtualenvs/NeuralNets/lib/python3.9/site-packages/keras/utils/traceback_utils.py\", line 67, in error_handler\n        raise e.with_traceback(filtered_tb) from None\n    File \"/Users/michaelolson/.virtualenvs/NeuralNets/lib/python3.9/site-packages/keras/engine/input_spec.py\", line 264, in assert_input_compatibility\n        raise ValueError(f'Input {input_index} of layer \"{layer_name}\" is '\n\n    ValueError: Input 0 of layer \"sequential_1\" is incompatible with the layer: expected shape=(None, 8), found shape=(None, 28, 28)\n"
     ]
    }
   ],
   "source": [
    "# Create a function to build and compile the network\n",
    "def build_model(n_hidden=1, n_neurons=30, learning_rate=3e-3, input_shape=[8]):\n",
    "    model = keras.models.Sequential()\n",
    "    model.add(keras.layers.InputLayer(input_shape=input_shape))\n",
    "    for layer in range(n_hidden):\n",
    "        model.add(keras.layers.Dense(n_neurons, activation=\"relu\"))\n",
    "    model.add(keras.layers.Dense(1))\n",
    "    optimizer = keras.optimizers.SGD(lr=learning_rate)\n",
    "    model.compile(loss=\"mse\", optimizer=optimizer)\n",
    "    return model\n",
    "\n",
    "# Create a wrapper around Keras using the function we just created\n",
    "keras_reg = keras.wrappers.scikit_learn.KerasRegressor(build_model)\n",
    "\n",
    "# Use this wrapper like a regular Scikit-Learn Regressor\n",
    "#   Train using `fit()`\n",
    "#   Make predictions using `predict()`\n",
    "keras_reg.fit(X_train, y_train, epochs=100,\n",
    "              validation_data=(X_valid, y_valid),\n",
    "              callbacks=[keras.callbacks.EarlyStopping(patience=10)])\n",
    "mse_test = keras_reg.score(X_test, y_test)\n",
    "y_pred = keras_reg.predict(X_new)\n",
    "\n",
    "# Finally, set up the commands to run multiple models\n",
    "from scipy.stats import reciprocal\n",
    "from sklearn.model_selection import RandomizedSearchCV\n",
    "\n",
    "param_distribs = {\n",
    "    \"n_hidden\": [0, 1, 2, 3],\n",
    "    \"n_neurons\": np.arange(1, 100),\n",
    "    \"learning_rate\": reciprocal(3e-4, 3e-2),\n",
    "}\n",
    "\n",
    "rnd_search_cv = RandomizedSearchCV(keras_reg, param_distribs, n_iter=10, cv=3)\n",
    "rnd_search_cv.fit(X_train, y_train, epochs=100,\n",
    "                  validation_data=(X_valid, y_valid),\n",
    "                  callbacks=[keras.callbacks.EarlyStopping(patience=10)])"
   ]
  },
  {
   "cell_type": "markdown",
   "metadata": {},
   "source": [
    "-----\n",
    "## Vanishing/Exploding Gradients + Solutions\n",
    "Using the Sigmoid Function, results can get really close to 0 or to 1. These gradients could die away if the results are too close to either, which stops neurons from updating. These are known as __vanishing gradients__. There are some cases where gradients can keep increasing throughout the backpropagation process instead of decreasing. These are __exploding gradients__.\n",
    "\n",
    "Two solutions are to select the appropriate method for initializing weights and biases and to select a __nonsaturating activation function__.\n",
    "\n",
    "*Initializing functions*\n",
    "\n",
    "The __Glorot initialization__ initializes the weights and biases using either of these two options:\n",
    "1. A normal distribution with mean 0 and variance $\\sigma^2 = \\frac{1}{fan_{avg}}$\n",
    "2. A uniform distribution between $-r$ and $+r$ with $r=\\sqrt{\\frac{3}{fan_{avg}}}$\n",
    "\n",
    "* $fan_{in}$: number of inputs\n",
    "* $fan_{out}$: number of neurons\n",
    "* $fan_{avg} = \\frac{fan_{in} + fan_{out}}2$\n",
    "\n",
    "The __LeCun initialization__ uses the same method, using $fan_{in}$ instead of $fan_{avg}$. These initializing functions were first proposed in the 1990s, but took until the 2000s to realize how helpful they are. These initializations cut processing time significantly, and are one contribution to the success of Neural Networks in the 2010s.\n",
    "\n",
    "When creating a layer, the default is the `glorot_uniform` initializer. You can change the initializer as,"
   ]
  },
  {
   "cell_type": "code",
   "execution_count": null,
   "metadata": {},
   "outputs": [],
   "source": [
    "import tensorflow as tf\n",
    "from tensorflow import keras"
   ]
  },
  {
   "cell_type": "code",
   "execution_count": null,
   "metadata": {},
   "outputs": [],
   "source": [
    "keras.layers.Dense(10, kernel_initializer=\"lecun_normal\")\n",
    "keras.layers.Dense(10, kernel_initializer=\"he_normal\")\n",
    "keras.layers.Dense(10, kernel_initializer=\"he_uniform\")"
   ]
  },
  {
   "cell_type": "markdown",
   "metadata": {},
   "source": [
    "*Nonsaturating Activation Functions*\n",
    "Activation functions can cause problems as well. For example, the ReLU activation function causes the neuron to die if the weight function is continually negative. To solve this, we define new activation functions based on the ReLU:\n",
    "\n",
    "* Leaky ReLU\n",
    "$$\\sigma(z) = \\max(\\alpha z, z)$$\n",
    "<img src=\"https://learning.oreilly.com/api/v2/epubs/urn:orm:book:9781492032632/files/assets/mls2_1102.png\" width=250>\n",
    "\n",
    "* ELU (Exponential Linear Unit)\n",
    "$$\\sigma(z) = \\begin{cases}\n",
    "  \\alpha(e^z -1) & \\text{if } z<0 \\\\\n",
    "  z              & \\text{if } z>=0\n",
    "\\end{cases}$$\n",
    "<img src=\"https://learning.oreilly.com/api/v2/epubs/urn:orm:book:9781492032632/files/assets/mls2_1103.png\" width=250>\n",
    "\n",
    "* SELU (Scaled ELU)\n",
    "  * Self-Normalizes if:\n",
    "    * network is composed of exclusively dense layers, and \n",
    "    * all layers use the SELU activation function\n",
    "  * Will not self-normalize if using nonsequential architectures, such as Recurrent Networks and Wide and Deep Networks\n",
    "  * Input features must be standardized ($\\mu=0, \\sigma=1$) \n",
    "\n",
    "* PReLU (Parametric Leaky ReLU)\n",
    "* RReLU (Randomized Leaky ReLU)\n",
    "\n",
    "Each initialization works with particular activation functions:\n",
    "| Initialization | Activation functions | $\\sigma^2$ (Normal) |\n",
    "| :--- | :---: | :---: |\n",
    "| Glorot | None, tanh, logistic, softmax | $1 / fan_{avg}$ |\n",
    "| He | ReLU and variants | $2 / fan_{in}$ |\n",
    "| LeCun | SELU | $1 / fan_{in}$ |\n",
    "\n",
    "To use LeakyReLU, just create a Dense layer using the right initializer, followed by a LeakyReLU layer:"
   ]
  },
  {
   "cell_type": "code",
   "execution_count": null,
   "metadata": {},
   "outputs": [],
   "source": [
    "model = keras.models.Sequential()\n",
    "model.add(keras.layers.Dense(10, kernel_initializer=\"he_normal\"))\n",
    "model.add(keras.layers.LeakyReLU(alpha=0.2))"
   ]
  },
  {
   "cell_type": "markdown",
   "metadata": {},
   "source": [
    "Other initializations and nonsaturating activation functions can be called in the same line:"
   ]
  },
  {
   "cell_type": "code",
   "execution_count": null,
   "metadata": {},
   "outputs": [],
   "source": [
    "model.add(keras.layers.Dense(10, activation=\"selu\", kernel_initializer=\"lecun_normal\"))"
   ]
  },
  {
   "cell_type": "markdown",
   "metadata": {},
   "source": [
    "### Batch Normalization\n",
    "The new initializations and the nonsaturating activation functions do significantly help, but there is still a risk that vanishing/exploding gradients come up in the middle of training. To prevent them from returning, we use __Batch Normalization__, which takes the mean and standard deviation of each input from a batch, and standardizes it:\n",
    "$$\\mathbf{\\mu}_B = \\frac 1{m_B}\\sum_{i=1}^{m_B} \\mathbf{x}^{(i)} \\qquad\\qquad \\mathbf{\\sigma}_B^2 = \\frac 1{m_B}\\sum_{i=1}^{m_B}\\left(\\mathbf{x}^{(i)} - \\mathbf{\\mu}_B\\right)^2 \\qquad\\qquad \\hat{\\mathbf{x}}^{(i)} = \\frac{\\mathbf{x}^{(i)} - \\mathbf{\\mu}_B}{\\sqrt{\\mathbf{\\sigma}_B^2 + \\epsilon}} \\qquad\\qquad \\mathbf{z}^{(i)} = \\mathbf{\\gamma}\\otimes \\hat{\\mathbf{x}}^{(i)} + \\mathbf{\\beta}$$\n",
    "\n",
    "* $\\mathbf{\\mu}_B$: Vector of input means from the batch\n",
    "* $\\mathbf{\\sigma}_B$: Vector of input standard deviations from the batch\n",
    "* $m_B$: number of instances in mini-batch\n",
    "* $\\mathbf{x}^{(i)}$: vector of inputs for instance $i$\n",
    "* $\\hat{\\mathbf{x}}^{(i)}$: vector of zero-centered and normalized inputs for instance $i$\n",
    "* ...other variables described in text"
   ]
  },
  {
   "cell_type": "code",
   "execution_count": null,
   "metadata": {},
   "outputs": [],
   "source": [
    "model.add(keras.layers.Dense(10, activation=\"softmax\"))\n"
   ]
  },
  {
   "cell_type": "markdown",
   "metadata": {},
   "source": [
    "### Other methods for vanishing/exploding gradients\n",
    "* Gradient clipping\n",
    "\n",
    "-----\n",
    "## Reusing Pretrained Layers / Transfer Learning\n",
    "We can save trained networks to use later. We can either use the full network or, if the question B is similar to model A, then we can use parts of model A to create a new DNN for question B."
   ]
  },
  {
   "cell_type": "code",
   "execution_count": null,
   "metadata": {},
   "outputs": [],
   "source": [
    "##  Step 1:  Load model A\n",
    "model_A = keras.models.load_model(\"model_A.h5\")\n",
    "\n",
    "##  Step 2:  Add desired layer(s) to model B\n",
    "model_B = keras.models.Sequential(model_A.layers[:-1])      # Add layers from A to B\n",
    "model_B.add(keras.layers.Dense(1, activation=\"sigmoid\"))    # New Output Layer\n",
    "\n",
    "##  Step 3:  (Optional) Clone model A\n",
    "    ##  If you use layers from A directly in B, then training B may retrain layers in A\n",
    "    ##  Normally, this isn't a problem\n",
    "    ##  If you want to reuse layers from A later, then we need a fresh copy of those layers\n",
    "##  Copy both the model and the weights\n",
    "model_A_clone = keras.models.clone_model(model_A)\n",
    "model_A_clone.set_weights(model_A.get_weights())\n",
    "\n",
    "##  Step 4:  Freeze layers you don't want changed\n",
    "for layer in model_B.layers[:-1]:\n",
    "    layer.trainable = False         # Freezes the layer\n",
    "    #layer.trainable = True         # Unfreezes the layer\n",
    "\n",
    "##  Step 5:  Recompile and run\n",
    "    ##  Be sure to compile the model every time to freeze or unfreeze layers\n",
    "model_B.compile(loss=\"binary_crossentropy\", optimizer=\"sgd\", metrics=[\"accuracy\"])\n",
    "\n",
    "history = model_B.fit(X_train_B, y_train_B, epochs=4, validation_data=(X_valid_B, y_valid_B))\n",
    "\n",
    "for layer in model_B.layers[:-1]:\n",
    "    layer.trainable = True\n",
    "\n",
    "optimizer = keras.optimizers.SGD(lr=1e-4) # the default lr is 1e-2\n",
    "model_B.compile(loss=\"binary_crossentropy\", optimizer=optimizer, metrics=[\"accuracy\"])\n",
    "history = model_B.fit(X_train_B, y_train_B, epochs=16, validation_data=(X_valid_B, y_valid_B))\n",
    "\n",
    "##  Step 6:  Evaluate\n",
    "model_B.evaluate(X_test_B, y_test_B)"
   ]
  },
  {
   "cell_type": "markdown",
   "metadata": {},
   "source": [
    "-----\n",
    "## Unsupervised Pretraining\n",
    "What if you don't have enough labelled data? \n",
    "* Use unlabelled data to train hidden layers\n",
    "* Use labelled data to train output layers\n",
    "\n",
    "This technique, when revealed in 2006, is what led to the revival of neural networks and the success of Deep Learning. At first, people used the *greedy layer-wise pretraining* technique due to the difficulty of training deep models.\n",
    "* Train a layer (typically Restricted Boltzmann Machines (RBMs))\n",
    "* Freeze it\n",
    "* Add another layer on top of that and train it\n",
    "* Freeze the new layer\n",
    "* ... continue until you have trained all your layers ...\n",
    "* Add an output layer, and use your labelled data to train it\n",
    "\n",
    "<img src=\"https://learning.oreilly.com/api/v2/epubs/urn:orm:book:9781492032632/files/assets/mls2_1105.png\" width=50%>\n",
    "\n",
    "-----\n",
    "## Faster optimizers\n",
    "How have we sped up our training?\n",
    "1. Apply a good initialization strategy for the connection weights\n",
    "2. Use a nonsaturating activation function to prevent vanishing/exploding gradients\n",
    "3. Use Batch Normalization\n",
    "4. Reuse parts of a pretrained network\n",
    "\n",
    "We can also use different optimizers. So far, we have only used the *Stochastic Gradient Descent* (SGD). This takes small, consistent steps toward the solution. But what if we vary the step size?\n",
    "\n",
    "### Stochastic Gradient Descent (SGD)\n",
    "The weights $\\theta$ are decreased by a gradient of the cost function $J(\\theta)$ at some learning rate:\n",
    "$$\\theta \\leftarrow \\theta - \\eta\\nabla_\\theta J(\\theta)$$\n",
    "\n",
    "where $\\eta$ is a learning rate.\n",
    "\n",
    "### Momentum Optimization\n",
    "Slow start, but quickly speeds up to some terminal velocity. We do this by introducing a __momentum vector__:\n",
    "$$\\mathbf{m} \\leftarrow \\beta\\mathbf{m} - \\eta\\nabla_\\theta J(\\theta) \\qquad\\qquad \\theta \\leftarrow \\theta + \\mathbf{m}$$\n",
    "\n",
    "where $\\beta$ is a hyperparameter to limit how high $\\mathbf{m}$ can be, and has a value between 0 (high friction) and 1 (no friction). $\\beta=0.9$ is a typical value.\n",
    "\n",
    "The terminal velocity would be,\n",
    "$$\\frac{\\eta\\nabla_\\theta J(\\theta)}{1-\\beta}$$\n",
    "\n",
    "If $\\beta=0.9$, then the terminal velocity is 10 times the gradient times the learning rate. That means this can be 10 times faster than SGD."
   ]
  },
  {
   "cell_type": "code",
   "execution_count": null,
   "metadata": {},
   "outputs": [],
   "source": [
    "optimizer = keras.optimizers.SGD(lr=0.001, momentum=0.9)"
   ]
  },
  {
   "cell_type": "markdown",
   "metadata": {},
   "source": [
    "### Nesterov Accelerated Gradient (NAG)\n",
    "A variant of the momentum optimization, which is almost always faster. In the NAG method, we measure the gradient of the cost function slightly ahead in the direction of the momentum.\n",
    "$$\\mathbf{m} \\leftarrow \\beta\\mathbf{m} - \\eta\\nabla_\\theta J(\\theta + \\beta\\mathbf{m}) \\qquad\\qquad \\theta \\leftarrow \\theta + \\mathbf{m}$$\n",
    "\n",
    "<img src=\"https://learning.oreilly.com/api/v2/epubs/urn:orm:book:9781492032632/files/assets/mls2_1106.png\" width=50%>"
   ]
  },
  {
   "cell_type": "code",
   "execution_count": null,
   "metadata": {},
   "outputs": [],
   "source": [
    "optimizer = keras.optimizers.SGD(lr=0.001, momentum=0.9, nesterov=True)"
   ]
  },
  {
   "cell_type": "markdown",
   "metadata": {},
   "source": [
    "### AdaGrad\n",
    "The Gradient Descent always points down the steepest slope. However, this doesn't always point to the center. The AdaGrad algorithm scales down the gradient vector along the steepest dimensions\n",
    "$$\\mathbf{s} \\leftarrow \\mathbf{s} + \\nabla_\\theta J(\\theta) \\otimes \\nabla_\\theta J(\\theta) \\qquad \\qquad \\theta\\leftarrow\\theta - \\eta\\nabla_\\theta J(\\theta)\\oslash \\sqrt{\\mathbf{s}+\\epsilon}$$\n",
    "\n",
    "Notation:\n",
    "* $\\otimes$ is element-wise multiplication\n",
    "* $\\oslash$ is element-wise division\n",
    "* $\\mathbf{s}$ is the square of the gradients\n",
    "* $\\epsilon$ is a smoothing term to avoid division by zero\n",
    "\n",
    "<img src=\"https://learning.oreilly.com/api/v2/epubs/urn:orm:book:9781492032632/files/assets/mls2_1107.png\" width=50%>\n",
    "\n",
    "This optimizer works well for simple quadratic problems, but can sometimes stop too early in training. This may not be a good option for DNNs.\n",
    "\n",
    "### RMSProp\n",
    "RMSProp resolves the issues in AdaGrad by using an exponential decay in the first step:\n",
    "$$\\mathbf{s} \\leftarrow \\beta \\mathbf{s} + (1-\\beta)\\nabla_\\theta J(\\theta) \\otimes \\nabla_\\theta J(\\theta) \\qquad \\qquad \\theta\\leftarrow\\theta - \\eta\\nabla_\\theta J(\\theta)\\oslash \\sqrt{\\mathbf{s}+\\epsilon}$$"
   ]
  },
  {
   "cell_type": "code",
   "execution_count": null,
   "metadata": {},
   "outputs": [],
   "source": [
    "optimizer = keras.optimizers.RMSprop(lr=0.001, rho=0.9)"
   ]
  },
  {
   "cell_type": "markdown",
   "metadata": {},
   "source": []
  }
 ],
 "metadata": {
  "kernelspec": {
   "display_name": "Python 3 (ipykernel)",
   "language": "python",
   "name": "python3"
  },
  "language_info": {
   "codemirror_mode": {
    "name": "ipython",
    "version": 3
   },
   "file_extension": ".py",
   "mimetype": "text/x-python",
   "name": "python",
   "nbconvert_exporter": "python",
   "pygments_lexer": "ipython3",
   "version": "3.9.14"
  }
 },
 "nbformat": 4,
 "nbformat_minor": 2
}

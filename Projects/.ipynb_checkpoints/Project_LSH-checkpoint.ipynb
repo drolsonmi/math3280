{
 "cells": [
  {
   "cell_type": "markdown",
   "id": "c527d315-432f-4511-a219-af1ed30d5c0f",
   "metadata": {},
   "source": [
    "# MATH 3280 - Locality Sensitive Hashing Project\n",
    "You want to travel to another country, but you aren't keen on the idea of eating strange food. So, you decide to use Locality Sensitive Hashing to compare what countries have similar tastes in food. You are provided data on food consumption in a variety of countries. \n",
    "* [food_consumption.csv](https://raw.githubusercontent.com/drolsonmi/math3280/master/Projects/food_consumption.csv)\n",
    "\n",
    "Use Locality Sensitive Hashing (LSH) to find similarities between the different food categories.\n",
    "1. Import the data and use `pd.pivot_table()` to create a table whose indices are the food category, columns are the countries, and values are the consumption of each category\n",
    "   * Normalize each column\n",
    "      * This will eliminate large differences in consumption rates between countries due to factors such as population\n",
    "      * The result will be a value between 0 and 1, indicating how high a certain food is consumed in a country compared to other foods. For example,\n",
    "        * if a food's consumption is close to 0 (for example, around 0.05), its consumption is low compared to others\n",
    "        * if another food's consumption is close to 1 (for example, around 0.90), then that food's consumption is higher compared to others\n",
    "2. Turn values in the table into 1's if the normalized consumption $\\ge 0.50$ and into 0's if the normalized consumption $<0.50$\n",
    "3. Create a Python function that will return the result of a minhash function\n",
    "4. Create a signature matrix by running 250 minhash functions\n",
    "  * Hint: you can just use a random number generator to create the minhash functions\n",
    "5. Take the first band of 5 rows of the signature matrix\n",
    "6. Determine your candidate pairs from this first band\n",
    "7. Find the Jaccard Similarity of the full signatures for your candidate pairs\n",
    "\n",
    "Questions:\n",
    "1. How many food categories are we working with? How many countries?\n",
    "2. What countries have the highest Jaccard similarity?\n",
    "3. What foods do you see these countries eat?\n",
    "4. Is there any connection between these countries?\n",
    "5. For this dataset, we could have done a similarity test without LSH. When would LSH become a lot more useful?"
   ]
  },
  {
   "cell_type": "code",
   "execution_count": null,
   "id": "a337ecc7-48cf-4162-bafe-01d09e25194e",
   "metadata": {},
   "outputs": [],
   "source": []
  }
 ],
 "metadata": {
  "kernelspec": {
   "display_name": "Python 3 (ipykernel)",
   "language": "python",
   "name": "python3"
  },
  "language_info": {
   "codemirror_mode": {
    "name": "ipython",
    "version": 3
   },
   "file_extension": ".py",
   "mimetype": "text/x-python",
   "name": "python",
   "nbconvert_exporter": "python",
   "pygments_lexer": "ipython3",
   "version": "3.10.9"
  }
 },
 "nbformat": 4,
 "nbformat_minor": 5
}

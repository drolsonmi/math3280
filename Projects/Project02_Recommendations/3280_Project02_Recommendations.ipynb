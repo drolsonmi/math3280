{
 "cells": [
  {
   "cell_type": "markdown",
   "metadata": {},
   "source": [
    "# MATH 3280 - Project 2: Movie Recommendations"
   ]
  },
  {
   "cell_type": "markdown",
   "metadata": {},
   "source": [
    "In this project, we are going to create a recommendation system for movies based on movie genres.\n",
    "\n",
    "You have access to three datasets showing movie ratings. You can find the data here:\n",
    "* https://github.com/wesm/pydata-book/tree/3rd-edition/datasets/movielens\n",
    "* Either download the files to load them into your program, or you can load them directly from their websites:\n",
    "  * Movie Data: https://raw.githubusercontent.com/wesm/pydata-book/3rd-edition/datasets/movielens/movies.dat\n",
    "  * Ratings Data: https://raw.githubusercontent.com/wesm/pydata-book/3rd-edition/datasets/movielens/ratings.dat\n",
    "  * User Data: https://raw.githubusercontent.com/wesm/pydata-book/3rd-edition/datasets/movielens/users.dat\n",
    "* Documentation for these datasets is in README.md file: https://github.com/wesm/pydata-book/blob/3rd-edition/datasets/movielens/README\n",
    "\n",
    "Use these documents to create a recommendation system for new users. You may need some tools from MATH 3080, including:\n",
    "* Loading DataFrames\n",
    "* One-hot Encoding\n",
    "\n",
    "Test your recommendation system on two new users with the ratings in the following file (same format as in ‘ratings.dat’):\n",
    "* (file coming soon...)\n",
    "\n",
    "This project can be completed in groups. Please include the names of all members of the group in the code box below."
   ]
  },
  {
   "cell_type": "code",
   "execution_count": null,
   "metadata": {
    "vscode": {
     "languageId": "plaintext"
    }
   },
   "outputs": [],
   "source": [
    "# Name(s)\n",
    "#  1. \n",
    "#  2. \n",
    "#  3. "
   ]
  },
  {
   "cell_type": "markdown",
   "metadata": {},
   "source": []
  }
 ],
 "metadata": {
  "language_info": {
   "name": "python"
  }
 },
 "nbformat": 4,
 "nbformat_minor": 2
}

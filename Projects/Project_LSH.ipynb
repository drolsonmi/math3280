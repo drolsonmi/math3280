{
 "cells": [
  {
   "cell_type": "markdown",
   "id": "c527d315-432f-4511-a219-af1ed30d5c0f",
   "metadata": {},
   "source": [
    "# MATH 3280 - Locality Sensitive Hashing Project\n",
    "\n",
    "You are provided data on food consumption in a variety of countries. \n",
    "* [food_consumption.csv](https://raw.githubusercontent.com/drolsonmi/math3280/master/Projects/food_consumption.csv)\n",
    "\n",
    "The goal of this project is to use Locality Sensitive Hashing (LSH) to find similarities between the different food categories.\n",
    "1. Import the data and use `pd.pivot_table()` to create a table whose indices are the country, columns are the food category, and values are the consumption of each category\n",
    "   * Normalize each column\n",
    "   * Turn values into 1's if normalized consumption $\\ge 0.50$ and 0's if normalized consumption $<0.50$\n",
    "2. Create a function that will return the result of a minhash function\n",
    "3. Create a signature matrix by running the minhash function 250 times\n",
    "4. Take every 3 rows of the signature matrix as groups for your signature matrix\n",
    "5. Take the columns with similar signatures and calculate the Jaccard similarity of those columns\n",
    "\n",
    "Questions:\n",
    "1. How many food categories are we working with? How many countries?\n",
    "2. What food category pairs have the highest Jaccard similarity?\n",
    "3. What countries do you see that use these foods?\n",
    "4. Is there any connection between these countries?\n",
    "5. For this dataset, we could have done a similarity test without LSH. When would LSH become a lot more useful?"
   ]
  },
  {
   "cell_type": "code",
   "execution_count": null,
   "id": "a337ecc7-48cf-4162-bafe-01d09e25194e",
   "metadata": {},
   "outputs": [],
   "source": []
  }
 ],
 "metadata": {
  "kernelspec": {
   "display_name": "Python 3 (ipykernel)",
   "language": "python",
   "name": "python3"
  },
  "language_info": {
   "codemirror_mode": {
    "name": "ipython",
    "version": 3
   },
   "file_extension": ".py",
   "mimetype": "text/x-python",
   "name": "python",
   "nbconvert_exporter": "python",
   "pygments_lexer": "ipython3",
   "version": "3.10.9"
  }
 },
 "nbformat": 4,
 "nbformat_minor": 5
}

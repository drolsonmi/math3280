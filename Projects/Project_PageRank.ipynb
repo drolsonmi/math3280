{
 "cells": [
  {
   "cell_type": "markdown",
   "metadata": {},
   "source": [
    "# MATH 3280 - Project 2\n",
    "\n",
    "The book one of *Game of Thrones* has 187 different characters. Assume I have never read this book, and that I want to know the most important character of the book. I could do this by simply finding which character is mentioned the most in the book. But just because they are mentioned a lot doesn't necessarily mean they are the most important.\n",
    "\n",
    "So, let's try to identify the most important character using PageRank. The following dataset looks at the number of characters mentioned in the book (\"Source\") and any characters mentioned within 15 words (\"Target\") after the Source character is mentioned, and the number of times this link occurs (\"weight\").\n",
    "* [https://raw.githubusercontent.com/drolsonmi/math3280/master/Projects/GameOfThrones1.csv](https://raw.githubusercontent.com/drolsonmi/math3280/master/Projects/GameOfThrones1.csv)\n",
    "\n",
    "Follow the principles we learned about PageRank in class in order to solve this question. Using Jupyter Notebook, write a paper with your results. Format your paper to look something like the information on this page (You don't need graphs unless they help answer the questions):\n",
    "* [PageRank: Link Analysis Explanation and Python Implementation from Scratch, *Towards Data Science*](https://towardsdatascience.com/pagerank-3c568a7d2332)\n",
    "\n",
    "Include information on the following:\n",
    "* How PageRank works\n",
    "* How you are going to apply it to answer this question\n",
    "* Are there any Dead Ends?\n",
    "* Are there any Spider Traps?\n",
    "* Conclusion"
   ]
  },
  {
   "cell_type": "code",
   "execution_count": null,
   "metadata": {},
   "outputs": [],
   "source": []
  }
 ],
 "metadata": {
  "language_info": {
   "name": "python"
  },
  "orig_nbformat": 4
 },
 "nbformat": 4,
 "nbformat_minor": 2
}
